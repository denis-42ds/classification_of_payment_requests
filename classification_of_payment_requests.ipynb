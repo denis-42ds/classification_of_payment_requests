{
  "cells": [
    {
      "cell_type": "markdown",
      "id": "fafc79b1-7618-4579-a88e-f9ed24059363",
      "metadata": {
        "id": "fafc79b1-7618-4579-a88e-f9ed24059363"
      },
      "source": [
        "# Построение ML-продукта для оптимизации классификации заявок на оплату для сервиса Repetit.ru\n",
        "\n",
        "**Описание проекта**\n",
        "<br>Сервис Repetit.ru работает с большим количеством заявок от клиентов с данными о предмете,\n",
        "<br>желаемой стоимости, возрасте ученика, целью занятий и тд.\n",
        "<br>К сожалению, 7 из 8 не доходят до оплаты, при этом обработка заявки консультантом увеличивает конверсию в оплату на 30%.\n",
        "<br>Проблема в том, что консультантов не хватает на все заявки и получается, что чем больше заявок —\n",
        "<br>тем меньше конверсия из заявки в оплату и консультанты тратят время на бесперспективные заявки.\n",
        "\n",
        "**Цель:**\n",
        "- Сократить загрузку отдела консультантов на 30%\n",
        "- Увеличить конверсию в оплату на 15 п.п. через сегментацию заявок по вероятности их оплаты\n",
        "\n",
        "**Задачи:**\n",
        "<br>Разработать модель, которая по имеющейся информации о клиенте и заявке будет предсказывать вероятность оплаты заявки клиентом.\n",
        "<br>Заказчик хочет понять, какие заявки будут оплачены, а какие нет, чтобы одни обрабатывать вручную консультантами, а другие нет.\n",
        "<br>Оценка качества модели будет производиться с использованием `precision` и `ROC-AUC`.\n",
        "\n",
        "**Целевые метрики (пожелания от заказчика)**\n",
        "- 50-75% от общего объёма заявок можно будет не обрабатывать, так как они не будут оплачены\n",
        "- обозначение топ 5-25% заявок, которым нужно отдать максимальный приоритет\n",
        "- допускается, что модель будет показывать больше заявок как хороших, чем на самом деле (ошибка precision оплаченных заявок)\n",
        "- не допускается, что модель относит потенциально оплаченные заявки к плохим заявкам (низкая precision неоплаченных заявок)\n",
        "\n",
        "Данные для 0 (неоплачено) и 1 (оплачено) классов.\n",
        "<br>`recall`, например, для оплаченных заявок показывает процент предсказанных как оплаченные от всех истинно оплаченных заявок. <br>`f1-score` это некий баланс между `precision` и `recall`.\n",
        "<br>А `support` - кол-во наблюдений отнесенных к тому или иному классу.\n",
        "\n",
        "|class|precision|recall|f1-score|support|\n",
        "|--:|--:|--:|--:|--:|\n",
        "|0|0.89|1.00|0.94|187629|\n",
        "|1|0.50|0.02|0.04|24097|\n",
        "\n",
        "**Ход исследования:**\n",
        "- загрузка данных и ознакомление с ними,\n",
        "- отбор подходящих признаков,\n",
        "- EDA,\n",
        "- создание новых признаков (при необходимости),\n",
        "- отбор финального набора обучающих признаков,\n",
        "- выбор и обучение моделей (разных архитектур),\n",
        "- оценка качества предсказания лучшей модели на тестовой выборке,\n",
        "- анализ важности признаков лучшей модели,\n",
        "- создание сервиса в виде Docker Container,\n",
        "- отчёт по проведённому исследованию.\n",
        "\n",
        "**Описание данных**\n",
        "- Заявки (orders*.csv)\n",
        "  - order_date - дата создания\n",
        "  - subject_id - предмет\n",
        "  - purpose - цель занятий\n",
        "  - lesson_price - цена\n",
        "  - lesson_duration - желаемая проодолжительность урока\n",
        "  - home_metro_id - ближайшее метро\n",
        "  - add_info - доп инфо\n",
        "  - start_date\n",
        "  - working_teacher_id\n",
        "  - status_id - оплачена ли заявка (значения 6 и 13 - факт оплаты заявки, значения 5 и 15 - частичная оплата)\n",
        "  - comments   \n",
        "  - amount_to_pay\n",
        "  - planned_lesson_number - клиент планирует N занятий\n",
        "  - first_lesson_date - дата 1 занятия\n",
        "  - coef - коэффициент\n",
        "  - creator_id - кто создал заявку (id сотрудника или клиента)\n",
        "  - pupil_category_new_id - возраст ученика\n",
        "  - lessons_per_week - занятий а неделю\n",
        "  - minimal_price\n",
        "  - teacher_sex - пол репетитора\n",
        "  - teacher_experience_from - опыт репетитора от\n",
        "  - teacher_experience_to- опыт репетитора до\n",
        "  - lesson_place_new - онлайн, у ученика, у учителя\n",
        "  - pupil_knowledgelvl -уровень знаний ученика\n",
        "  - teacher_age_from - желаемый возраст репеитора от\n",
        "  - teacher_age_to - желаемый возраст репеитора от\n",
        "  - chosen_teachers_only - не предлагать репетиторов кроме выбранных самостоятельно\n",
        "  - no_teachers_available - на заявку нет подходящих репов\n",
        "  - source_id - где создана заявка (какая часть сайта, не регион)\n",
        "  - original_order_id - дублем какой заявки является эта заявка\n",
        "  - client_id - айди клиента\n",
        "  - additional_status_id\n",
        "  - max_metro_distance - максимально готов ехать от метро\n",
        "  - estimated_fee\n",
        "  - payment_date\n",
        "  - test_group - аб тесты\n",
        "  - is_display_to_teachers - хочет ли клиент получать отклики репетиторов\n",
        "\n",
        "- Репетиторы (teacher_info.csv)\n",
        "  - date_update\n",
        "  - reg_date\n",
        "  - birth_date\n",
        "  - teaching_start_date\n",
        "  - user_id - айди\n",
        "  - is_email_confirmed\n",
        "  - is_home_lessons\n",
        "  - is_external_lessons\n",
        "  - external_comments\n",
        "  - lesson_duration - продолжит урока\n",
        "  - lesson_cost - стоимость урока\n",
        "  - status_id\n",
        "  - status_relevant_date\n",
        "  - status_school_id\n",
        "  - status_college_id\n",
        "  - status_display\n",
        "  - russian_level_id\n",
        "  - home_country_id\n",
        "  - education\n",
        "  - information\n",
        "  - is_confirmed\n",
        "  - is_display - показывается в каталоге\n",
        "  - rating_id\n",
        "  - rating - рейтинг\n",
        "  - comments\n",
        "  - rules_confirmed_date\n",
        "  - last_visited - послеждний визит\n",
        "  - is_pupils_needed - открыт для заявок\n",
        "  - is_cell_phone_confirmed\n",
        "  - effective_rating - какой-то еще рейтинг\n",
        "  - area_id\n",
        "  - registrar_id\n",
        "  - pupil_needed_date\n",
        "  - sex\n",
        "  - amount_to_pay - долг\n",
        "  - is_remote_lessons\n",
        "  - remote_comments\n",
        "  - show_on_map\n",
        "  - send_mailing\n",
        "  - send_suitable_orders\n",
        "  - rating_for_users - рейтинг 2\n",
        "  - rating_for_admin - рейтинг 3\n",
        "  - passport_id\n",
        "  - is_edited\n",
        "  - orders_allowed - разрешено назначать на заявки\n",
        "  - display_days\n",
        "  - verification_status_id\n",
        "  - is_individual\n",
        "  - partner_id\n",
        "  - star_rating - рейтинг 4\n",
        "  - rating_for_users_yesterday - рейтинг вчера\n",
        "  - review_num - отзывы\n",
        "  - relevance_date\n",
        "  - is_display_at_partners\n",
        "  - video_presentation_id - есть видеопрезентация\n",
        "  - status_institution_id\n",
        "  - Free_time_relevance_date\n",
        "\n",
        "\n",
        "- Подходящие по фильтру репетиторы (suitable_teachers.csv)\n",
        "  - tteacher_id - id репетитора\n",
        "  - order_id - id заявки\n",
        "  - contact_result    \n",
        "  - enable_auto_assign - доступен ли репетитор к работе или заблокирован\n",
        "    <br>(может ли репетитора назначить консультант и может ли он сам назначиться)\n",
        "    <br>(значение известно на момент подачи заявки)\n",
        "  - enable_assign - доступен ли репетитор к работе или заблокирован\n",
        "    <br>(может ли репетитора назначить консультант и может ли он сам назначиться)\n",
        "    <br>(значение известно на момент подачи заявки)\n",
        "\n",
        "\n",
        "- Желаемые репетиторы (prefered_teachers_order_id.csv)\n",
        "  <br>Репетиторы, которых выбрал клиент.\n",
        "  - tteacher_id - id репетитора\n",
        "  - order_id - id заявки"
      ]
    },
    {
      "cell_type": "markdown",
      "id": "d190daae-10d5-4ff4-91ee-491fe808ce6f",
      "metadata": {
        "id": "d190daae-10d5-4ff4-91ee-491fe808ce6f"
      },
      "source": [
        "## Настройка рабочей среды"
      ]
    },
    {
      "cell_type": "code",
      "source": [
        "# !pip install phik"
      ],
      "metadata": {
        "id": "KXrUXiXGca8b"
      },
      "id": "KXrUXiXGca8b",
      "execution_count": 201,
      "outputs": []
    },
    {
      "cell_type": "code",
      "execution_count": 202,
      "id": "bcf86d0b-8897-4f36-8e19-d87476be2fc5",
      "metadata": {
        "id": "bcf86d0b-8897-4f36-8e19-d87476be2fc5"
      },
      "outputs": [],
      "source": [
        "# import shap\n",
        "import phik\n",
        "# import torch\n",
        "import random\n",
        "import warnings\n",
        "import numpy as np\n",
        "import pandas as pd\n",
        "import seaborn as sns\n",
        "# import lightgbm as lgb\n",
        "import matplotlib.pyplot as plt\n",
        "\n",
        "# from catboost import CatBoostClassifier, Pool\n",
        "from phik.report import plot_correlation_matrix\n",
        "# from sklearn.linear_model import LogisticRegression\n",
        "# from sklearn.model_selection import train_test_split\n",
        "# from sklearn.preprocessing import OrdinalEncoder, StandardScaler\n",
        "# from sklearn.metrics import roc_curve, roc_auc_score, precision_score\n",
        "\n",
        "warnings.filterwarnings(\"ignore\", category=UserWarning)"
      ]
    },
    {
      "cell_type": "markdown",
      "id": "aBOn5-PDp5vM",
      "metadata": {
        "id": "aBOn5-PDp5vM"
      },
      "source": [
        "Монтирование диска (Google Colab)"
      ]
    },
    {
      "cell_type": "code",
      "execution_count": 2,
      "id": "rlYOwZxDp6Cc",
      "metadata": {
        "colab": {
          "base_uri": "https://localhost:8080/"
        },
        "id": "rlYOwZxDp6Cc",
        "outputId": "16ff33d5-5f59-468c-e31f-114627d9f35c"
      },
      "outputs": [
        {
          "output_type": "stream",
          "name": "stdout",
          "text": [
            "Mounted at /content/drive\n"
          ]
        }
      ],
      "source": [
        "from google.colab import userdata\n",
        "from google.colab import drive\n",
        "drive.mount('/content/drive')"
      ]
    },
    {
      "cell_type": "markdown",
      "id": "462e4196-c967-47ec-8765-42cb78595cc2",
      "metadata": {
        "id": "462e4196-c967-47ec-8765-42cb78595cc2"
      },
      "source": [
        "Подключение к GPU"
      ]
    },
    {
      "cell_type": "code",
      "execution_count": 3,
      "id": "4c9385bd-8c3d-4328-9760-68ae2f8466a3",
      "metadata": {
        "id": "4c9385bd-8c3d-4328-9760-68ae2f8466a3"
      },
      "outputs": [],
      "source": [
        "# device = torch.device(\"cuda\" if torch.cuda.is_available() else \"cpu\")"
      ]
    },
    {
      "cell_type": "markdown",
      "id": "abac2610-e8d8-4ad0-9dd3-57e796575ef0",
      "metadata": {
        "id": "abac2610-e8d8-4ad0-9dd3-57e796575ef0"
      },
      "source": [
        "Установка констант"
      ]
    },
    {
      "cell_type": "code",
      "execution_count": 4,
      "id": "e0347b25-266c-4f9a-8c18-bf087221661f",
      "metadata": {
        "id": "e0347b25-266c-4f9a-8c18-bf087221661f"
      },
      "outputs": [],
      "source": [
        "RANDOM_STATE = 42"
      ]
    },
    {
      "cell_type": "markdown",
      "id": "1b807ba0-fe1c-41a8-bb40-4b08ccce8d51",
      "metadata": {
        "id": "1b807ba0-fe1c-41a8-bb40-4b08ccce8d51"
      },
      "source": [
        "Установка `random_state`"
      ]
    },
    {
      "cell_type": "code",
      "execution_count": 5,
      "id": "3f25f699-33f3-4629-b01c-17491e229016",
      "metadata": {
        "id": "3f25f699-33f3-4629-b01c-17491e229016"
      },
      "outputs": [],
      "source": [
        "random.seed(RANDOM_STATE)\n",
        "np.random.seed(RANDOM_STATE)"
      ]
    },
    {
      "cell_type": "markdown",
      "id": "bf35ad81-4b4e-491b-9fe5-7d811bb61a90",
      "metadata": {
        "id": "bf35ad81-4b4e-491b-9fe5-7d811bb61a90"
      },
      "source": [
        "## Загрузка данных"
      ]
    },
    {
      "cell_type": "code",
      "execution_count": 149,
      "id": "791d7727-9507-4050-b7fc-9ddc1aef879b",
      "metadata": {
        "colab": {
          "base_uri": "https://localhost:8080/"
        },
        "id": "791d7727-9507-4050-b7fc-9ddc1aef879b",
        "outputId": "221bcaca-6c35-4100-ff40-197f88b6b595"
      },
      "outputs": [
        {
          "output_type": "stream",
          "name": "stdout",
          "text": [
            "загружено из каталога Google Drive\n"
          ]
        }
      ],
      "source": [
        "try:\n",
        "  orders = pd.read_feather('data/orders.feather')\n",
        "  teachers_info = pd.read_feather('data/teachers_info.feather')\n",
        "  suitable_teachers = pd.read_feather('data/suitable_teachers.feather')\n",
        "  prefered_teachers_order_id = pd.read_feather('data/prefered_teachers_order_id.feather')\n",
        "  print('загружено из каталога \"data\"')\n",
        "except:\n",
        "  orders = pd.read_feather(userdata.get('orders_path'))\n",
        "  teachers_info = pd.read_feather(userdata.get('teachers_info'))\n",
        "  suitable_teachers = pd.read_feather(userdata.get('suitable_teachers'))\n",
        "  prefered_teachers_order_id = pd.read_feather(userdata.get('preferred_teachers_order_id'))\n",
        "  print('загружено из каталога Google Drive')"
      ]
    },
    {
      "cell_type": "markdown",
      "id": "e207b8ff-7851-488e-9a77-0188c2ad903f",
      "metadata": {
        "id": "e207b8ff-7851-488e-9a77-0188c2ad903f"
      },
      "source": [
        "### Заявки"
      ]
    },
    {
      "cell_type": "code",
      "execution_count": 150,
      "id": "d94c2ed5-f070-477e-8840-963f539a1a95",
      "metadata": {
        "colab": {
          "base_uri": "https://localhost:8080/",
          "height": 981
        },
        "id": "d94c2ed5-f070-477e-8840-963f539a1a95",
        "outputId": "f627be9a-9ed6-4677-8948-854af73d99de"
      },
      "outputs": [
        {
          "output_type": "stream",
          "name": "stdout",
          "text": [
            "<class 'pandas.core.frame.DataFrame'>\n",
            "Int64Index: 1191861 entries, 0 to 437216\n",
            "Data columns (total 38 columns):\n",
            " #   Column                   Non-Null Count    Dtype  \n",
            "---  ------                   --------------    -----  \n",
            " 0   id                       1191861 non-null  int32  \n",
            " 1   order_date               1191861 non-null  object \n",
            " 2   subject_id               1181529 non-null  float32\n",
            " 3   purpose                  1025351 non-null  object \n",
            " 4   lesson_price             1191861 non-null  int32  \n",
            " 5   lesson_duration          1191861 non-null  int32  \n",
            " 6   lesson_place             31 non-null       object \n",
            " 7   home_metro_id            642447 non-null   float32\n",
            " 8   add_info                 1044688 non-null  object \n",
            " 9   start_date               705578 non-null   object \n",
            " 10  working_teacher_id       705988 non-null   float32\n",
            " 11  status_id                1191861 non-null  int32  \n",
            " 12  comments                 341468 non-null   object \n",
            " 13  prefered_teacher_id      4 non-null        float32\n",
            " 14  amount_to_pay            1191861 non-null  object \n",
            " 15  planned_lesson_number    1191861 non-null  int32  \n",
            " 16  first_lesson_date        166571 non-null   object \n",
            " 17  creator_id               579698 non-null   float32\n",
            " 18  pupil_category_new_id    1032470 non-null  float32\n",
            " 19  lessons_per_week         1191861 non-null  int32  \n",
            " 20  minimal_price            1191861 non-null  int32  \n",
            " 21  teacher_sex              1191861 non-null  int32  \n",
            " 22  teacher_experience_from  1191861 non-null  int32  \n",
            " 23  teacher_experience_to    1191861 non-null  int32  \n",
            " 24  lesson_place_new         1191861 non-null  int32  \n",
            " 25  pupil_knowledgelvl       1191861 non-null  int32  \n",
            " 26  teacher_age_from         1191861 non-null  int32  \n",
            " 27  teacher_age_to           1191861 non-null  int32  \n",
            " 28  chosen_teachers_only     1191861 non-null  int8   \n",
            " 29  no_teachers_available    1191861 non-null  int8   \n",
            " 30  source_id                1191861 non-null  int32  \n",
            " 31  original_order_id        582588 non-null   float32\n",
            " 32  client_id                1191861 non-null  int32  \n",
            " 33  additional_status_id     1042385 non-null  float32\n",
            " 34  max_metro_distance       13518 non-null    float32\n",
            " 35  estimated_fee            747152 non-null   object \n",
            " 36  payment_date             129665 non-null   object \n",
            " 37  is_display_to_teachers   1191861 non-null  int8   \n",
            "dtypes: float32(9), int32(16), int8(3), object(10)\n",
            "memory usage: 217.1+ MB\n"
          ]
        },
        {
          "output_type": "execute_result",
          "data": {
            "text/plain": [
              "             id               order_date  subject_id  \\\n",
              "415133  2258417  2022-10-13 22:20:30.867        16.0   \n",
              "\n",
              "                                                  purpose  lesson_price  \\\n",
              "415133  Разделы:  школьный курс.\\nДополнения: ОГЭ (ГИА...           700   \n",
              "\n",
              "        lesson_duration lesson_place  home_metro_id  \\\n",
              "415133               60         None            NaN   \n",
              "\n",
              "                                                 add_info  \\\n",
              "415133  Место проведения занятий: дистанционно (наприм...   \n",
              "\n",
              "                     start_date  ...  chosen_teachers_only  \\\n",
              "415133  2022-10-14 13:21:45.950  ...                     0   \n",
              "\n",
              "        no_teachers_available source_id  original_order_id client_id  \\\n",
              "415133                      0         8                NaN   1011950   \n",
              "\n",
              "        additional_status_id max_metro_distance  estimated_fee  payment_date  \\\n",
              "415133                  13.0                NaN           2450          None   \n",
              "\n",
              "        is_display_to_teachers  \n",
              "415133                       1  \n",
              "\n",
              "[1 rows x 38 columns]"
            ],
            "text/html": [
              "\n",
              "  <div id=\"df-3ee83acf-51fd-4791-b169-ee7d105144ce\" class=\"colab-df-container\">\n",
              "    <div>\n",
              "<style scoped>\n",
              "    .dataframe tbody tr th:only-of-type {\n",
              "        vertical-align: middle;\n",
              "    }\n",
              "\n",
              "    .dataframe tbody tr th {\n",
              "        vertical-align: top;\n",
              "    }\n",
              "\n",
              "    .dataframe thead th {\n",
              "        text-align: right;\n",
              "    }\n",
              "</style>\n",
              "<table border=\"1\" class=\"dataframe\">\n",
              "  <thead>\n",
              "    <tr style=\"text-align: right;\">\n",
              "      <th></th>\n",
              "      <th>id</th>\n",
              "      <th>order_date</th>\n",
              "      <th>subject_id</th>\n",
              "      <th>purpose</th>\n",
              "      <th>lesson_price</th>\n",
              "      <th>lesson_duration</th>\n",
              "      <th>lesson_place</th>\n",
              "      <th>home_metro_id</th>\n",
              "      <th>add_info</th>\n",
              "      <th>start_date</th>\n",
              "      <th>...</th>\n",
              "      <th>chosen_teachers_only</th>\n",
              "      <th>no_teachers_available</th>\n",
              "      <th>source_id</th>\n",
              "      <th>original_order_id</th>\n",
              "      <th>client_id</th>\n",
              "      <th>additional_status_id</th>\n",
              "      <th>max_metro_distance</th>\n",
              "      <th>estimated_fee</th>\n",
              "      <th>payment_date</th>\n",
              "      <th>is_display_to_teachers</th>\n",
              "    </tr>\n",
              "  </thead>\n",
              "  <tbody>\n",
              "    <tr>\n",
              "      <th>415133</th>\n",
              "      <td>2258417</td>\n",
              "      <td>2022-10-13 22:20:30.867</td>\n",
              "      <td>16.0</td>\n",
              "      <td>Разделы:  школьный курс.\\nДополнения: ОГЭ (ГИА...</td>\n",
              "      <td>700</td>\n",
              "      <td>60</td>\n",
              "      <td>None</td>\n",
              "      <td>NaN</td>\n",
              "      <td>Место проведения занятий: дистанционно (наприм...</td>\n",
              "      <td>2022-10-14 13:21:45.950</td>\n",
              "      <td>...</td>\n",
              "      <td>0</td>\n",
              "      <td>0</td>\n",
              "      <td>8</td>\n",
              "      <td>NaN</td>\n",
              "      <td>1011950</td>\n",
              "      <td>13.0</td>\n",
              "      <td>NaN</td>\n",
              "      <td>2450</td>\n",
              "      <td>None</td>\n",
              "      <td>1</td>\n",
              "    </tr>\n",
              "  </tbody>\n",
              "</table>\n",
              "<p>1 rows × 38 columns</p>\n",
              "</div>\n",
              "    <div class=\"colab-df-buttons\">\n",
              "\n",
              "  <div class=\"colab-df-container\">\n",
              "    <button class=\"colab-df-convert\" onclick=\"convertToInteractive('df-3ee83acf-51fd-4791-b169-ee7d105144ce')\"\n",
              "            title=\"Convert this dataframe to an interactive table.\"\n",
              "            style=\"display:none;\">\n",
              "\n",
              "  <svg xmlns=\"http://www.w3.org/2000/svg\" height=\"24px\" viewBox=\"0 -960 960 960\">\n",
              "    <path d=\"M120-120v-720h720v720H120Zm60-500h600v-160H180v160Zm220 220h160v-160H400v160Zm0 220h160v-160H400v160ZM180-400h160v-160H180v160Zm440 0h160v-160H620v160ZM180-180h160v-160H180v160Zm440 0h160v-160H620v160Z\"/>\n",
              "  </svg>\n",
              "    </button>\n",
              "\n",
              "  <style>\n",
              "    .colab-df-container {\n",
              "      display:flex;\n",
              "      gap: 12px;\n",
              "    }\n",
              "\n",
              "    .colab-df-convert {\n",
              "      background-color: #E8F0FE;\n",
              "      border: none;\n",
              "      border-radius: 50%;\n",
              "      cursor: pointer;\n",
              "      display: none;\n",
              "      fill: #1967D2;\n",
              "      height: 32px;\n",
              "      padding: 0 0 0 0;\n",
              "      width: 32px;\n",
              "    }\n",
              "\n",
              "    .colab-df-convert:hover {\n",
              "      background-color: #E2EBFA;\n",
              "      box-shadow: 0px 1px 2px rgba(60, 64, 67, 0.3), 0px 1px 3px 1px rgba(60, 64, 67, 0.15);\n",
              "      fill: #174EA6;\n",
              "    }\n",
              "\n",
              "    .colab-df-buttons div {\n",
              "      margin-bottom: 4px;\n",
              "    }\n",
              "\n",
              "    [theme=dark] .colab-df-convert {\n",
              "      background-color: #3B4455;\n",
              "      fill: #D2E3FC;\n",
              "    }\n",
              "\n",
              "    [theme=dark] .colab-df-convert:hover {\n",
              "      background-color: #434B5C;\n",
              "      box-shadow: 0px 1px 3px 1px rgba(0, 0, 0, 0.15);\n",
              "      filter: drop-shadow(0px 1px 2px rgba(0, 0, 0, 0.3));\n",
              "      fill: #FFFFFF;\n",
              "    }\n",
              "  </style>\n",
              "\n",
              "    <script>\n",
              "      const buttonEl =\n",
              "        document.querySelector('#df-3ee83acf-51fd-4791-b169-ee7d105144ce button.colab-df-convert');\n",
              "      buttonEl.style.display =\n",
              "        google.colab.kernel.accessAllowed ? 'block' : 'none';\n",
              "\n",
              "      async function convertToInteractive(key) {\n",
              "        const element = document.querySelector('#df-3ee83acf-51fd-4791-b169-ee7d105144ce');\n",
              "        const dataTable =\n",
              "          await google.colab.kernel.invokeFunction('convertToInteractive',\n",
              "                                                    [key], {});\n",
              "        if (!dataTable) return;\n",
              "\n",
              "        const docLinkHtml = 'Like what you see? Visit the ' +\n",
              "          '<a target=\"_blank\" href=https://colab.research.google.com/notebooks/data_table.ipynb>data table notebook</a>'\n",
              "          + ' to learn more about interactive tables.';\n",
              "        element.innerHTML = '';\n",
              "        dataTable['output_type'] = 'display_data';\n",
              "        await google.colab.output.renderOutput(dataTable, element);\n",
              "        const docLink = document.createElement('div');\n",
              "        docLink.innerHTML = docLinkHtml;\n",
              "        element.appendChild(docLink);\n",
              "      }\n",
              "    </script>\n",
              "  </div>\n",
              "\n",
              "    </div>\n",
              "  </div>\n"
            ]
          },
          "metadata": {},
          "execution_count": 150
        }
      ],
      "source": [
        "orders.info()\n",
        "orders.sample()"
      ]
    },
    {
      "cell_type": "code",
      "execution_count": 8,
      "id": "cf2be418-9417-4584-841d-854ce1ab80dc",
      "metadata": {
        "colab": {
          "base_uri": "https://localhost:8080/",
          "height": 622
        },
        "id": "cf2be418-9417-4584-841d-854ce1ab80dc",
        "outputId": "bac41218-aea2-49cd-a7a9-054adeb72a9d"
      },
      "outputs": [
        {
          "output_type": "display_data",
          "data": {
            "text/plain": [
              "<Figure size 640x480 with 2 Axes>"
            ],
            "image/png": "[encoded data removed]"
          },
          "metadata": {}
        }
      ],
      "source": [
        "sns.heatmap(orders.isnull(), cmap=sns.color_palette(['#000099', '#ffff00']))\n",
        "plt.xticks(rotation=90)\n",
        "plt.title('Визуализация количества пропущенных значений', size=12, y=1.02)\n",
        "plt.show()"
      ]
    },
    {
      "cell_type": "code",
      "execution_count": 151,
      "id": "8b482983-9957-4ffc-b5b0-6f63451acc5c",
      "metadata": {
        "colab": {
          "base_uri": "https://localhost:8080/"
        },
        "id": "8b482983-9957-4ffc-b5b0-6f63451acc5c",
        "outputId": "324a84e8-143e-498a-c2da-4846f336cf98"
      },
      "outputs": [
        {
          "output_type": "stream",
          "name": "stdout",
          "text": [
            "количество полных дубликатов строк: 900\n",
            "количество полных дубликатов в общем количестве строк: 0.076%\n"
          ]
        }
      ],
      "source": [
        "print(f\"количество полных дубликатов строк: {orders.duplicated().sum()}\")\n",
        "print(f\"количество полных дубликатов в общем количестве строк: {orders.duplicated().sum() / orders.shape[0] * 100:.3f}%\")"
      ]
    },
    {
      "cell_type": "markdown",
      "id": "12304ff6-23c1-4440-95f5-edd915fe85a3",
      "metadata": {
        "id": "12304ff6-23c1-4440-95f5-edd915fe85a3"
      },
      "source": [
        "Удаление обнаруженных повторов строк"
      ]
    },
    {
      "cell_type": "code",
      "execution_count": 152,
      "id": "006ef292-8bbd-4f77-82cb-652e95cd9506",
      "metadata": {
        "id": "006ef292-8bbd-4f77-82cb-652e95cd9506"
      },
      "outputs": [],
      "source": [
        "orders = orders.drop_duplicates().reset_index(drop=True)"
      ]
    },
    {
      "cell_type": "code",
      "execution_count": 153,
      "id": "e4382e06-5157-4945-bae4-1cda0928ba3c",
      "metadata": {
        "colab": {
          "base_uri": "https://localhost:8080/"
        },
        "id": "e4382e06-5157-4945-bae4-1cda0928ba3c",
        "outputId": "b36d3e4d-6674-4027-c25f-30e995099b17"
      },
      "outputs": [
        {
          "output_type": "stream",
          "name": "stdout",
          "text": [
            "уникальные значения status_id:\n",
            "3605505         1\n",
            "3342337         1\n",
            "3211265         1\n",
            "16         791756\n",
            "15           3469\n",
            "14          32933\n",
            "13           2111\n",
            "12           4731\n",
            "11           7202\n",
            "9            1057\n",
            "8            8178\n",
            "7          212694\n",
            "6          121413\n",
            "5             291\n",
            "4            1852\n",
            "3            3166\n",
            "2               3\n",
            "1             102\n",
            "Name: status_id, dtype: int64\n"
          ]
        }
      ],
      "source": [
        "print(f\"уникальные значения status_id:\\n{orders['status_id'].value_counts().sort_index(ascending=False)}\")"
      ]
    },
    {
      "cell_type": "markdown",
      "id": "f06be31e-d877-4dd2-ba08-f97512f233f2",
      "metadata": {
        "id": "f06be31e-d877-4dd2-ba08-f97512f233f2"
      },
      "source": [
        "Удаление строк с некорректным значением status_id"
      ]
    },
    {
      "cell_type": "code",
      "execution_count": 154,
      "id": "8997d287-d4f7-4f72-aa2e-2af5400907a6",
      "metadata": {
        "id": "8997d287-d4f7-4f72-aa2e-2af5400907a6"
      },
      "outputs": [],
      "source": [
        "orders = orders.drop(orders[orders['status_id'] > 16].index)"
      ]
    },
    {
      "cell_type": "markdown",
      "id": "Zz2Y3uH-GCWv",
      "metadata": {
        "id": "Zz2Y3uH-GCWv"
      },
      "source": [
        "Создание целевого признака"
      ]
    },
    {
      "cell_type": "code",
      "execution_count": 155,
      "id": "4cfe5625-521b-499b-a6ae-4a41780b01d9",
      "metadata": {
        "id": "4cfe5625-521b-499b-a6ae-4a41780b01d9"
      },
      "outputs": [],
      "source": [
        "orders['fact_of_payment'] = (orders['status_id']\n",
        "                             .apply(lambda x: 1 if x == 6 or x == 13\n",
        "                                    or x == 5 or x == 15 else 0)\n",
        "                             .astype('int8')\n",
        "                             )"
      ]
    },
    {
      "cell_type": "markdown",
      "source": [
        "Изменение типов данных"
      ],
      "metadata": {
        "id": "tDeSgePE-imQ"
      },
      "id": "tDeSgePE-imQ"
    },
    {
      "cell_type": "code",
      "source": [
        "orders[['order_date', 'start_date', 'first_lesson_date', 'payment_date']] = (\n",
        "    orders[['order_date', 'start_date', 'first_lesson_date', 'payment_date']].apply(pd.to_datetime)\n",
        "    )"
      ],
      "metadata": {
        "id": "7DFwLFL_6TSx"
      },
      "id": "7DFwLFL_6TSx",
      "execution_count": 156,
      "outputs": []
    },
    {
      "cell_type": "markdown",
      "source": [
        "Создание признака `order_month`"
      ],
      "metadata": {
        "id": "2YxGCt3wVWIK"
      },
      "id": "2YxGCt3wVWIK"
    },
    {
      "cell_type": "code",
      "source": [
        "orders['order_month'] = orders['order_date'].dt.month.astype('int8')"
      ],
      "metadata": {
        "id": "6p33_5xBUXzJ"
      },
      "id": "6p33_5xBUXzJ",
      "execution_count": 158,
      "outputs": []
    },
    {
      "cell_type": "code",
      "source": [
        "print(f\"уникальные значения subject_id:\\n{orders['subject_id'].value_counts().sort_index(ascending=False)}\")"
      ],
      "metadata": {
        "colab": {
          "base_uri": "https://localhost:8080/"
        },
        "id": "alGW5Xew6TZh",
        "outputId": "49ef14fe-32bc-4a0d-b720-f9b8e308ef95"
      },
      "id": "alGW5Xew6TZh",
      "execution_count": 159,
      "outputs": [
        {
          "output_type": "stream",
          "name": "stdout",
          "text": [
            "уникальные значения subject_id:\n",
            "36.0      5625\n",
            "33.0     33318\n",
            "29.0     12622\n",
            "27.0     12281\n",
            "25.0      4909\n",
            "23.0      7281\n",
            "21.0     24767\n",
            "20.0     16651\n",
            "19.0     46684\n",
            "18.0     64282\n",
            "17.0      7853\n",
            "16.0      8171\n",
            "15.0     11367\n",
            "14.0     36796\n",
            "13.0     20048\n",
            "12.0     42127\n",
            "11.0     59734\n",
            "10.0     57223\n",
            "9.0      58706\n",
            "8.0     311066\n",
            "7.0      16147\n",
            "6.0       8682\n",
            "5.0       4456\n",
            "4.0      12595\n",
            "3.0      17515\n",
            "2.0     170675\n",
            "1.0     109052\n",
            "Name: subject_id, dtype: int64\n"
          ]
        }
      ]
    },
    {
      "cell_type": "markdown",
      "source": [
        "Удаление строк с некорректным значением subject_id"
      ],
      "metadata": {
        "id": "TfUN8PGZ7cVx"
      },
      "id": "TfUN8PGZ7cVx"
    },
    {
      "cell_type": "code",
      "source": [
        "orders = orders.drop(orders[orders['subject_id'] > 36].index)"
      ],
      "metadata": {
        "id": "j1TOD9_c6TWW"
      },
      "id": "j1TOD9_c6TWW",
      "execution_count": 160,
      "outputs": []
    },
    {
      "cell_type": "markdown",
      "source": [
        "Заполнение пропусков в subject_id"
      ],
      "metadata": {
        "id": "a9df987mCb3K"
      },
      "id": "a9df987mCb3K"
    },
    {
      "cell_type": "code",
      "source": [
        "'''\n",
        "пропущенные значения означают, что поле с предметом не заполнено.\n",
        "на мой взгляд, их логично заполнить нулями.\n",
        "'''\n",
        "orders['subject_id'] = orders['subject_id'].fillna(0)"
      ],
      "metadata": {
        "id": "L3oXRItnCa7P"
      },
      "id": "L3oXRItnCa7P",
      "execution_count": 161,
      "outputs": []
    },
    {
      "cell_type": "code",
      "source": [
        "orders['teacher_sex'] = orders['teacher_sex'].astype('int8')\n",
        "print(f\"\"\"уникальные значения teacher_sex:\n",
        "{orders['teacher_sex'].value_counts().sort_index(ascending=False)}\"\"\")"
      ],
      "metadata": {
        "colab": {
          "base_uri": "https://localhost:8080/"
        },
        "id": "yrsDV1JDklRa",
        "outputId": "f4fb5a52-c132-4d67-fd9d-22fc8645f441"
      },
      "id": "yrsDV1JDklRa",
      "execution_count": 162,
      "outputs": [
        {
          "output_type": "stream",
          "name": "stdout",
          "text": [
            "уникальные значения teacher_sex:\n",
            "3    549412\n",
            "2    391981\n",
            "1     46011\n",
            "0    203554\n",
            "Name: teacher_sex, dtype: int64\n"
          ]
        }
      ]
    },
    {
      "cell_type": "code",
      "source": [
        "print(f\"примеры записей в колонке purpose:\\n{orders['purpose'].unique()[:10]}\")"
      ],
      "metadata": {
        "colab": {
          "base_uri": "https://localhost:8080/"
        },
        "id": "XwXDOZohCaqE",
        "outputId": "134cf83a-409d-407a-d7bf-e77e128e2a61"
      },
      "id": "XwXDOZohCaqE",
      "execution_count": 163,
      "outputs": [
        {
          "output_type": "stream",
          "name": "stdout",
          "text": [
            "примеры записей в колонке purpose:\n",
            "[None\n",
            " 'Разделы: начертательная геометрия.\\nКатегория ученика: студентка 1 курса.\\nЦель занятий: помощь по программе.'\n",
            " 'Разделы:  школьный курс.\\nКатегория ученика: школьник 9 класса.\\nЦель занятий: помощь по школьной программе.'\n",
            " 'Разделы: ораторское искусство.\\nКатегория ученика: студент 2 курса.\\nЦель занятий: для себя.'\n",
            " 'Разделы:  школьный курс.\\nКатегория ученика: школьник 8 класса.\\nЦель занятий:  улучшить успеваемость.'\n",
            " 'Разделы: теоретическая механика.\\nКатегория ученика: студент 2 курса.\\nЦель занятий: помощь по предмету.'\n",
            " 'Разделы:  школьный курс.\\nДополнения: ЕГЭ.\\nКатегория ученика: школьник 10 класса.\\nЦель занятий: подготовить к ЕГЭ, профиль.'\n",
            " 'Разделы:  школьный курс.\\nКатегория ученика: школьник 9 класса.\\nЦель занятий: подтянуть по школьной программе, повысить успеваемость.'\n",
            " 'Разделы: общий курс.\\nКатегория ученика: студентка 7 курса, магистратуры.\\nУровень знаний: средний (В1).\\nЦель занятий: подготовка к поступлению в аспирантуру.'\n",
            " 'Разделы: математика.\\nКатегория ученика: школьник 1 класса.\\nЦель занятий: улучшить успеваемость.']\n"
          ]
        }
      ]
    },
    {
      "cell_type": "code",
      "source": [
        "# Получение дополнительных признаков на основе колонки purpose\n",
        "# orders[['pupil_section', 'pupil_additions', 'pupil_category', 'pupil_knlvl', 'pupil_goal']] = (\n",
        "#     orders['purpose'].str.extract(r'Разделы: (.*?)(?:\\nДополнения: (.*?))?\\nКатегория ученика: (.*?)\\n(?:Уровень знаний: (.*?))?\\nЦель занятий: (.*?)\\.')\n",
        "#     )"
      ],
      "metadata": {
        "id": "ryO9VEVNkk-H"
      },
      "id": "ryO9VEVNkk-H",
      "execution_count": 21,
      "outputs": []
    },
    {
      "cell_type": "code",
      "source": [
        "print(f\"\"\"уникальные значения pupil_knowledgelvl:\n",
        "{orders['pupil_knowledgelvl'].value_counts().sort_index(ascending=False)}\"\"\")"
      ],
      "metadata": {
        "colab": {
          "base_uri": "https://localhost:8080/"
        },
        "id": "c3bJoMR9kk41",
        "outputId": "ec0adcef-3ceb-4c4c-c1a9-a486716fa61f"
      },
      "id": "c3bJoMR9kk41",
      "execution_count": 164,
      "outputs": [
        {
          "output_type": "stream",
          "name": "stdout",
          "text": [
            "уникальные значения pupil_knowledgelvl:\n",
            "4      6726\n",
            "3     46817\n",
            "2    105377\n",
            "1     85325\n",
            "0    946713\n",
            "Name: pupil_knowledgelvl, dtype: int64\n"
          ]
        }
      ]
    },
    {
      "cell_type": "code",
      "source": [
        "print(f\"\"\"количество уникальных значений lesson_price:\n",
        "{orders['lesson_price'].nunique()}\"\"\")\n",
        "\n",
        "print(f\"\"\"количество уникальных значений minimal_price:\n",
        "{orders['minimal_price'].nunique()}\"\"\")"
      ],
      "metadata": {
        "id": "oGhOjcfI6TMW",
        "colab": {
          "base_uri": "https://localhost:8080/"
        },
        "outputId": "a18f8a21-1304-465f-b875-45fd244cbd88"
      },
      "id": "oGhOjcfI6TMW",
      "execution_count": 165,
      "outputs": [
        {
          "output_type": "stream",
          "name": "stdout",
          "text": [
            "количество уникальных значений lesson_price:\n",
            "346\n",
            "количество уникальных значений minimal_price:\n",
            "168\n"
          ]
        }
      ]
    },
    {
      "cell_type": "code",
      "source": [
        "plt.figure(figsize=(8, 6))\n",
        "sns.boxplot(data=orders[['lesson_price', 'minimal_price']])\n",
        "plt.ylim(-100, 5000)\n",
        "plt.title('Диаграмма размаха для lesson_price и minimal_price', size=12)\n",
        "plt.ylabel('Цена, руб.')\n",
        "plt.xlabel('Категория цен')\n",
        "plt.show()"
      ],
      "metadata": {
        "colab": {
          "base_uri": "https://localhost:8080/",
          "height": 564
        },
        "id": "RnKor_NC1PdC",
        "outputId": "8e3d3157-7692-4bfe-aa67-801ee796b472"
      },
      "id": "RnKor_NC1PdC",
      "execution_count": 166,
      "outputs": [
        {
          "output_type": "display_data",
          "data": {
            "text/plain": [
              "<Figure size 800x600 with 1 Axes>"
            ],
            "image/png": "[encoded data removed]"
          },
          "metadata": {}
        }
      ]
    },
    {
      "cell_type": "markdown",
      "source": [
        "Добавление признака с категорией цены"
      ],
      "metadata": {
        "id": "w4Yoa1SnDsfy"
      },
      "id": "w4Yoa1SnDsfy"
    },
    {
      "cell_type": "code",
      "source": [
        "orders['lesson_price_cat'] = (orders['lesson_price']\n",
        "                              .apply(lambda x: 1 if x < 500\n",
        "                                     else 2 if 500 <= x < 1500\n",
        "                                     else 3 if 1500 <= x <= 3000\n",
        "                                     else 4)\n",
        "                              .astype('int8')\n",
        "                             )"
      ],
      "metadata": {
        "id": "t97TKRa_ErDJ"
      },
      "id": "t97TKRa_ErDJ",
      "execution_count": 167,
      "outputs": []
    },
    {
      "cell_type": "code",
      "source": [
        "print(f\"\"\"уникальные значения lesson_duration:\n",
        "{orders['lesson_duration'].value_counts().sort_index(ascending=False)}\"\"\")"
      ],
      "metadata": {
        "colab": {
          "base_uri": "https://localhost:8080/"
        },
        "id": "znA8iIvd1PWf",
        "outputId": "ad394cb8-561d-45e1-f865-efff425ee1fe"
      },
      "id": "znA8iIvd1PWf",
      "execution_count": 168,
      "outputs": [
        {
          "output_type": "stream",
          "name": "stdout",
          "text": [
            "уникальные значения lesson_duration:\n",
            "135        192\n",
            "120       7210\n",
            "90       25634\n",
            "60     1135634\n",
            "45       19902\n",
            "0         2386\n",
            "Name: lesson_duration, dtype: int64\n"
          ]
        }
      ]
    },
    {
      "cell_type": "code",
      "source": [
        "print(f\"\"\"количество уникальных значений home_metro_id:\n",
        "{orders['home_metro_id'].nunique()}\"\"\")"
      ],
      "metadata": {
        "colab": {
          "base_uri": "https://localhost:8080/"
        },
        "id": "vw3FZ86cjPmy",
        "outputId": "0ccb0d1e-be52-42f8-ebad-ff43aa41d620"
      },
      "id": "vw3FZ86cjPmy",
      "execution_count": 169,
      "outputs": [
        {
          "output_type": "stream",
          "name": "stdout",
          "text": [
            "количество уникальных значений home_metro_id:\n",
            "2323\n"
          ]
        }
      ]
    },
    {
      "cell_type": "code",
      "source": [
        "'''\n",
        "заполню пропуски в признаке home_metro_id значением '-1'\n",
        "'''\n",
        "orders['home_metro_id'] = orders['home_metro_id'].fillna(-1)"
      ],
      "metadata": {
        "id": "FHUpa2m9jPc2"
      },
      "id": "FHUpa2m9jPc2",
      "execution_count": 170,
      "outputs": []
    },
    {
      "cell_type": "code",
      "source": [
        "print(f\"примеры записей в колонке add_info:\\n{orders['add_info'].unique()[:10]}\")"
      ],
      "metadata": {
        "colab": {
          "base_uri": "https://localhost:8080/"
        },
        "id": "QTpT1V9EjPZG",
        "outputId": "753157ef-7c26-47b3-db31-80e539b9416b"
      },
      "id": "QTpT1V9EjPZG",
      "execution_count": 171,
      "outputs": [
        {
          "output_type": "stream",
          "name": "stdout",
          "text": [
            "примеры записей в колонке add_info:\n",
            "[None\n",
            " 'Место проведения занятий: дистанционно (например, Skype). Время МСК.\\nПредполагаемое число занятий в неделю: 1, будни и суббота после 17, воскресенье в течение дня.'\n",
            " 'Место проведения занятий: дистанционно (например, Skype).\\nПредполагаемое число занятий в неделю: 1-2, вторник, четверг с 17, суббота с 14.\\nОпыт репетитора: от 5 лет.\\nВозраст репетитора: от 20 лет до 90 лет.\\nПол репетитора: не имеет значения.\\nСтатус репетитора: школьный преподаватель.'\n",
            " 'Место проведения занятий: дистанционно (например, Skype) +3 МСК\\nПредполагаемое число занятий в неделю: 2-3 (будни после 18 часов +3 МСК).\\nОпыт репетитора: не имеет значения.\\nВозраст репетитора: не имеет значения.\\nПол репетитора: не имеет значения.\\nСтатус репетитора: не имеет значения.'\n",
            " 'Район: м. Перово.\\nМесто проведения занятий: у ученика (ул Кусковская ).\\nПредполагаемое число занятий в неделю: 1 Воскресенье - в любое время.\\nОпыт репетитора: не имеет значения.\\nВозраст репетитора: не имеет значения.\\nПол репетитора: не имеет значения.\\nСтатус репетитора: школьный преподаватель.'\n",
            " 'Район: м. Ломоносовская.\\nМесто проведения занятий: у преподавателя (м. Ломоносовская).\\nПредполагаемое число занятий в неделю: 1 (будни после 19 часов).\\nОпыт репетитора: от 1 года.\\nВозраст репетитора: не имеет значения.\\nПол репетитора: не имеет значения.\\nСтатус репетитора: преподаватель вуза.'\n",
            " 'Место проведения занятий: дистанционно (например, Skype).\\nПредполагаемое число занятий в неделю: 2-3 (вторник, четверг, пятница после 17 часов).\\nОпыт репетитора: от 1 года.\\nВозраст репетитора: от 20 лет до 50 лет.\\nПол репетитора: не имеет значения.\\nСтатус репетитора: не имеет значения.'\n",
            " 'Место проведения занятий: дистанционно (например, Skype). МСК\\nПредполагаемое число занятий в неделю: 2. Будние дни - после 16:00\\nОпыт репетитора: от 1 года.\\nВозраст репетитора: не имеет значения.\\nПол репетитора: не имеет значения.\\nСтатус репетитора: не имеет значения.'\n",
            " 'Район: Советский район.\\nМесто проведения занятий: у ученика (ул. Космонавтов, 4), дистанционно (например, Skype-СОВМЕСТНО С ОЧНЫМИ ЗАНЯТИЯМИ).\\nПредполагаемое число занятий в неделю: 1, четверг после 18, выходные тоже возможны.\\nОпыт репетитора: от 1 года.\\nВозраст репетитора: не имеет значения.\\nПол репетитора: женский.\\nСтатус репетитора: аспирант, частный преподаватель.'\n",
            " 'Место проведения занятий: дистанционно (например, Skype).\\nПредполагаемое число занятий в неделю: 2, понедельник, пятница с 17 часов.\\nОпыт репетитора: не имеет значения.\\nВозраст репетитора: не имеет значения.\\nПол репетитора: не имеет значения.\\nСтатус репетитора: студент, аспирант, школьный преподаватель, преподаватель вуза.']\n"
          ]
        }
      ]
    },
    {
      "cell_type": "code",
      "source": [
        "print(f\"\"\"уникальные значения additional_status_id:\n",
        "{orders['additional_status_id'].value_counts().sort_index(ascending=False)}\"\"\")"
      ],
      "metadata": {
        "colab": {
          "base_uri": "https://localhost:8080/"
        },
        "id": "cbXpN86xjPPW",
        "outputId": "5b854610-7bb5-4928-d67e-6af4d4b45fd4"
      },
      "id": "cbXpN86xjPPW",
      "execution_count": 172,
      "outputs": [
        {
          "output_type": "stream",
          "name": "stdout",
          "text": [
            "уникальные значения additional_status_id:\n",
            "25.0       755\n",
            "24.0      4235\n",
            "23.0       169\n",
            "22.0       387\n",
            "21.0     25493\n",
            "20.0      3827\n",
            "19.0      8026\n",
            "18.0     14557\n",
            "17.0    106977\n",
            "16.0     11184\n",
            "15.0       691\n",
            "14.0     16828\n",
            "13.0    240934\n",
            "11.0      3344\n",
            "10.0    177277\n",
            "9.0       2790\n",
            "8.0      82225\n",
            "7.0     261485\n",
            "6.0       3840\n",
            "5.0      47774\n",
            "4.0       3068\n",
            "3.0      17850\n",
            "2.0       7066\n",
            "1.0        805\n",
            "Name: additional_status_id, dtype: int64\n"
          ]
        }
      ]
    },
    {
      "cell_type": "markdown",
      "source": [
        "Удаление тестовых заявок"
      ],
      "metadata": {
        "id": "9KEbuMl0eD19"
      },
      "id": "9KEbuMl0eD19"
    },
    {
      "cell_type": "code",
      "source": [
        "orders = orders.drop(orders[orders['additional_status_id'] == 1].index)"
      ],
      "metadata": {
        "id": "T4mgLPkQjPMF"
      },
      "id": "T4mgLPkQjPMF",
      "execution_count": 173,
      "outputs": []
    },
    {
      "cell_type": "code",
      "source": [
        "print(f\"примеры записей в колонке comments:\\n{orders['comments'].unique()[:10]}\")"
      ],
      "metadata": {
        "id": "QAdzKOWTejmu"
      },
      "id": "QAdzKOWTejmu",
      "execution_count": null,
      "outputs": []
    },
    {
      "cell_type": "code",
      "source": [
        "print(f\"\"\"количество уникальных значений amount_to_pay:\n",
        "{orders['amount_to_pay'].nunique()}\"\"\")"
      ],
      "metadata": {
        "colab": {
          "base_uri": "https://localhost:8080/"
        },
        "id": "YnREvDA-ejjX",
        "outputId": "ae68dd42-3f50-4219-8091-6e2d69e729eb"
      },
      "id": "YnREvDA-ejjX",
      "execution_count": 175,
      "outputs": [
        {
          "output_type": "stream",
          "name": "stdout",
          "text": [
            "количество уникальных значений amount_to_pay:\n",
            "1412\n"
          ]
        }
      ]
    },
    {
      "cell_type": "markdown",
      "source": [
        "Изменение типа данных на числовой"
      ],
      "metadata": {
        "id": "SslV0lGnmzui"
      },
      "id": "SslV0lGnmzui"
    },
    {
      "cell_type": "code",
      "source": [
        "orders['amount_to_pay'] = (orders['amount_to_pay']\n",
        "                           .apply(lambda x: pd.to_numeric(x.replace(',', '.'), errors='coerce'))\n",
        "                           .fillna(0)\n",
        "                           .astype('float32')\n",
        "                           )"
      ],
      "metadata": {
        "id": "CeOLMfAEejgN"
      },
      "id": "CeOLMfAEejgN",
      "execution_count": 176,
      "outputs": []
    },
    {
      "cell_type": "code",
      "source": [
        "orders['planned_lesson_number'] = orders['planned_lesson_number'].astype('int8')\n",
        "print(f\"\"\"уникальные значения planned_lesson_number:\n",
        "{orders['planned_lesson_number'].value_counts().sort_index(ascending=False)}\"\"\")"
      ],
      "metadata": {
        "colab": {
          "base_uri": "https://localhost:8080/"
        },
        "id": "1J0Wb5ybejc2",
        "outputId": "87c6be3d-072e-40fc-dd9e-ac057e5f48f0"
      },
      "id": "1J0Wb5ybejc2",
      "execution_count": 177,
      "outputs": [
        {
          "output_type": "stream",
          "name": "stdout",
          "text": [
            "уникальные значения planned_lesson_number:\n",
            "10    937544\n",
            "7      68239\n",
            "2      11619\n",
            "1       6574\n",
            "0     166177\n",
            "Name: planned_lesson_number, dtype: int64\n"
          ]
        }
      ]
    },
    {
      "cell_type": "code",
      "source": [
        "print(f\"\"\"уникальные значения pupil_category_new_id:\n",
        "{orders['pupil_category_new_id'].value_counts().sort_index(ascending=False)}\"\"\")"
      ],
      "metadata": {
        "colab": {
          "base_uri": "https://localhost:8080/"
        },
        "id": "_L2QSix_ejMg",
        "outputId": "cf723d4f-0d21-46c1-b547-eead789eb1ce"
      },
      "id": "_L2QSix_ejMg",
      "execution_count": 178,
      "outputs": [
        {
          "output_type": "stream",
          "name": "stdout",
          "text": [
            "уникальные значения pupil_category_new_id:\n",
            "17.0      5062\n",
            "16.0     12319\n",
            "15.0    113637\n",
            "14.0     97095\n",
            "12.0    140795\n",
            "11.0     90011\n",
            "10.0    171331\n",
            "9.0      85261\n",
            "8.0      71122\n",
            "7.0      55433\n",
            "6.0      47274\n",
            "5.0      38117\n",
            "4.0      33650\n",
            "3.0      32635\n",
            "2.0      18251\n",
            "1.0      19137\n",
            "Name: pupil_category_new_id, dtype: int64\n"
          ]
        }
      ]
    },
    {
      "cell_type": "markdown",
      "source": [
        "Заполнение пропусков в категориях учеников"
      ],
      "metadata": {
        "id": "Dotx11EkrNzM"
      },
      "id": "Dotx11EkrNzM"
    },
    {
      "cell_type": "code",
      "source": [
        "orders['pupil_category_new_id'] = orders['pupil_category_new_id'].fillna(-1)\n",
        "orders['pupil_category_new_id'] = orders['pupil_category_new_id'].astype('int8')"
      ],
      "metadata": {
        "id": "V2w79oNTqMDO"
      },
      "id": "V2w79oNTqMDO",
      "execution_count": 179,
      "outputs": []
    },
    {
      "cell_type": "code",
      "source": [
        "orders['lessons_per_week'] = orders['lessons_per_week'].astype('int8')\n",
        "print(f\"\"\"уникальные значения lessons_per_week:\n",
        "{orders['lessons_per_week'].value_counts().sort_index(ascending=False)}\"\"\")\n",
        "\n",
        "fig1, ax1 = plt.subplots()\n",
        "ax1.pie(orders['lessons_per_week'].value_counts(),\n",
        "        labels=orders['lessons_per_week'].unique(),\n",
        "        autopct='%1.0f%%',\n",
        "        pctdistance=1.3)\n",
        "plt.title('Соотношение значений признака lessons_per_week', size=12)\n",
        "plt.show()"
      ],
      "metadata": {
        "colab": {
          "base_uri": "https://localhost:8080/",
          "height": 614
        },
        "id": "gHSumN_HqL_D",
        "outputId": "98b1b0e9-2b1f-4446-8991-163fe25af2f3"
      },
      "id": "gHSumN_HqL_D",
      "execution_count": 180,
      "outputs": [
        {
          "output_type": "stream",
          "name": "stdout",
          "text": [
            "уникальные значения lessons_per_week:\n",
            "7     15060\n",
            "6     28155\n",
            "5    156312\n",
            "4    236217\n",
            "3    433401\n",
            "2    142325\n",
            "1      3864\n",
            "0    174819\n",
            "Name: lessons_per_week, dtype: int64\n"
          ]
        },
        {
          "output_type": "display_data",
          "data": {
            "text/plain": [
              "<Figure size 640x480 with 1 Axes>"
            ],
            "image/png": "[encoded data removed]"
          },
          "metadata": {}
        }
      ]
    },
    {
      "cell_type": "code",
      "source": [
        "orders['teacher_experience_from'] = orders['teacher_experience_from'].astype('int8')\n",
        "print(f\"\"\"описание teacher_experience_from:\n",
        "{orders['teacher_experience_from'].describe()}\"\"\")\n",
        "print(f\"\"\"количество уникальных значений teacher_experience_from:\n",
        "{orders['teacher_experience_from'].nunique()}\"\"\")\n",
        "\n",
        "orders['teacher_experience_to'] = orders['teacher_experience_to'].astype('int8')\n",
        "print(f\"\"\"описание teacher_experience_to:\n",
        "{orders['teacher_experience_to'].describe()}\"\"\")\n",
        "print(f\"\"\"количество уникальных значений teacher_experience_to:\n",
        "{orders['teacher_experience_to'].nunique()}\"\"\")"
      ],
      "metadata": {
        "id": "yDWR3BnKqL7q",
        "colab": {
          "base_uri": "https://localhost:8080/"
        },
        "outputId": "b354d91f-1b60-4e98-b668-98f8d72f0106"
      },
      "id": "yDWR3BnKqL7q",
      "execution_count": 181,
      "outputs": [
        {
          "output_type": "stream",
          "name": "stdout",
          "text": [
            "описание teacher_experience_from:\n",
            "count    1.190153e+06\n",
            "mean     1.468199e+00\n",
            "std      2.784497e+00\n",
            "min      0.000000e+00\n",
            "25%      0.000000e+00\n",
            "50%      0.000000e+00\n",
            "75%      1.000000e+00\n",
            "max      5.100000e+01\n",
            "Name: teacher_experience_from, dtype: float64\n",
            "количество уникальных значений teacher_experience_from:\n",
            "40\n",
            "описание teacher_experience_to:\n",
            "count    1.190153e+06\n",
            "mean     8.938943e-01\n",
            "std      8.365584e+00\n",
            "min     -1.200000e+01\n",
            "25%      0.000000e+00\n",
            "50%      0.000000e+00\n",
            "75%      0.000000e+00\n",
            "max      1.000000e+02\n",
            "Name: teacher_experience_to, dtype: float64\n",
            "количество уникальных значений teacher_experience_to:\n",
            "65\n"
          ]
        }
      ]
    },
    {
      "cell_type": "code",
      "source": [
        "plt.figure(figsize=(8, 6))\n",
        "sns.boxplot(data=orders[['teacher_experience_from', 'teacher_experience_to']])\n",
        "plt.ylim(-2, 10)\n",
        "plt.title('Диаграмма размаха для опыта преподавателей', size=12)\n",
        "plt.ylabel('Опыт, лет')\n",
        "plt.show()"
      ],
      "metadata": {
        "colab": {
          "base_uri": "https://localhost:8080/",
          "height": 545
        },
        "id": "V2X-jbTSotdw",
        "outputId": "2b73f1f0-93bf-4a4b-d01a-c9cc9d257d3c"
      },
      "id": "V2X-jbTSotdw",
      "execution_count": 182,
      "outputs": [
        {
          "output_type": "display_data",
          "data": {
            "text/plain": [
              "<Figure size 800x600 with 1 Axes>"
            ],
            "image/png": "[encoded data removed]"
          },
          "metadata": {}
        }
      ]
    },
    {
      "cell_type": "code",
      "source": [
        "orders['teacher_age_from'] = orders['teacher_age_from'].astype('int8')\n",
        "print(f\"\"\"описание teacher_age_from:\n",
        "{orders['teacher_age_from'].describe()}\"\"\")\n",
        "print(f\"\"\"количество уникальных значений teacher_age_from:\n",
        "{orders['teacher_age_from'].nunique()}\"\"\")\n",
        "\n",
        "orders['teacher_age_to'] = orders['teacher_age_to'].astype('int8')\n",
        "print(f\"\"\"описание teacher_age_to:\n",
        "{orders['teacher_age_to'].describe()}\"\"\")\n",
        "print(f\"\"\"количество уникальных значений teacher_age_to:\n",
        "{orders['teacher_age_to'].nunique()}\"\"\")"
      ],
      "metadata": {
        "colab": {
          "base_uri": "https://localhost:8080/"
        },
        "id": "TW0B_FCdcmkH",
        "outputId": "8d639281-a2d1-4f80-c225-67c0e5e47a0f"
      },
      "id": "TW0B_FCdcmkH",
      "execution_count": 183,
      "outputs": [
        {
          "output_type": "stream",
          "name": "stdout",
          "text": [
            "описание teacher_age_from:\n",
            "count    1.190153e+06\n",
            "mean     8.312320e+00\n",
            "std      1.194534e+01\n",
            "min     -1.060000e+02\n",
            "25%      0.000000e+00\n",
            "50%      0.000000e+00\n",
            "75%      2.000000e+01\n",
            "max      1.240000e+02\n",
            "Name: teacher_age_from, dtype: float64\n",
            "количество уникальных значений teacher_age_from:\n",
            "83\n",
            "описание teacher_age_to:\n",
            "count    1.190153e+06\n",
            "mean     1.726183e+01\n",
            "std      2.795748e+01\n",
            "min     -1.280000e+02\n",
            "25%      0.000000e+00\n",
            "50%      0.000000e+00\n",
            "75%      4.000000e+01\n",
            "max      1.120000e+02\n",
            "Name: teacher_age_to, dtype: float64\n",
            "количество уникальных значений teacher_age_to:\n",
            "104\n"
          ]
        }
      ]
    },
    {
      "cell_type": "code",
      "source": [
        "plt.figure(figsize=(8, 6))\n",
        "sns.boxplot(data=orders[['teacher_age_from', 'teacher_age_to']])\n",
        "plt.ylim(-100, 150)\n",
        "plt.title('Диаграмма размаха для возраста преподавателей', size=12)\n",
        "plt.ylabel('Возраст, лет')\n",
        "plt.show()"
      ],
      "metadata": {
        "colab": {
          "base_uri": "https://localhost:8080/",
          "height": 545
        },
        "id": "33VKxIcqcmUC",
        "outputId": "25bacb80-ae47-4a4a-83c1-aa3eb4fc3f34"
      },
      "id": "33VKxIcqcmUC",
      "execution_count": 184,
      "outputs": [
        {
          "output_type": "display_data",
          "data": {
            "text/plain": [
              "<Figure size 800x600 with 1 Axes>"
            ],
            "image/png": "[encoded data removed]"
          },
          "metadata": {}
        }
      ]
    },
    {
      "cell_type": "code",
      "source": [
        "print(f\"\"\"уникальные значения chosen_teachers_only:\n",
        "{orders['chosen_teachers_only'].value_counts().sort_index(ascending=False)}\"\"\")\n",
        "\n",
        "labels = 'False', 'True'\n",
        "sizes = [orders['chosen_teachers_only'].value_counts()[0],\n",
        "         orders['chosen_teachers_only'].value_counts()[1]]\n",
        "fig1, ax1 = plt.subplots()\n",
        "ax1.pie(sizes, labels=labels, autopct='%1.0f%%')\n",
        "plt.title('Соотношение значений признака chosen_teachers_only', size=12)\n",
        "plt.show()"
      ],
      "metadata": {
        "colab": {
          "base_uri": "https://localhost:8080/",
          "height": 497
        },
        "id": "vbHNb3kqcmRW",
        "outputId": "abb042f9-423a-47d3-dfb4-c518d367d702"
      },
      "id": "vbHNb3kqcmRW",
      "execution_count": 185,
      "outputs": [
        {
          "output_type": "stream",
          "name": "stdout",
          "text": [
            "уникальные значения chosen_teachers_only:\n",
            "1      26632\n",
            "0    1163521\n",
            "Name: chosen_teachers_only, dtype: int64\n"
          ]
        },
        {
          "output_type": "display_data",
          "data": {
            "text/plain": [
              "<Figure size 640x480 with 1 Axes>"
            ],
            "image/png": "[encoded data removed]"
          },
          "metadata": {}
        }
      ]
    },
    {
      "cell_type": "code",
      "source": [
        "print(f\"\"\"уникальные значения no_teachers_available:\n",
        "{orders['no_teachers_available'].value_counts().sort_index(ascending=False)}\"\"\")\n",
        "\n",
        "labels = 'False', 'True'\n",
        "sizes = [orders['no_teachers_available'].value_counts()[0],\n",
        "         orders['no_teachers_available'].value_counts()[1]]\n",
        "fig1, ax1 = plt.subplots()\n",
        "ax1.pie(sizes, labels=labels, autopct='%1.0f%%')\n",
        "plt.title('Соотношение значений признака no_teachers_available', size=12)\n",
        "plt.show()"
      ],
      "metadata": {
        "colab": {
          "base_uri": "https://localhost:8080/",
          "height": 497
        },
        "id": "U4bT1S4GcmMu",
        "outputId": "3420006e-8d24-4fc4-c231-fff83e70a524"
      },
      "id": "U4bT1S4GcmMu",
      "execution_count": 186,
      "outputs": [
        {
          "output_type": "stream",
          "name": "stdout",
          "text": [
            "уникальные значения no_teachers_available:\n",
            "1     108204\n",
            "0    1081949\n",
            "Name: no_teachers_available, dtype: int64\n"
          ]
        },
        {
          "output_type": "display_data",
          "data": {
            "text/plain": [
              "<Figure size 640x480 with 1 Axes>"
            ],
            "image/png": "[encoded data removed]"
          },
          "metadata": {}
        }
      ]
    },
    {
      "cell_type": "code",
      "source": [
        "orders['source_id'] = orders['source_id'].astype('int8')\n",
        "print(f\"\"\"уникальные значения source_id:\n",
        "{orders['source_id'].value_counts().sort_index(ascending=False)}\"\"\")"
      ],
      "metadata": {
        "id": "a8LOcQcfqL4L",
        "colab": {
          "base_uri": "https://localhost:8080/"
        },
        "outputId": "d9428a10-daae-4ac9-daf7-4d4d8046a24e"
      },
      "id": "a8LOcQcfqL4L",
      "execution_count": 187,
      "outputs": [
        {
          "output_type": "stream",
          "name": "stdout",
          "text": [
            "уникальные значения source_id:\n",
            "26        38\n",
            "25      2428\n",
            "24     15862\n",
            "23    441495\n",
            "22      7780\n",
            "20        10\n",
            "18     10010\n",
            "17      8881\n",
            "16    279828\n",
            "14    334210\n",
            "13      1251\n",
            "12       277\n",
            "11        17\n",
            "9      14611\n",
            "8      49492\n",
            "7        736\n",
            "6       1037\n",
            "5       3764\n",
            "4       9826\n",
            "3        182\n",
            "2       7907\n",
            "0        511\n",
            "Name: source_id, dtype: int64\n"
          ]
        }
      ]
    },
    {
      "cell_type": "code",
      "source": [
        "print(f\"\"\"количество уникальных значений original_order_id:\n",
        "{orders['original_order_id'].nunique()}\"\"\")"
      ],
      "metadata": {
        "colab": {
          "base_uri": "https://localhost:8080/"
        },
        "id": "Xzjyt-2rz8AD",
        "outputId": "18cf2ba9-7361-4f49-dda1-51a218ad7c70"
      },
      "id": "Xzjyt-2rz8AD",
      "execution_count": 188,
      "outputs": [
        {
          "output_type": "stream",
          "name": "stdout",
          "text": [
            "количество уникальных значений original_order_id:\n",
            "314852\n"
          ]
        }
      ]
    },
    {
      "cell_type": "code",
      "source": [
        "# Создание групп по original_order_id\n",
        "orders['order_group'] = orders['original_order_id'].fillna(orders['id'])\n",
        "\n",
        "# Проверка и проставление значения 1 в поле fact_of_payment для групп с хотя бы одной записью с fact_of_payment = 1\n",
        "orders['fact_of_payment'] = (orders\n",
        "                             .groupby('order_group')['fact_of_payment']\n",
        "                             .transform(lambda x: 1 if x.any() else x))\n",
        "\n",
        "# Оставление только строк с пустым значением в original_order_id\n",
        "orders = orders[orders['original_order_id'].isnull()]\n",
        "\n",
        "# Удаление временного столбца group\n",
        "orders = orders.drop('order_group', axis=1)"
      ],
      "metadata": {
        "id": "SkfIsv_XLWbU"
      },
      "id": "SkfIsv_XLWbU",
      "execution_count": 190,
      "outputs": []
    },
    {
      "cell_type": "code",
      "execution_count": 192,
      "id": "fe5cc0e6-af5f-436b-8398-fe7994e9ea01",
      "metadata": {
        "colab": {
          "base_uri": "https://localhost:8080/"
        },
        "id": "fe5cc0e6-af5f-436b-8398-fe7994e9ea01",
        "outputId": "79c1da01-3341-4fb5-9ab3-76927ba60a8c"
      },
      "outputs": [
        {
          "output_type": "stream",
          "name": "stdout",
          "text": [
            "текущая размерность таблицы: (608083, 41)\n",
            "текущее количество уникальных номеров заявок: 608083\n"
          ]
        }
      ],
      "source": [
        "print(f\"текущая размерность таблицы: {orders.shape}\")\n",
        "print(f\"текущее количество уникальных номеров заявок: {orders['id'].nunique()}\")"
      ]
    },
    {
      "cell_type": "markdown",
      "source": [
        "Создание копии датафрейма без лишних признаков"
      ],
      "metadata": {
        "id": "KgA8iuMyaoXH"
      },
      "id": "KgA8iuMyaoXH"
    },
    {
      "cell_type": "code",
      "source": [
        "orders_processed = orders.copy()\n",
        "orders_processed = orders_processed.drop(['order_date',\n",
        "                                          'purpose',\n",
        "                                          'lesson_price',\n",
        "                                          'lesson_place',\n",
        "                                          'add_info',\n",
        "                                          'start_date',\n",
        "                                          'working_teacher_id',\n",
        "                                          'status_id',\n",
        "                                          'comments',\n",
        "                                          'prefered_teacher_id',\n",
        "                                          'first_lesson_date',\n",
        "                                          'creator_id',\n",
        "                                          'teacher_age_from',\n",
        "                                          'teacher_age_to',\n",
        "                                          'original_order_id',\n",
        "                                          'client_id',\n",
        "                                          'additional_status_id',\n",
        "                                          'max_metro_distance',\n",
        "                                          'estimated_fee',\n",
        "                                          'payment_date',\n",
        "                                          'is_display_to_teachers'],\n",
        "                                         axis=1)"
      ],
      "metadata": {
        "id": "F10potVVan-p"
      },
      "id": "F10potVVan-p",
      "execution_count": 193,
      "outputs": []
    },
    {
      "cell_type": "code",
      "source": [
        "orders_processed.info()"
      ],
      "metadata": {
        "colab": {
          "base_uri": "https://localhost:8080/"
        },
        "id": "_alfZu0YZyWz",
        "outputId": "f5c79d68-6f5c-4eea-c318-8ef9ea802a01"
      },
      "id": "_alfZu0YZyWz",
      "execution_count": 195,
      "outputs": [
        {
          "output_type": "stream",
          "name": "stdout",
          "text": [
            "<class 'pandas.core.frame.DataFrame'>\n",
            "Int64Index: 608083 entries, 2 to 1190958\n",
            "Data columns (total 20 columns):\n",
            " #   Column                   Non-Null Count   Dtype  \n",
            "---  ------                   --------------   -----  \n",
            " 0   id                       608083 non-null  int32  \n",
            " 1   subject_id               608083 non-null  float32\n",
            " 2   lesson_duration          608083 non-null  int32  \n",
            " 3   home_metro_id            608083 non-null  float32\n",
            " 4   amount_to_pay            608083 non-null  float32\n",
            " 5   planned_lesson_number    608083 non-null  int8   \n",
            " 6   pupil_category_new_id    608083 non-null  int8   \n",
            " 7   lessons_per_week         608083 non-null  int8   \n",
            " 8   minimal_price            608083 non-null  int32  \n",
            " 9   teacher_sex              608083 non-null  int8   \n",
            " 10  teacher_experience_from  608083 non-null  int8   \n",
            " 11  teacher_experience_to    608083 non-null  int8   \n",
            " 12  lesson_place_new         608083 non-null  int32  \n",
            " 13  pupil_knowledgelvl       608083 non-null  int32  \n",
            " 14  chosen_teachers_only     608083 non-null  int8   \n",
            " 15  no_teachers_available    608083 non-null  int8   \n",
            " 16  source_id                608083 non-null  int8   \n",
            " 17  fact_of_payment          608083 non-null  int64  \n",
            " 18  order_month              608083 non-null  int8   \n",
            " 19  lesson_price_cat         608083 non-null  int8   \n",
            "dtypes: float32(3), int32(5), int64(1), int8(11)\n",
            "memory usage: 34.2 MB\n"
          ]
        }
      ]
    },
    {
      "cell_type": "code",
      "execution_count": 194,
      "id": "341d8bb6-e8f8-41f0-8a0f-2c263e2edc96",
      "metadata": {
        "colab": {
          "base_uri": "https://localhost:8080/",
          "height": 428
        },
        "id": "341d8bb6-e8f8-41f0-8a0f-2c263e2edc96",
        "outputId": "db42e618-678d-4ae9-e14a-df3e90857c69"
      },
      "outputs": [
        {
          "output_type": "display_data",
          "data": {
            "text/plain": [
              "<Figure size 640x480 with 1 Axes>"
            ],
            "image/png": "[encoded data removed]"
          },
          "metadata": {}
        }
      ],
      "source": [
        "labels = 'не оплачено', 'оплачено'\n",
        "sizes = [orders_processed['fact_of_payment'].value_counts()[0],\n",
        "         orders_processed['fact_of_payment'].value_counts()[1]]\n",
        "fig1, ax1 = plt.subplots()\n",
        "ax1.pie(sizes, labels=labels, autopct='%1.0f%%')\n",
        "plt.title('Баланс классов целевого признака', size=12)\n",
        "plt.show()"
      ]
    },
    {
      "cell_type": "markdown",
      "source": [
        "Аналих корреляционных связей между отобранными признаками"
      ],
      "metadata": {
        "id": "CPXw5k1GdSKc"
      },
      "id": "CPXw5k1GdSKc"
    },
    {
      "cell_type": "code",
      "source": [
        "phik_overview = orders_processed.drop(columns=['id']).phik_matrix()\n",
        "\n",
        "sns.set()\n",
        "plot_correlation_matrix(phik_overview.values,\n",
        "                        x_labels=phik_overview.columns,\n",
        "                        y_labels=phik_overview.index,\n",
        "                        vmin=0, vmax=1,\n",
        "                        fontsize_factor=0.8, figsize=(10, 10))\n",
        "plt.xticks(rotation=45)\n",
        "plt.title('Корреляция между признаками', fontsize=12, y=1.02)\n",
        "plt.tight_layout()"
      ],
      "metadata": {
        "colab": {
          "base_uri": "https://localhost:8080/",
          "height": 1000
        },
        "id": "40kUfbT5dS73",
        "outputId": "18bec9f2-131a-484b-9ffd-c93a839b379a"
      },
      "id": "40kUfbT5dS73",
      "execution_count": 207,
      "outputs": [
        {
          "output_type": "stream",
          "name": "stdout",
          "text": [
            "interval columns not set, guessing: ['subject_id', 'lesson_duration', 'home_metro_id', 'amount_to_pay', 'planned_lesson_number', 'pupil_category_new_id', 'lessons_per_week', 'minimal_price', 'teacher_sex', 'teacher_experience_from', 'teacher_experience_to', 'lesson_place_new', 'pupil_knowledgelvl', 'chosen_teachers_only', 'no_teachers_available', 'source_id', 'fact_of_payment', 'order_month', 'lesson_price_cat']\n"
          ]
        },
        {
          "output_type": "display_data",
          "data": {
            "text/plain": [
              "<Figure size 1000x1000 with 2 Axes>"
            ],
            "image/png": "[encoded data removed]"
          },
          "metadata": {}
        }
      ]
    },
    {
      "cell_type": "code",
      "source": [
        "print(f\"остаток данных от начального размера: {608083 / 1191861 * 100:.0f}%\")"
      ],
      "metadata": {
        "colab": {
          "base_uri": "https://localhost:8080/"
        },
        "id": "BtyMuDnpaaZM",
        "outputId": "7f08ff1a-5c73-4188-c1f0-fe05188f45d5"
      },
      "id": "BtyMuDnpaaZM",
      "execution_count": 197,
      "outputs": [
        {
          "output_type": "stream",
          "name": "stdout",
          "text": [
            "остаток данных от начального размера: 51%\n"
          ]
        }
      ]
    },
    {
      "cell_type": "markdown",
      "id": "8a0d896d-261c-48a0-8ef8-7507a9f73b1a",
      "metadata": {
        "id": "8a0d896d-261c-48a0-8ef8-7507a9f73b1a"
      },
      "source": [
        "#### Выводы и наблюдения\n",
        "- в таблице обнаружены дубликаты строк (0.076% от общего количества данных);\n",
        "- принято решение об удалении найденных повторов ввиду их малочисленности;\n",
        "- удалены три строки с некорректными значениями признака `status_id`;\n",
        "- создан целевой признак `fact_of_payment`;\n",
        "- даты преобразованы в корректный формат;\n",
        "- из даты `order_date` создан признак `order_month`;\n",
        "- удалены четыре строки с некорректными значениями признака `subject_id`;\n",
        "- пропуски в признаке `subject_id` (10325 штук) заполнены нулями;\n",
        "- в признаке `teacher_sex` четыре уникальных значения. По данным от Заказчика: 1 - М, 2 - Ж;\n",
        "- в колонке `purpose` данные записаны в неудобном формате. Принимаю решение эту колонку исключить. При необходимости её можно будет разделить на дополнительные признаки: `pupil_section`, `pupil_additions`, `pupil_category`, `pupil_knlvl`, `pupil_goal`\n",
        "- в признаках `lesson_price` и `minimal_price` большое количество выбросов, возможно, данные вносились не совсем корректно;\n",
        "- введён новый признак с категориями стоимости уроков `lesson_price_cat`;\n",
        "- желаемая продолжительность занятия варьируется от 0 до 135-ти минут (категориальный признак);\n",
        "- в признаке `lesson_place` всего 31 запись - принимаю решение об его удалении;\n",
        "- признаки, неизвестные на момент формирования заявки, удалены (`start_date`, `first_lesson_date`, `payment_date`)\n",
        "- пропуски в признаке `home_metro_id` заполнены значением `-1`\n",
        "- `add_info` и `comments` данные записаны в неудобном формате. Принимаю решение их исключить;\n",
        "- изменён тип данных в признаке `amount_to_pay`;\n",
        "- по данным из признаков об опыте работы преподавателей трудно сказать, насколько они правдоподобны. Принимаю решение пока их оставить. В дальнейшем, возможно, признаки будут исключены;\n",
        "- в данных о возрасте преподавателей имеются отрицательные значения - они могли быть внесены случайно (минус использовался в качестве дефиса). Также в этих данных много выбросов. Принимаю решение об удалении признаков возраста;\n",
        "- удалены все дубликатные заявки, статум оплаты проставлен в исходные;\n",
        "- удалены заявки (803 штуки) со статусом '1' в `additional_status_id`, т.к. эти заявки являются тестовыми по информации от Заказчика;\n",
        "- создана копия датафрейма без признаков, не представляющих ценности для исследования;\n",
        "- наблюдается значительный дисбаланс классов целевого признака;\n",
        "- анализ матрицы корреляций показывает:\n",
        "  - линейных связей с целевым признаком у других признаков не наблюдается;\n",
        "  - есть прямые зависимости между признаками lesson_price_cat, planned_lesson_number, lessons_per_week, lesson_place_new\n",
        "- после обработки осталось 51% данных от начального объёма."
      ]
    },
    {
      "cell_type": "markdown",
      "id": "70eead6f-3c53-46f1-bb19-4c6ea83af6cf",
      "metadata": {
        "id": "70eead6f-3c53-46f1-bb19-4c6ea83af6cf"
      },
      "source": [
        "### Репетиторы"
      ]
    },
    {
      "cell_type": "code",
      "execution_count": 198,
      "id": "a64289a8-6b70-4ced-afc9-6f8b699aff17",
      "metadata": {
        "colab": {
          "base_uri": "https://localhost:8080/",
          "height": 1000
        },
        "id": "a64289a8-6b70-4ced-afc9-6f8b699aff17",
        "outputId": "8219ad96-3ac5-4906-de69-89a4a74fcf6b"
      },
      "outputs": [
        {
          "output_type": "stream",
          "name": "stdout",
          "text": [
            "<class 'pandas.core.frame.DataFrame'>\n",
            "RangeIndex: 307972 entries, 0 to 307971\n",
            "Data columns (total 80 columns):\n",
            " #   Column                      Non-Null Count   Dtype   \n",
            "---  ------                      --------------   -----   \n",
            " 0   id                          307972 non-null  int32   \n",
            " 1   date_update                 307972 non-null  category\n",
            " 2   reg_date                    307972 non-null  category\n",
            " 3   birth_date                  307972 non-null  category\n",
            " 4   teaching_start_date         307972 non-null  category\n",
            " 5   user_id                     307972 non-null  int32   \n",
            " 6   is_email_confirmed          307972 non-null  int8    \n",
            " 7   is_home_lessons             307972 non-null  int8    \n",
            " 8   is_external_lessons         307972 non-null  int8    \n",
            " 9   external_comments           90978 non-null   category\n",
            " 10  lesson_duration             307972 non-null  int16   \n",
            " 11  lesson_cost                 307972 non-null  int32   \n",
            " 12  status_id                   307972 non-null  int8    \n",
            " 13  status_relevant_date        46379 non-null   category\n",
            " 14  status_school_id            14873 non-null   float16 \n",
            " 15  status_college_id           6543 non-null    float16 \n",
            " 16  status_display              307972 non-null  int8    \n",
            " 17  russian_level_id            307972 non-null  int8    \n",
            " 18  home_country_id             307972 non-null  int16   \n",
            " 19  information                 132972 non-null  category\n",
            " 20  is_confirmed                307972 non-null  int8    \n",
            " 21  external_comments.1         90978 non-null   category\n",
            " 22  lesson_duration.1           307972 non-null  int16   \n",
            " 23  lesson_cost.1               307972 non-null  int32   \n",
            " 24  status_id.1                 307972 non-null  int8    \n",
            " 25  status_relevant_date.1      46379 non-null   category\n",
            " 26  status_school_id.1          14873 non-null   float16 \n",
            " 27  status_college_id.1         6543 non-null    float16 \n",
            " 28  status_display.1            307972 non-null  int8    \n",
            " 29  russian_level_id.1          307972 non-null  int8    \n",
            " 30  home_country_id.1           307972 non-null  int16   \n",
            " 31  information.1               132972 non-null  category\n",
            " 32  is_confirmed.1              307972 non-null  int8    \n",
            " 33  external_comments.2         90978 non-null   category\n",
            " 34  lesson_duration.2           307972 non-null  int16   \n",
            " 35  lesson_cost.2               307972 non-null  int32   \n",
            " 36  status_id.2                 307972 non-null  int8    \n",
            " 37  status_relevant_date.2      46379 non-null   category\n",
            " 38  status_school_id.2          14873 non-null   float16 \n",
            " 39  status_college_id.2         6543 non-null    float16 \n",
            " 40  status_display.2            307972 non-null  int8    \n",
            " 41  russian_level_id.2          307972 non-null  int8    \n",
            " 42  home_country_id.2           307972 non-null  int16   \n",
            " 43  photo_path                  185484 non-null  category\n",
            " 44  information.2               132972 non-null  category\n",
            " 45  is_confirmed.2              307972 non-null  int8    \n",
            " 46  is_display                  307972 non-null  int8    \n",
            " 47  rating_id                   307972 non-null  int8    \n",
            " 48  rating                      307972 non-null  int32   \n",
            " 49  comments                    44940 non-null   category\n",
            " 50  rules_confirmed_date        307972 non-null  category\n",
            " 51  last_visited                235837 non-null  category\n",
            " 52  is_pupils_needed            11208 non-null   float16 \n",
            " 53  is_cell_phone_confirmed     307972 non-null  int8    \n",
            " 54  effective_rating            307972 non-null  float16 \n",
            " 55  area_id                     307972 non-null  int8    \n",
            " 56  pupil_needed_date           29928 non-null   category\n",
            " 57  sex                         307972 non-null  int8    \n",
            " 58  amount_to_pay               307972 non-null  int16   \n",
            " 59  is_remote_lessons           307972 non-null  int8    \n",
            " 60  remote_comments             6043 non-null    category\n",
            " 61  show_on_map                 307972 non-null  int8    \n",
            " 62  send_mailing                307972 non-null  int8    \n",
            " 63  send_suitable_orders        307972 non-null  int8    \n",
            " 64  rating_for_users            307972 non-null  float16 \n",
            " 65  rating_for_admin            307972 non-null  float16 \n",
            " 66  passport_id                 1323 non-null    float16 \n",
            " 67  is_edited                   307972 non-null  int8    \n",
            " 68  orders_allowed              307972 non-null  int8    \n",
            " 69  display_days                307972 non-null  float16 \n",
            " 70  verification_status_id      307972 non-null  int8    \n",
            " 71  is_individual               78418 non-null   float16 \n",
            " 72  partner_id                  47734 non-null   category\n",
            " 73  star_rating                 307972 non-null  float16 \n",
            " 74  rating_for_users_yesterday  307972 non-null  float16 \n",
            " 75  review_num                  307972 non-null  int16   \n",
            " 76  relevance_date              307972 non-null  category\n",
            " 77  is_display_at_partners      307972 non-null  int8    \n",
            " 78  status_institution_id       24902 non-null   float16 \n",
            " 79  free_time_relevance_date    1705 non-null    category\n",
            "dtypes: category(22), float16(16), int16(8), int32(6), int8(28)\n",
            "memory usage: 124.9 MB\n"
          ]
        },
        {
          "output_type": "execute_result",
          "data": {
            "text/plain": [
              "            id              date_update                 reg_date  \\\n",
              "108773  112157  2023-01-18 14:43:31.057  2016-10-30 21:07:25.000   \n",
              "210027  214447  2023-01-19 01:52:22.640  2020-10-07 23:16:49.710   \n",
              "51868    53339  2023-10-18 17:17:55.930  2013-05-28 13:45:30.000   \n",
              "\n",
              "                     birth_date      teaching_start_date  user_id  \\\n",
              "108773  1995-08-12 00:00:00.000  2016-09-01 00:00:00.000   194263   \n",
              "210027  1988-01-19 00:00:00.000  2013-09-01 00:00:00.000   712174   \n",
              "51868   1973-02-20 00:00:00.000  1992-09-01 00:00:00.000    54566   \n",
              "\n",
              "        is_email_confirmed  is_home_lessons  is_external_lessons  \\\n",
              "108773                   0                1                    0   \n",
              "210027                   0                0                    1   \n",
              "51868                    0                1                    1   \n",
              "\n",
              "                                        external_comments  ...  \\\n",
              "108773  Ближайший район: Советский район. Выезд: Совет...  ...   \n",
              "210027           Ближайший район: м. Ленинский проспект.   ...   \n",
              "51868                                                 NaN  ...   \n",
              "\n",
              "        verification_status_id  is_individual  partner_id star_rating  \\\n",
              "108773                       3            0.0         NaN    4.300781   \n",
              "210027                       0            NaN         NaN    4.300781   \n",
              "51868                        1            NaN         NaN    5.000000   \n",
              "\n",
              "        rating_for_users_yesterday  review_num           relevance_date  \\\n",
              "108773                       275.0           0  2017-01-01 00:00:00.000   \n",
              "210027                       150.0           0  2020-10-07 23:16:49.710   \n",
              "51868                        945.0           2  2017-01-01 00:00:00.000   \n",
              "\n",
              "        is_display_at_partners  status_institution_id free_time_relevance_date  \n",
              "108773                       1                    NaN                      NaN  \n",
              "210027                       1                    NaN                      NaN  \n",
              "51868                        1                    NaN                      NaN  \n",
              "\n",
              "[3 rows x 80 columns]"
            ],
            "text/html": [
              "\n",
              "  <div id=\"df-ac05f38f-f015-4054-bb27-fcb834cfef27\" class=\"colab-df-container\">\n",
              "    <div>\n",
              "<style scoped>\n",
              "    .dataframe tbody tr th:only-of-type {\n",
              "        vertical-align: middle;\n",
              "    }\n",
              "\n",
              "    .dataframe tbody tr th {\n",
              "        vertical-align: top;\n",
              "    }\n",
              "\n",
              "    .dataframe thead th {\n",
              "        text-align: right;\n",
              "    }\n",
              "</style>\n",
              "<table border=\"1\" class=\"dataframe\">\n",
              "  <thead>\n",
              "    <tr style=\"text-align: right;\">\n",
              "      <th></th>\n",
              "      <th>id</th>\n",
              "      <th>date_update</th>\n",
              "      <th>reg_date</th>\n",
              "      <th>birth_date</th>\n",
              "      <th>teaching_start_date</th>\n",
              "      <th>user_id</th>\n",
              "      <th>is_email_confirmed</th>\n",
              "      <th>is_home_lessons</th>\n",
              "      <th>is_external_lessons</th>\n",
              "      <th>external_comments</th>\n",
              "      <th>...</th>\n",
              "      <th>verification_status_id</th>\n",
              "      <th>is_individual</th>\n",
              "      <th>partner_id</th>\n",
              "      <th>star_rating</th>\n",
              "      <th>rating_for_users_yesterday</th>\n",
              "      <th>review_num</th>\n",
              "      <th>relevance_date</th>\n",
              "      <th>is_display_at_partners</th>\n",
              "      <th>status_institution_id</th>\n",
              "      <th>free_time_relevance_date</th>\n",
              "    </tr>\n",
              "  </thead>\n",
              "  <tbody>\n",
              "    <tr>\n",
              "      <th>108773</th>\n",
              "      <td>112157</td>\n",
              "      <td>2023-01-18 14:43:31.057</td>\n",
              "      <td>2016-10-30 21:07:25.000</td>\n",
              "      <td>1995-08-12 00:00:00.000</td>\n",
              "      <td>2016-09-01 00:00:00.000</td>\n",
              "      <td>194263</td>\n",
              "      <td>0</td>\n",
              "      <td>1</td>\n",
              "      <td>0</td>\n",
              "      <td>Ближайший район: Советский район. Выезд: Совет...</td>\n",
              "      <td>...</td>\n",
              "      <td>3</td>\n",
              "      <td>0.0</td>\n",
              "      <td>NaN</td>\n",
              "      <td>4.300781</td>\n",
              "      <td>275.0</td>\n",
              "      <td>0</td>\n",
              "      <td>2017-01-01 00:00:00.000</td>\n",
              "      <td>1</td>\n",
              "      <td>NaN</td>\n",
              "      <td>NaN</td>\n",
              "    </tr>\n",
              "    <tr>\n",
              "      <th>210027</th>\n",
              "      <td>214447</td>\n",
              "      <td>2023-01-19 01:52:22.640</td>\n",
              "      <td>2020-10-07 23:16:49.710</td>\n",
              "      <td>1988-01-19 00:00:00.000</td>\n",
              "      <td>2013-09-01 00:00:00.000</td>\n",
              "      <td>712174</td>\n",
              "      <td>0</td>\n",
              "      <td>0</td>\n",
              "      <td>1</td>\n",
              "      <td>Ближайший район: м. Ленинский проспект.</td>\n",
              "      <td>...</td>\n",
              "      <td>0</td>\n",
              "      <td>NaN</td>\n",
              "      <td>NaN</td>\n",
              "      <td>4.300781</td>\n",
              "      <td>150.0</td>\n",
              "      <td>0</td>\n",
              "      <td>2020-10-07 23:16:49.710</td>\n",
              "      <td>1</td>\n",
              "      <td>NaN</td>\n",
              "      <td>NaN</td>\n",
              "    </tr>\n",
              "    <tr>\n",
              "      <th>51868</th>\n",
              "      <td>53339</td>\n",
              "      <td>2023-10-18 17:17:55.930</td>\n",
              "      <td>2013-05-28 13:45:30.000</td>\n",
              "      <td>1973-02-20 00:00:00.000</td>\n",
              "      <td>1992-09-01 00:00:00.000</td>\n",
              "      <td>54566</td>\n",
              "      <td>0</td>\n",
              "      <td>1</td>\n",
              "      <td>1</td>\n",
              "      <td>NaN</td>\n",
              "      <td>...</td>\n",
              "      <td>1</td>\n",
              "      <td>NaN</td>\n",
              "      <td>NaN</td>\n",
              "      <td>5.000000</td>\n",
              "      <td>945.0</td>\n",
              "      <td>2</td>\n",
              "      <td>2017-01-01 00:00:00.000</td>\n",
              "      <td>1</td>\n",
              "      <td>NaN</td>\n",
              "      <td>NaN</td>\n",
              "    </tr>\n",
              "  </tbody>\n",
              "</table>\n",
              "<p>3 rows × 80 columns</p>\n",
              "</div>\n",
              "    <div class=\"colab-df-buttons\">\n",
              "\n",
              "  <div class=\"colab-df-container\">\n",
              "    <button class=\"colab-df-convert\" onclick=\"convertToInteractive('df-ac05f38f-f015-4054-bb27-fcb834cfef27')\"\n",
              "            title=\"Convert this dataframe to an interactive table.\"\n",
              "            style=\"display:none;\">\n",
              "\n",
              "  <svg xmlns=\"http://www.w3.org/2000/svg\" height=\"24px\" viewBox=\"0 -960 960 960\">\n",
              "    <path d=\"M120-120v-720h720v720H120Zm60-500h600v-160H180v160Zm220 220h160v-160H400v160Zm0 220h160v-160H400v160ZM180-400h160v-160H180v160Zm440 0h160v-160H620v160ZM180-180h160v-160H180v160Zm440 0h160v-160H620v160Z\"/>\n",
              "  </svg>\n",
              "    </button>\n",
              "\n",
              "  <style>\n",
              "    .colab-df-container {\n",
              "      display:flex;\n",
              "      gap: 12px;\n",
              "    }\n",
              "\n",
              "    .colab-df-convert {\n",
              "      background-color: #E8F0FE;\n",
              "      border: none;\n",
              "      border-radius: 50%;\n",
              "      cursor: pointer;\n",
              "      display: none;\n",
              "      fill: #1967D2;\n",
              "      height: 32px;\n",
              "      padding: 0 0 0 0;\n",
              "      width: 32px;\n",
              "    }\n",
              "\n",
              "    .colab-df-convert:hover {\n",
              "      background-color: #E2EBFA;\n",
              "      box-shadow: 0px 1px 2px rgba(60, 64, 67, 0.3), 0px 1px 3px 1px rgba(60, 64, 67, 0.15);\n",
              "      fill: #174EA6;\n",
              "    }\n",
              "\n",
              "    .colab-df-buttons div {\n",
              "      margin-bottom: 4px;\n",
              "    }\n",
              "\n",
              "    [theme=dark] .colab-df-convert {\n",
              "      background-color: #3B4455;\n",
              "      fill: #D2E3FC;\n",
              "    }\n",
              "\n",
              "    [theme=dark] .colab-df-convert:hover {\n",
              "      background-color: #434B5C;\n",
              "      box-shadow: 0px 1px 3px 1px rgba(0, 0, 0, 0.15);\n",
              "      filter: drop-shadow(0px 1px 2px rgba(0, 0, 0, 0.3));\n",
              "      fill: #FFFFFF;\n",
              "    }\n",
              "  </style>\n",
              "\n",
              "    <script>\n",
              "      const buttonEl =\n",
              "        document.querySelector('#df-ac05f38f-f015-4054-bb27-fcb834cfef27 button.colab-df-convert');\n",
              "      buttonEl.style.display =\n",
              "        google.colab.kernel.accessAllowed ? 'block' : 'none';\n",
              "\n",
              "      async function convertToInteractive(key) {\n",
              "        const element = document.querySelector('#df-ac05f38f-f015-4054-bb27-fcb834cfef27');\n",
              "        const dataTable =\n",
              "          await google.colab.kernel.invokeFunction('convertToInteractive',\n",
              "                                                    [key], {});\n",
              "        if (!dataTable) return;\n",
              "\n",
              "        const docLinkHtml = 'Like what you see? Visit the ' +\n",
              "          '<a target=\"_blank\" href=https://colab.research.google.com/notebooks/data_table.ipynb>data table notebook</a>'\n",
              "          + ' to learn more about interactive tables.';\n",
              "        element.innerHTML = '';\n",
              "        dataTable['output_type'] = 'display_data';\n",
              "        await google.colab.output.renderOutput(dataTable, element);\n",
              "        const docLink = document.createElement('div');\n",
              "        docLink.innerHTML = docLinkHtml;\n",
              "        element.appendChild(docLink);\n",
              "      }\n",
              "    </script>\n",
              "  </div>\n",
              "\n",
              "\n",
              "<div id=\"df-4080d2e8-9c0e-4d11-a283-e6a253147120\">\n",
              "  <button class=\"colab-df-quickchart\" onclick=\"quickchart('df-4080d2e8-9c0e-4d11-a283-e6a253147120')\"\n",
              "            title=\"Suggest charts\"\n",
              "            style=\"display:none;\">\n",
              "\n",
              "<svg xmlns=\"http://www.w3.org/2000/svg\" height=\"24px\"viewBox=\"0 0 24 24\"\n",
              "     width=\"24px\">\n",
              "    <g>\n",
              "        <path d=\"M19 3H5c-1.1 0-2 .9-2 2v14c0 1.1.9 2 2 2h14c1.1 0 2-.9 2-2V5c0-1.1-.9-2-2-2zM9 17H7v-7h2v7zm4 0h-2V7h2v10zm4 0h-2v-4h2v4z\"/>\n",
              "    </g>\n",
              "</svg>\n",
              "  </button>\n",
              "\n",
              "<style>\n",
              "  .colab-df-quickchart {\n",
              "      --bg-color: #E8F0FE;\n",
              "      --fill-color: #1967D2;\n",
              "      --hover-bg-color: #E2EBFA;\n",
              "      --hover-fill-color: #174EA6;\n",
              "      --disabled-fill-color: #AAA;\n",
              "      --disabled-bg-color: #DDD;\n",
              "  }\n",
              "\n",
              "  [theme=dark] .colab-df-quickchart {\n",
              "      --bg-color: #3B4455;\n",
              "      --fill-color: #D2E3FC;\n",
              "      --hover-bg-color: #434B5C;\n",
              "      --hover-fill-color: #FFFFFF;\n",
              "      --disabled-bg-color: #3B4455;\n",
              "      --disabled-fill-color: #666;\n",
              "  }\n",
              "\n",
              "  .colab-df-quickchart {\n",
              "    background-color: var(--bg-color);\n",
              "    border: none;\n",
              "    border-radius: 50%;\n",
              "    cursor: pointer;\n",
              "    display: none;\n",
              "    fill: var(--fill-color);\n",
              "    height: 32px;\n",
              "    padding: 0;\n",
              "    width: 32px;\n",
              "  }\n",
              "\n",
              "  .colab-df-quickchart:hover {\n",
              "    background-color: var(--hover-bg-color);\n",
              "    box-shadow: 0 1px 2px rgba(60, 64, 67, 0.3), 0 1px 3px 1px rgba(60, 64, 67, 0.15);\n",
              "    fill: var(--button-hover-fill-color);\n",
              "  }\n",
              "\n",
              "  .colab-df-quickchart-complete:disabled,\n",
              "  .colab-df-quickchart-complete:disabled:hover {\n",
              "    background-color: var(--disabled-bg-color);\n",
              "    fill: var(--disabled-fill-color);\n",
              "    box-shadow: none;\n",
              "  }\n",
              "\n",
              "  .colab-df-spinner {\n",
              "    border: 2px solid var(--fill-color);\n",
              "    border-color: transparent;\n",
              "    border-bottom-color: var(--fill-color);\n",
              "    animation:\n",
              "      spin 1s steps(1) infinite;\n",
              "  }\n",
              "\n",
              "  @keyframes spin {\n",
              "    0% {\n",
              "      border-color: transparent;\n",
              "      border-bottom-color: var(--fill-color);\n",
              "      border-left-color: var(--fill-color);\n",
              "    }\n",
              "    20% {\n",
              "      border-color: transparent;\n",
              "      border-left-color: var(--fill-color);\n",
              "      border-top-color: var(--fill-color);\n",
              "    }\n",
              "    30% {\n",
              "      border-color: transparent;\n",
              "      border-left-color: var(--fill-color);\n",
              "      border-top-color: var(--fill-color);\n",
              "      border-right-color: var(--fill-color);\n",
              "    }\n",
              "    40% {\n",
              "      border-color: transparent;\n",
              "      border-right-color: var(--fill-color);\n",
              "      border-top-color: var(--fill-color);\n",
              "    }\n",
              "    60% {\n",
              "      border-color: transparent;\n",
              "      border-right-color: var(--fill-color);\n",
              "    }\n",
              "    80% {\n",
              "      border-color: transparent;\n",
              "      border-right-color: var(--fill-color);\n",
              "      border-bottom-color: var(--fill-color);\n",
              "    }\n",
              "    90% {\n",
              "      border-color: transparent;\n",
              "      border-bottom-color: var(--fill-color);\n",
              "    }\n",
              "  }\n",
              "</style>\n",
              "\n",
              "  <script>\n",
              "    async function quickchart(key) {\n",
              "      const quickchartButtonEl =\n",
              "        document.querySelector('#' + key + ' button');\n",
              "      quickchartButtonEl.disabled = true;  // To prevent multiple clicks.\n",
              "      quickchartButtonEl.classList.add('colab-df-spinner');\n",
              "      try {\n",
              "        const charts = await google.colab.kernel.invokeFunction(\n",
              "            'suggestCharts', [key], {});\n",
              "      } catch (error) {\n",
              "        console.error('Error during call to suggestCharts:', error);\n",
              "      }\n",
              "      quickchartButtonEl.classList.remove('colab-df-spinner');\n",
              "      quickchartButtonEl.classList.add('colab-df-quickchart-complete');\n",
              "    }\n",
              "    (() => {\n",
              "      let quickchartButtonEl =\n",
              "        document.querySelector('#df-4080d2e8-9c0e-4d11-a283-e6a253147120 button');\n",
              "      quickchartButtonEl.style.display =\n",
              "        google.colab.kernel.accessAllowed ? 'block' : 'none';\n",
              "    })();\n",
              "  </script>\n",
              "</div>\n",
              "    </div>\n",
              "  </div>\n"
            ]
          },
          "metadata": {},
          "execution_count": 198
        }
      ],
      "source": [
        "teachers_info.info()\n",
        "teachers_info.sample(3)"
      ]
    },
    {
      "cell_type": "code",
      "execution_count": null,
      "id": "21c2f899-54af-453f-815d-edb672b984f1",
      "metadata": {
        "colab": {
          "base_uri": "https://localhost:8080/"
        },
        "id": "21c2f899-54af-453f-815d-edb672b984f1",
        "outputId": "586e8157-4271-4e9e-ffea-019e8c9604eb"
      },
      "outputs": [
        {
          "name": "stdout",
          "output_type": "stream",
          "text": [
            "количество полных дубликатов строк: 0\n"
          ]
        }
      ],
      "source": [
        "print(f\"количество полных дубликатов строк: {teachers_info.duplicated().sum()}\")"
      ]
    },
    {
      "cell_type": "markdown",
      "id": "187d23cf-dfb7-42b6-bfd0-bc0c20cb7a6d",
      "metadata": {
        "id": "187d23cf-dfb7-42b6-bfd0-bc0c20cb7a6d"
      },
      "source": [
        "#### Выводы и наблюдения\n",
        "- в таблице полных дубликатов строк не обнаружено\n",
        "- данные из таблицы teachers_info не примут участия в обучении моделей, т.к. на момент формирования заявки эти данные могут быть не доступны."
      ]
    },
    {
      "cell_type": "markdown",
      "id": "ca1cad0c-a78f-4813-a924-1be81113902c",
      "metadata": {
        "id": "ca1cad0c-a78f-4813-a924-1be81113902c"
      },
      "source": [
        "### Подходящие по фильтру репетиторы"
      ]
    },
    {
      "cell_type": "code",
      "execution_count": null,
      "id": "c3be1df3-dfc6-4e55-9950-6a532739ceb4",
      "metadata": {
        "colab": {
          "base_uri": "https://localhost:8080/",
          "height": 352
        },
        "id": "c3be1df3-dfc6-4e55-9950-6a532739ceb4",
        "outputId": "3b88d378-de98-4cb4-a518-0fc617e13b65"
      },
      "outputs": [
        {
          "name": "stdout",
          "output_type": "stream",
          "text": [
            "<class 'pandas.core.frame.DataFrame'>\n",
            "RangeIndex: 20271186 entries, 0 to 20271185\n",
            "Data columns (total 5 columns):\n",
            " #   Column              Dtype   \n",
            "---  ------              -----   \n",
            " 0   teacher_id          int32   \n",
            " 1   order_id            int32   \n",
            " 2   contact_result      category\n",
            " 3   enable_auto_assign  int8    \n",
            " 4   enable_assign       int8    \n",
            "dtypes: category(1), int32(2), int8(2)\n",
            "memory usage: 232.3 MB\n"
          ]
        },
        {
          "data": {
            "text/html": [
              "\n",
              "  <div id=\"df-53ba336c-32ec-479d-bc16-4101776f3188\" class=\"colab-df-container\">\n",
              "    <div>\n",
              "<style scoped>\n",
              "    .dataframe tbody tr th:only-of-type {\n",
              "        vertical-align: middle;\n",
              "    }\n",
              "\n",
              "    .dataframe tbody tr th {\n",
              "        vertical-align: top;\n",
              "    }\n",
              "\n",
              "    .dataframe thead th {\n",
              "        text-align: right;\n",
              "    }\n",
              "</style>\n",
              "<table border=\"1\" class=\"dataframe\">\n",
              "  <thead>\n",
              "    <tr style=\"text-align: right;\">\n",
              "      <th></th>\n",
              "      <th>teacher_id</th>\n",
              "      <th>order_id</th>\n",
              "      <th>contact_result</th>\n",
              "      <th>enable_auto_assign</th>\n",
              "      <th>enable_assign</th>\n",
              "    </tr>\n",
              "  </thead>\n",
              "  <tbody>\n",
              "    <tr>\n",
              "      <th>6112763</th>\n",
              "      <td>51367</td>\n",
              "      <td>2370961</td>\n",
              "      <td>н</td>\n",
              "      <td>0</td>\n",
              "      <td>0</td>\n",
              "    </tr>\n",
              "    <tr>\n",
              "      <th>19654525</th>\n",
              "      <td>920</td>\n",
              "      <td>2928278</td>\n",
              "      <td>NaN</td>\n",
              "      <td>0</td>\n",
              "      <td>0</td>\n",
              "    </tr>\n",
              "    <tr>\n",
              "      <th>16295120</th>\n",
              "      <td>88743</td>\n",
              "      <td>2817561</td>\n",
              "      <td>NaN</td>\n",
              "      <td>0</td>\n",
              "      <td>0</td>\n",
              "    </tr>\n",
              "  </tbody>\n",
              "</table>\n",
              "</div>\n",
              "    <div class=\"colab-df-buttons\">\n",
              "\n",
              "  <div class=\"colab-df-container\">\n",
              "    <button class=\"colab-df-convert\" onclick=\"convertToInteractive('df-53ba336c-32ec-479d-bc16-4101776f3188')\"\n",
              "            title=\"Convert this dataframe to an interactive table.\"\n",
              "            style=\"display:none;\">\n",
              "\n",
              "  <svg xmlns=\"http://www.w3.org/2000/svg\" height=\"24px\" viewBox=\"0 -960 960 960\">\n",
              "    <path d=\"M120-120v-720h720v720H120Zm60-500h600v-160H180v160Zm220 220h160v-160H400v160Zm0 220h160v-160H400v160ZM180-400h160v-160H180v160Zm440 0h160v-160H620v160ZM180-180h160v-160H180v160Zm440 0h160v-160H620v160Z\"/>\n",
              "  </svg>\n",
              "    </button>\n",
              "\n",
              "  <style>\n",
              "    .colab-df-container {\n",
              "      display:flex;\n",
              "      gap: 12px;\n",
              "    }\n",
              "\n",
              "    .colab-df-convert {\n",
              "      background-color: #E8F0FE;\n",
              "      border: none;\n",
              "      border-radius: 50%;\n",
              "      cursor: pointer;\n",
              "      display: none;\n",
              "      fill: #1967D2;\n",
              "      height: 32px;\n",
              "      padding: 0 0 0 0;\n",
              "      width: 32px;\n",
              "    }\n",
              "\n",
              "    .colab-df-convert:hover {\n",
              "      background-color: #E2EBFA;\n",
              "      box-shadow: 0px 1px 2px rgba(60, 64, 67, 0.3), 0px 1px 3px 1px rgba(60, 64, 67, 0.15);\n",
              "      fill: #174EA6;\n",
              "    }\n",
              "\n",
              "    .colab-df-buttons div {\n",
              "      margin-bottom: 4px;\n",
              "    }\n",
              "\n",
              "    [theme=dark] .colab-df-convert {\n",
              "      background-color: #3B4455;\n",
              "      fill: #D2E3FC;\n",
              "    }\n",
              "\n",
              "    [theme=dark] .colab-df-convert:hover {\n",
              "      background-color: #434B5C;\n",
              "      box-shadow: 0px 1px 3px 1px rgba(0, 0, 0, 0.15);\n",
              "      filter: drop-shadow(0px 1px 2px rgba(0, 0, 0, 0.3));\n",
              "      fill: #FFFFFF;\n",
              "    }\n",
              "  </style>\n",
              "\n",
              "    <script>\n",
              "      const buttonEl =\n",
              "        document.querySelector('#df-53ba336c-32ec-479d-bc16-4101776f3188 button.colab-df-convert');\n",
              "      buttonEl.style.display =\n",
              "        google.colab.kernel.accessAllowed ? 'block' : 'none';\n",
              "\n",
              "      async function convertToInteractive(key) {\n",
              "        const element = document.querySelector('#df-53ba336c-32ec-479d-bc16-4101776f3188');\n",
              "        const dataTable =\n",
              "          await google.colab.kernel.invokeFunction('convertToInteractive',\n",
              "                                                    [key], {});\n",
              "        if (!dataTable) return;\n",
              "\n",
              "        const docLinkHtml = 'Like what you see? Visit the ' +\n",
              "          '<a target=\"_blank\" href=https://colab.research.google.com/notebooks/data_table.ipynb>data table notebook</a>'\n",
              "          + ' to learn more about interactive tables.';\n",
              "        element.innerHTML = '';\n",
              "        dataTable['output_type'] = 'display_data';\n",
              "        await google.colab.output.renderOutput(dataTable, element);\n",
              "        const docLink = document.createElement('div');\n",
              "        docLink.innerHTML = docLinkHtml;\n",
              "        element.appendChild(docLink);\n",
              "      }\n",
              "    </script>\n",
              "  </div>\n",
              "\n",
              "\n",
              "<div id=\"df-16fb6b71-8cac-4a7b-ac52-638596438e91\">\n",
              "  <button class=\"colab-df-quickchart\" onclick=\"quickchart('df-16fb6b71-8cac-4a7b-ac52-638596438e91')\"\n",
              "            title=\"Suggest charts\"\n",
              "            style=\"display:none;\">\n",
              "\n",
              "<svg xmlns=\"http://www.w3.org/2000/svg\" height=\"24px\"viewBox=\"0 0 24 24\"\n",
              "     width=\"24px\">\n",
              "    <g>\n",
              "        <path d=\"M19 3H5c-1.1 0-2 .9-2 2v14c0 1.1.9 2 2 2h14c1.1 0 2-.9 2-2V5c0-1.1-.9-2-2-2zM9 17H7v-7h2v7zm4 0h-2V7h2v10zm4 0h-2v-4h2v4z\"/>\n",
              "    </g>\n",
              "</svg>\n",
              "  </button>\n",
              "\n",
              "<style>\n",
              "  .colab-df-quickchart {\n",
              "      --bg-color: #E8F0FE;\n",
              "      --fill-color: #1967D2;\n",
              "      --hover-bg-color: #E2EBFA;\n",
              "      --hover-fill-color: #174EA6;\n",
              "      --disabled-fill-color: #AAA;\n",
              "      --disabled-bg-color: #DDD;\n",
              "  }\n",
              "\n",
              "  [theme=dark] .colab-df-quickchart {\n",
              "      --bg-color: #3B4455;\n",
              "      --fill-color: #D2E3FC;\n",
              "      --hover-bg-color: #434B5C;\n",
              "      --hover-fill-color: #FFFFFF;\n",
              "      --disabled-bg-color: #3B4455;\n",
              "      --disabled-fill-color: #666;\n",
              "  }\n",
              "\n",
              "  .colab-df-quickchart {\n",
              "    background-color: var(--bg-color);\n",
              "    border: none;\n",
              "    border-radius: 50%;\n",
              "    cursor: pointer;\n",
              "    display: none;\n",
              "    fill: var(--fill-color);\n",
              "    height: 32px;\n",
              "    padding: 0;\n",
              "    width: 32px;\n",
              "  }\n",
              "\n",
              "  .colab-df-quickchart:hover {\n",
              "    background-color: var(--hover-bg-color);\n",
              "    box-shadow: 0 1px 2px rgba(60, 64, 67, 0.3), 0 1px 3px 1px rgba(60, 64, 67, 0.15);\n",
              "    fill: var(--button-hover-fill-color);\n",
              "  }\n",
              "\n",
              "  .colab-df-quickchart-complete:disabled,\n",
              "  .colab-df-quickchart-complete:disabled:hover {\n",
              "    background-color: var(--disabled-bg-color);\n",
              "    fill: var(--disabled-fill-color);\n",
              "    box-shadow: none;\n",
              "  }\n",
              "\n",
              "  .colab-df-spinner {\n",
              "    border: 2px solid var(--fill-color);\n",
              "    border-color: transparent;\n",
              "    border-bottom-color: var(--fill-color);\n",
              "    animation:\n",
              "      spin 1s steps(1) infinite;\n",
              "  }\n",
              "\n",
              "  @keyframes spin {\n",
              "    0% {\n",
              "      border-color: transparent;\n",
              "      border-bottom-color: var(--fill-color);\n",
              "      border-left-color: var(--fill-color);\n",
              "    }\n",
              "    20% {\n",
              "      border-color: transparent;\n",
              "      border-left-color: var(--fill-color);\n",
              "      border-top-color: var(--fill-color);\n",
              "    }\n",
              "    30% {\n",
              "      border-color: transparent;\n",
              "      border-left-color: var(--fill-color);\n",
              "      border-top-color: var(--fill-color);\n",
              "      border-right-color: var(--fill-color);\n",
              "    }\n",
              "    40% {\n",
              "      border-color: transparent;\n",
              "      border-right-color: var(--fill-color);\n",
              "      border-top-color: var(--fill-color);\n",
              "    }\n",
              "    60% {\n",
              "      border-color: transparent;\n",
              "      border-right-color: var(--fill-color);\n",
              "    }\n",
              "    80% {\n",
              "      border-color: transparent;\n",
              "      border-right-color: var(--fill-color);\n",
              "      border-bottom-color: var(--fill-color);\n",
              "    }\n",
              "    90% {\n",
              "      border-color: transparent;\n",
              "      border-bottom-color: var(--fill-color);\n",
              "    }\n",
              "  }\n",
              "</style>\n",
              "\n",
              "  <script>\n",
              "    async function quickchart(key) {\n",
              "      const quickchartButtonEl =\n",
              "        document.querySelector('#' + key + ' button');\n",
              "      quickchartButtonEl.disabled = true;  // To prevent multiple clicks.\n",
              "      quickchartButtonEl.classList.add('colab-df-spinner');\n",
              "      try {\n",
              "        const charts = await google.colab.kernel.invokeFunction(\n",
              "            'suggestCharts', [key], {});\n",
              "      } catch (error) {\n",
              "        console.error('Error during call to suggestCharts:', error);\n",
              "      }\n",
              "      quickchartButtonEl.classList.remove('colab-df-spinner');\n",
              "      quickchartButtonEl.classList.add('colab-df-quickchart-complete');\n",
              "    }\n",
              "    (() => {\n",
              "      let quickchartButtonEl =\n",
              "        document.querySelector('#df-16fb6b71-8cac-4a7b-ac52-638596438e91 button');\n",
              "      quickchartButtonEl.style.display =\n",
              "        google.colab.kernel.accessAllowed ? 'block' : 'none';\n",
              "    })();\n",
              "  </script>\n",
              "</div>\n",
              "    </div>\n",
              "  </div>\n"
            ],
            "text/plain": [
              "          teacher_id  order_id contact_result  enable_auto_assign  \\\n",
              "6112763        51367   2370961              н                   0   \n",
              "19654525         920   2928278            NaN                   0   \n",
              "16295120       88743   2817561            NaN                   0   \n",
              "\n",
              "          enable_assign  \n",
              "6112763               0  \n",
              "19654525              0  \n",
              "16295120              0  "
            ]
          },
          "execution_count": 16,
          "metadata": {},
          "output_type": "execute_result"
        }
      ],
      "source": [
        "suitable_teachers.info()\n",
        "suitable_teachers.sample(3)"
      ]
    },
    {
      "cell_type": "code",
      "execution_count": null,
      "id": "3d72cb22-e910-49de-9b91-d825b1db30c3",
      "metadata": {
        "colab": {
          "base_uri": "https://localhost:8080/"
        },
        "id": "3d72cb22-e910-49de-9b91-d825b1db30c3",
        "outputId": "15ed4d85-2d4f-427d-95c0-dd5847d109ef"
      },
      "outputs": [
        {
          "name": "stdout",
          "output_type": "stream",
          "text": [
            "количество полных дубликатов строк: 49\n",
            "количество полных дубликатов в общем количестве строк: 0.0002%\n"
          ]
        }
      ],
      "source": [
        "print(f\"количество полных дубликатов строк: {suitable_teachers.duplicated().sum()}\")\n",
        "print(f\"\"\"количество полных дубликатов в общем количестве строк: {suitable_teachers.duplicated().sum() /\n",
        "suitable_teachers.shape[0] * 100:.4f}%\"\"\")"
      ]
    },
    {
      "cell_type": "markdown",
      "id": "041cf12c-702a-445b-be11-62c125f2c51a",
      "metadata": {
        "id": "041cf12c-702a-445b-be11-62c125f2c51a"
      },
      "source": [
        "Удаление обнаруженных повторов"
      ]
    },
    {
      "cell_type": "code",
      "execution_count": null,
      "id": "e86bd528-e4ce-49f1-9c5d-612198386b91",
      "metadata": {
        "id": "e86bd528-e4ce-49f1-9c5d-612198386b91"
      },
      "outputs": [],
      "source": [
        "suitable_teachers = suitable_teachers.drop_duplicates().reset_index(drop=True)"
      ]
    },
    {
      "cell_type": "code",
      "execution_count": null,
      "id": "7559aa0e-f8f3-48f6-8dab-fb90a795bafa",
      "metadata": {
        "colab": {
          "base_uri": "https://localhost:8080/"
        },
        "id": "7559aa0e-f8f3-48f6-8dab-fb90a795bafa",
        "outputId": "9bd275e8-91b5-4a3f-fbc4-4bc9bc1bae2e"
      },
      "outputs": [
        {
          "name": "stdout",
          "output_type": "stream",
          "text": [
            "уникальные записи колонки contact_result: ['Репетитор согласился', 'Репетитор положил трубку, либо обрыв связи (O..., ',', NaN, 'Не дозвонились (Oktell)', ..., 'Богородский', '23 екат', 'Репетитор согласился с дополнительными услови..., 'Репетитор согласился с дополнительными услови..., 'к ученику?']\n",
            "Length: 10867\n",
            "Categories (10866, object): ['\\nРепетитор оставил запрос : ', '\\nРепетитор оставил запрос : \\nРепетитор оста...,\n",
            "                             '\\nРепетитор оставил запрос : Договорились о з..., '\\nРепетитор оставил запрос : О занятии догово...,\n",
            "                             ..., '№',\n",
            "                             '№1 анкета понравилась, кл пока не хочет конта..., '№2 анкета не понравилась',\n",
            "                             '№3 анкета отправлена,  кл еще не смотрела']\n",
            "количество уникальных записей колонки contact_result: 10866\n"
          ]
        }
      ],
      "source": [
        "print(f\"уникальные записи колонки contact_result: {suitable_teachers['contact_result'].unique()}\")\n",
        "print(f\"количество уникальных записей колонки contact_result: {suitable_teachers['contact_result'].nunique()}\")"
      ]
    },
    {
      "cell_type": "code",
      "execution_count": null,
      "id": "4ca1953d-1648-4125-9e5e-806606fdd6d7",
      "metadata": {
        "colab": {
          "base_uri": "https://localhost:8080/"
        },
        "id": "4ca1953d-1648-4125-9e5e-806606fdd6d7",
        "outputId": "e8cc3dad-b7fa-4d5d-b527-6b27b40d31b5"
      },
      "outputs": [
        {
          "name": "stdout",
          "output_type": "stream",
          "text": [
            "уникальные записи колонки enable_auto_assign: [1 0]\n",
            "уникальные записи колонки enable_assign: [1 0]\n"
          ]
        }
      ],
      "source": [
        "print(f\"уникальные записи колонки enable_auto_assign: {suitable_teachers['enable_auto_assign'].unique()}\")\n",
        "print(f\"уникальные записи колонки enable_assign: {suitable_teachers['enable_assign'].unique()}\")"
      ]
    },
    {
      "cell_type": "markdown",
      "id": "95ff489d-dda8-41b7-9df7-cecf60df99b7",
      "metadata": {
        "id": "95ff489d-dda8-41b7-9df7-cecf60df99b7"
      },
      "source": [
        "#### Выводы и наблюдения\n",
        "- в таблице обнаружены дубликаты строк (0.0002% от общего количества данных)\n",
        "- принято решение об удалении найденных повторов ввиду их малочисленности\n",
        "- к категориальным признакам относятся: enable_auto_assign и enable_assign\n",
        "- в признаке contact_result внесена информация в произвольном формате,\n",
        "  <br>имеются совсем неинформативные записи ('23 екат', '...')"
      ]
    },
    {
      "cell_type": "markdown",
      "id": "b653f575-88f6-4b93-8ff5-09cd74e83f20",
      "metadata": {
        "id": "b653f575-88f6-4b93-8ff5-09cd74e83f20"
      },
      "source": [
        "### Желаемые репетиторы (которых выбрал клиент)"
      ]
    },
    {
      "cell_type": "code",
      "execution_count": null,
      "id": "abaf4430-67c7-4cfb-9f27-6ee887268e67",
      "metadata": {
        "colab": {
          "base_uri": "https://localhost:8080/",
          "height": 300
        },
        "id": "abaf4430-67c7-4cfb-9f27-6ee887268e67",
        "outputId": "7e5f7281-4a50-46cd-e5ac-8188d690e54d"
      },
      "outputs": [
        {
          "name": "stdout",
          "output_type": "stream",
          "text": [
            "<class 'pandas.core.frame.DataFrame'>\n",
            "RangeIndex: 1135198 entries, 0 to 1135197\n",
            "Data columns (total 2 columns):\n",
            " #   Column      Non-Null Count    Dtype\n",
            "---  ------      --------------    -----\n",
            " 0   order_id    1135198 non-null  int32\n",
            " 1   teacher_id  1135198 non-null  int32\n",
            "dtypes: int32(2)\n",
            "memory usage: 8.7 MB\n"
          ]
        },
        {
          "data": {
            "text/html": [
              "\n",
              "  <div id=\"df-cf9af24b-34b0-40a9-afb8-831d0592cdb6\" class=\"colab-df-container\">\n",
              "    <div>\n",
              "<style scoped>\n",
              "    .dataframe tbody tr th:only-of-type {\n",
              "        vertical-align: middle;\n",
              "    }\n",
              "\n",
              "    .dataframe tbody tr th {\n",
              "        vertical-align: top;\n",
              "    }\n",
              "\n",
              "    .dataframe thead th {\n",
              "        text-align: right;\n",
              "    }\n",
              "</style>\n",
              "<table border=\"1\" class=\"dataframe\">\n",
              "  <thead>\n",
              "    <tr style=\"text-align: right;\">\n",
              "      <th></th>\n",
              "      <th>order_id</th>\n",
              "      <th>teacher_id</th>\n",
              "    </tr>\n",
              "  </thead>\n",
              "  <tbody>\n",
              "    <tr>\n",
              "      <th>10497</th>\n",
              "      <td>1914739</td>\n",
              "      <td>4247</td>\n",
              "    </tr>\n",
              "    <tr>\n",
              "      <th>695435</th>\n",
              "      <td>2720606</td>\n",
              "      <td>127721</td>\n",
              "    </tr>\n",
              "    <tr>\n",
              "      <th>686625</th>\n",
              "      <td>2207750</td>\n",
              "      <td>156109</td>\n",
              "    </tr>\n",
              "  </tbody>\n",
              "</table>\n",
              "</div>\n",
              "    <div class=\"colab-df-buttons\">\n",
              "\n",
              "  <div class=\"colab-df-container\">\n",
              "    <button class=\"colab-df-convert\" onclick=\"convertToInteractive('df-cf9af24b-34b0-40a9-afb8-831d0592cdb6')\"\n",
              "            title=\"Convert this dataframe to an interactive table.\"\n",
              "            style=\"display:none;\">\n",
              "\n",
              "  <svg xmlns=\"http://www.w3.org/2000/svg\" height=\"24px\" viewBox=\"0 -960 960 960\">\n",
              "    <path d=\"M120-120v-720h720v720H120Zm60-500h600v-160H180v160Zm220 220h160v-160H400v160Zm0 220h160v-160H400v160ZM180-400h160v-160H180v160Zm440 0h160v-160H620v160ZM180-180h160v-160H180v160Zm440 0h160v-160H620v160Z\"/>\n",
              "  </svg>\n",
              "    </button>\n",
              "\n",
              "  <style>\n",
              "    .colab-df-container {\n",
              "      display:flex;\n",
              "      gap: 12px;\n",
              "    }\n",
              "\n",
              "    .colab-df-convert {\n",
              "      background-color: #E8F0FE;\n",
              "      border: none;\n",
              "      border-radius: 50%;\n",
              "      cursor: pointer;\n",
              "      display: none;\n",
              "      fill: #1967D2;\n",
              "      height: 32px;\n",
              "      padding: 0 0 0 0;\n",
              "      width: 32px;\n",
              "    }\n",
              "\n",
              "    .colab-df-convert:hover {\n",
              "      background-color: #E2EBFA;\n",
              "      box-shadow: 0px 1px 2px rgba(60, 64, 67, 0.3), 0px 1px 3px 1px rgba(60, 64, 67, 0.15);\n",
              "      fill: #174EA6;\n",
              "    }\n",
              "\n",
              "    .colab-df-buttons div {\n",
              "      margin-bottom: 4px;\n",
              "    }\n",
              "\n",
              "    [theme=dark] .colab-df-convert {\n",
              "      background-color: #3B4455;\n",
              "      fill: #D2E3FC;\n",
              "    }\n",
              "\n",
              "    [theme=dark] .colab-df-convert:hover {\n",
              "      background-color: #434B5C;\n",
              "      box-shadow: 0px 1px 3px 1px rgba(0, 0, 0, 0.15);\n",
              "      filter: drop-shadow(0px 1px 2px rgba(0, 0, 0, 0.3));\n",
              "      fill: #FFFFFF;\n",
              "    }\n",
              "  </style>\n",
              "\n",
              "    <script>\n",
              "      const buttonEl =\n",
              "        document.querySelector('#df-cf9af24b-34b0-40a9-afb8-831d0592cdb6 button.colab-df-convert');\n",
              "      buttonEl.style.display =\n",
              "        google.colab.kernel.accessAllowed ? 'block' : 'none';\n",
              "\n",
              "      async function convertToInteractive(key) {\n",
              "        const element = document.querySelector('#df-cf9af24b-34b0-40a9-afb8-831d0592cdb6');\n",
              "        const dataTable =\n",
              "          await google.colab.kernel.invokeFunction('convertToInteractive',\n",
              "                                                    [key], {});\n",
              "        if (!dataTable) return;\n",
              "\n",
              "        const docLinkHtml = 'Like what you see? Visit the ' +\n",
              "          '<a target=\"_blank\" href=https://colab.research.google.com/notebooks/data_table.ipynb>data table notebook</a>'\n",
              "          + ' to learn more about interactive tables.';\n",
              "        element.innerHTML = '';\n",
              "        dataTable['output_type'] = 'display_data';\n",
              "        await google.colab.output.renderOutput(dataTable, element);\n",
              "        const docLink = document.createElement('div');\n",
              "        docLink.innerHTML = docLinkHtml;\n",
              "        element.appendChild(docLink);\n",
              "      }\n",
              "    </script>\n",
              "  </div>\n",
              "\n",
              "\n",
              "<div id=\"df-f8a0f16c-e23b-440c-9e81-92ac6a40ee2d\">\n",
              "  <button class=\"colab-df-quickchart\" onclick=\"quickchart('df-f8a0f16c-e23b-440c-9e81-92ac6a40ee2d')\"\n",
              "            title=\"Suggest charts\"\n",
              "            style=\"display:none;\">\n",
              "\n",
              "<svg xmlns=\"http://www.w3.org/2000/svg\" height=\"24px\"viewBox=\"0 0 24 24\"\n",
              "     width=\"24px\">\n",
              "    <g>\n",
              "        <path d=\"M19 3H5c-1.1 0-2 .9-2 2v14c0 1.1.9 2 2 2h14c1.1 0 2-.9 2-2V5c0-1.1-.9-2-2-2zM9 17H7v-7h2v7zm4 0h-2V7h2v10zm4 0h-2v-4h2v4z\"/>\n",
              "    </g>\n",
              "</svg>\n",
              "  </button>\n",
              "\n",
              "<style>\n",
              "  .colab-df-quickchart {\n",
              "      --bg-color: #E8F0FE;\n",
              "      --fill-color: #1967D2;\n",
              "      --hover-bg-color: #E2EBFA;\n",
              "      --hover-fill-color: #174EA6;\n",
              "      --disabled-fill-color: #AAA;\n",
              "      --disabled-bg-color: #DDD;\n",
              "  }\n",
              "\n",
              "  [theme=dark] .colab-df-quickchart {\n",
              "      --bg-color: #3B4455;\n",
              "      --fill-color: #D2E3FC;\n",
              "      --hover-bg-color: #434B5C;\n",
              "      --hover-fill-color: #FFFFFF;\n",
              "      --disabled-bg-color: #3B4455;\n",
              "      --disabled-fill-color: #666;\n",
              "  }\n",
              "\n",
              "  .colab-df-quickchart {\n",
              "    background-color: var(--bg-color);\n",
              "    border: none;\n",
              "    border-radius: 50%;\n",
              "    cursor: pointer;\n",
              "    display: none;\n",
              "    fill: var(--fill-color);\n",
              "    height: 32px;\n",
              "    padding: 0;\n",
              "    width: 32px;\n",
              "  }\n",
              "\n",
              "  .colab-df-quickchart:hover {\n",
              "    background-color: var(--hover-bg-color);\n",
              "    box-shadow: 0 1px 2px rgba(60, 64, 67, 0.3), 0 1px 3px 1px rgba(60, 64, 67, 0.15);\n",
              "    fill: var(--button-hover-fill-color);\n",
              "  }\n",
              "\n",
              "  .colab-df-quickchart-complete:disabled,\n",
              "  .colab-df-quickchart-complete:disabled:hover {\n",
              "    background-color: var(--disabled-bg-color);\n",
              "    fill: var(--disabled-fill-color);\n",
              "    box-shadow: none;\n",
              "  }\n",
              "\n",
              "  .colab-df-spinner {\n",
              "    border: 2px solid var(--fill-color);\n",
              "    border-color: transparent;\n",
              "    border-bottom-color: var(--fill-color);\n",
              "    animation:\n",
              "      spin 1s steps(1) infinite;\n",
              "  }\n",
              "\n",
              "  @keyframes spin {\n",
              "    0% {\n",
              "      border-color: transparent;\n",
              "      border-bottom-color: var(--fill-color);\n",
              "      border-left-color: var(--fill-color);\n",
              "    }\n",
              "    20% {\n",
              "      border-color: transparent;\n",
              "      border-left-color: var(--fill-color);\n",
              "      border-top-color: var(--fill-color);\n",
              "    }\n",
              "    30% {\n",
              "      border-color: transparent;\n",
              "      border-left-color: var(--fill-color);\n",
              "      border-top-color: var(--fill-color);\n",
              "      border-right-color: var(--fill-color);\n",
              "    }\n",
              "    40% {\n",
              "      border-color: transparent;\n",
              "      border-right-color: var(--fill-color);\n",
              "      border-top-color: var(--fill-color);\n",
              "    }\n",
              "    60% {\n",
              "      border-color: transparent;\n",
              "      border-right-color: var(--fill-color);\n",
              "    }\n",
              "    80% {\n",
              "      border-color: transparent;\n",
              "      border-right-color: var(--fill-color);\n",
              "      border-bottom-color: var(--fill-color);\n",
              "    }\n",
              "    90% {\n",
              "      border-color: transparent;\n",
              "      border-bottom-color: var(--fill-color);\n",
              "    }\n",
              "  }\n",
              "</style>\n",
              "\n",
              "  <script>\n",
              "    async function quickchart(key) {\n",
              "      const quickchartButtonEl =\n",
              "        document.querySelector('#' + key + ' button');\n",
              "      quickchartButtonEl.disabled = true;  // To prevent multiple clicks.\n",
              "      quickchartButtonEl.classList.add('colab-df-spinner');\n",
              "      try {\n",
              "        const charts = await google.colab.kernel.invokeFunction(\n",
              "            'suggestCharts', [key], {});\n",
              "      } catch (error) {\n",
              "        console.error('Error during call to suggestCharts:', error);\n",
              "      }\n",
              "      quickchartButtonEl.classList.remove('colab-df-spinner');\n",
              "      quickchartButtonEl.classList.add('colab-df-quickchart-complete');\n",
              "    }\n",
              "    (() => {\n",
              "      let quickchartButtonEl =\n",
              "        document.querySelector('#df-f8a0f16c-e23b-440c-9e81-92ac6a40ee2d button');\n",
              "      quickchartButtonEl.style.display =\n",
              "        google.colab.kernel.accessAllowed ? 'block' : 'none';\n",
              "    })();\n",
              "  </script>\n",
              "</div>\n",
              "    </div>\n",
              "  </div>\n"
            ],
            "text/plain": [
              "        order_id  teacher_id\n",
              "10497    1914739        4247\n",
              "695435   2720606      127721\n",
              "686625   2207750      156109"
            ]
          },
          "execution_count": 13,
          "metadata": {},
          "output_type": "execute_result"
        }
      ],
      "source": [
        "prefered_teachers_order_id.info()\n",
        "prefered_teachers_order_id.sample(3)"
      ]
    },
    {
      "cell_type": "code",
      "execution_count": null,
      "id": "519d2697-9005-4e90-b8d5-5a7ca7c4c00b",
      "metadata": {
        "colab": {
          "base_uri": "https://localhost:8080/"
        },
        "id": "519d2697-9005-4e90-b8d5-5a7ca7c4c00b",
        "outputId": "1c7207a8-fc6c-4fd5-c48f-45c95b09b31e"
      },
      "outputs": [
        {
          "name": "stdout",
          "output_type": "stream",
          "text": [
            "количество полных дубликатов строк: 16\n",
            "количество полных дубликатов в общем количестве строк: 0.001%\n"
          ]
        }
      ],
      "source": [
        "print(f\"количество полных дубликатов строк: {prefered_teachers_order_id.duplicated().sum()}\")\n",
        "print(f\"количество полных дубликатов в общем количестве строк: {prefered_teachers_order_id.duplicated().sum() / prefered_teachers_order_id.shape[0] * 100:.3f}%\")"
      ]
    },
    {
      "cell_type": "markdown",
      "id": "9f700356-4aa5-4ebb-af4f-4cd216d85a4f",
      "metadata": {
        "id": "9f700356-4aa5-4ebb-af4f-4cd216d85a4f"
      },
      "source": [
        "Удаление обнаруженных повторов"
      ]
    },
    {
      "cell_type": "code",
      "execution_count": null,
      "id": "476b3475-4268-4e61-aaec-d069b8e50ba4",
      "metadata": {
        "id": "476b3475-4268-4e61-aaec-d069b8e50ba4"
      },
      "outputs": [],
      "source": [
        "prefered_teachers_order_id = prefered_teachers_order_id.drop_duplicates().reset_index(drop=True)"
      ]
    },
    {
      "cell_type": "markdown",
      "id": "3b397d7d-8e0c-46a6-97f6-e954ceac35f1",
      "metadata": {
        "id": "3b397d7d-8e0c-46a6-97f6-e954ceac35f1"
      },
      "source": [
        "#### Выводы и наблюдения\n",
        "- в таблице обнаружены дубликаты строк (0.001% от общего количества данных)\n",
        "- принято решение об удалении найденных повторов ввиду их малочисленности"
      ]
    },
    {
      "cell_type": "code",
      "execution_count": null,
      "id": "0aa6cfa3-9043-4beb-9a28-d597ed468678",
      "metadata": {
        "id": "0aa6cfa3-9043-4beb-9a28-d597ed468678"
      },
      "outputs": [],
      "source": []
    },
    {
      "cell_type": "code",
      "execution_count": null,
      "id": "d0b7ea17-4de9-459e-9029-558372137b8b",
      "metadata": {
        "id": "d0b7ea17-4de9-459e-9029-558372137b8b"
      },
      "outputs": [],
      "source": []
    },
    {
      "cell_type": "code",
      "execution_count": null,
      "id": "0ea45973-9897-488c-a499-066354c61f99",
      "metadata": {
        "id": "0ea45973-9897-488c-a499-066354c61f99"
      },
      "outputs": [],
      "source": []
    },
    {
      "cell_type": "code",
      "execution_count": null,
      "id": "a985d4c1-b697-438e-ae9f-c07bf0e6b08e",
      "metadata": {
        "id": "a985d4c1-b697-438e-ae9f-c07bf0e6b08e"
      },
      "outputs": [],
      "source": []
    },
    {
      "cell_type": "code",
      "execution_count": null,
      "id": "0cd1bcc9-83f8-4d61-afef-f9bdc02704f8",
      "metadata": {
        "id": "0cd1bcc9-83f8-4d61-afef-f9bdc02704f8"
      },
      "outputs": [],
      "source": []
    },
    {
      "cell_type": "code",
      "execution_count": null,
      "id": "85d0a128-dec1-4433-aded-2cef0743aa2f",
      "metadata": {
        "id": "85d0a128-dec1-4433-aded-2cef0743aa2f"
      },
      "outputs": [],
      "source": []
    },
    {
      "cell_type": "code",
      "execution_count": null,
      "id": "eb3de6d4-8902-4307-a02d-11690a9e7a87",
      "metadata": {
        "id": "eb3de6d4-8902-4307-a02d-11690a9e7a87"
      },
      "outputs": [],
      "source": []
    },
    {
      "cell_type": "code",
      "execution_count": null,
      "id": "b8104030-6801-44df-bb90-0ba4c0cb4386",
      "metadata": {
        "id": "b8104030-6801-44df-bb90-0ba4c0cb4386"
      },
      "outputs": [],
      "source": []
    },
    {
      "cell_type": "code",
      "execution_count": null,
      "id": "281933d3-bc51-4a9f-93c7-fe36ad302dfe",
      "metadata": {
        "id": "281933d3-bc51-4a9f-93c7-fe36ad302dfe"
      },
      "outputs": [],
      "source": []
    },
    {
      "cell_type": "markdown",
      "id": "dae7ae06-66a2-43d5-b72e-5f16b926bae7",
      "metadata": {
        "id": "dae7ae06-66a2-43d5-b72e-5f16b926bae7"
      },
      "source": [
        "## Выбор лучшей модели"
      ]
    },
    {
      "cell_type": "code",
      "execution_count": null,
      "id": "3fd1828a-c62f-4a9e-ab70-e1ba5da7ebb3",
      "metadata": {
        "id": "3fd1828a-c62f-4a9e-ab70-e1ba5da7ebb3"
      },
      "outputs": [],
      "source": [
        "dict_sum = {'Baseline': [roc_auc_baseline, precision_baseline],\n",
        "         'Catboost': [roc_auc_cb, precision_cb],\n",
        "         'LightGBM': [roc_auc_lgb, precision_lgb]}\n",
        "summary_data = (pd.DataFrame.from_dict(dict_sum, orient='index',\n",
        "                                      columns=[\"roc-auc\", \"precision\"]).reset_index()\n",
        "                                      .rename(columns={'index': 'model'})\n",
        "                                      )\n",
        "summary_data"
      ]
    },
    {
      "cell_type": "markdown",
      "id": "6d86efff-e28d-44f0-a4a5-99d1c77f93de",
      "metadata": {
        "id": "6d86efff-e28d-44f0-a4a5-99d1c77f93de"
      },
      "source": [
        "## Создание файла зависимостей"
      ]
    },
    {
      "cell_type": "code",
      "execution_count": null,
      "id": "9dbc8d10-ef72-49ec-9b2c-7131e9cf6258",
      "metadata": {
        "id": "9dbc8d10-ef72-49ec-9b2c-7131e9cf6258"
      },
      "outputs": [],
      "source": [
        "# !pipreqsnb operator_performance_analytics.ipynb"
      ]
    },
    {
      "cell_type": "markdown",
      "id": "bd3ed611-5363-4738-9b86-4162f77e1ca4",
      "metadata": {
        "id": "bd3ed611-5363-4738-9b86-4162f77e1ca4"
      },
      "source": [
        "## Заключение"
      ]
    },
    {
      "cell_type": "code",
      "execution_count": null,
      "id": "3de0c169-511d-4d4d-a7b0-dcf56211ca3c",
      "metadata": {
        "id": "3de0c169-511d-4d4d-a7b0-dcf56211ca3c"
      },
      "outputs": [],
      "source": []
    }
  ],
  "metadata": {
    "colab": {
      "provenance": [],
      "toc_visible": true
    },
    "kernelspec": {
      "display_name": "Python 3 (ipykernel)",
      "language": "python",
      "name": "python3"
    },
    "language_info": {
      "codemirror_mode": {
        "name": "ipython",
        "version": 3
      },
      "file_extension": ".py",
      "mimetype": "text/x-python",
      "name": "python",
      "nbconvert_exporter": "python",
      "pygments_lexer": "ipython3",
      "version": "3.10.12"
    }
  },
  "nbformat": 4,
  "nbformat_minor": 5
}