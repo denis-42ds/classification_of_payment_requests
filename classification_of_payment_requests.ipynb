{
 "cells": [
  {
   "cell_type": "markdown",
   "id": "fafc79b1-7618-4579-a88e-f9ed24059363",
   "metadata": {},
   "source": [
    "# Построение ML-продукта для оптимизации классификации заявок на оплату для сервиса Repetit.ru\n",
    "\n",
    "**Описание проекта**\n",
    "<br>Сервис Repetit.ru работает с большим количеством заявок от клиентов с данными о предмете, \n",
    "<br>желаемой стоимости, возрасте ученика, целью занятий и тд. \n",
    "<br>К сожалению, 7 из 8 не доходят до оплаты, при этом обработка заявки консультантом увеличивает конверсию в оплату на 30%. \n",
    "<br>Проблема в том, что консультантов не хватает на все заявки и получается, что чем больше заявок — \n",
    "<br>тем меньше конверсия из заявки в оплату и консультанты тратят время на бесперспективные заявки.\n",
    "\n",
    "**Цель:**\n",
    "- Сократить загрузку отдела консультантов на 30% \n",
    "- Увеличить конверсию в оплату на 15 п.п. через сегментацию заявок по вероятности их оплаты\n",
    "\n",
    "**Задачи:**\n",
    "<br>Разработать модель, которая по имеющейся информации о клиенте и заявке будет предсказывать вероятность оплаты заявки клиентом. \n",
    "<br>Заказчик хочет понять, какие заявки будут оплачены, а какие нет, чтобы одни обрабатывать вручную консультантами, а другие нет. \n",
    "<br>Оценка качества модели будет производиться с использованием `precision` и `ROC-AUC`.\n",
    "\n",
    "**Ход исследования:**\n",
    "- загрузка данных и ознакомление с ними,\n",
    "- отбор подходящих признаков,\n",
    "- EDA,\n",
    "- создание новых признаков (при необходимости),\n",
    "- отбор финального набора обучающих признаков,\n",
    "- выбор и обучение моделей (разных архитектур),\n",
    "- оценка качества предсказания лучшей модели на тестовой выборке,\n",
    "- анализ важности признаков лучшей модели,\n",
    "- создание сервиса в виде Docker Container,\n",
    "- отчёт по проведённому исследованию.\n",
    "\n",
    "**Описание данных**\n",
    "- Заявки (orders*.csv)\n",
    "  - order_date - дата создания \n",
    "  - subject_id - предмет\n",
    "  - purpose - цель занятий\n",
    "  - lesson_price - цена\n",
    "  - lesson_duration - желаемая проодолжительность урока\n",
    "  - home_metro_id - ближайшее метро\n",
    "  - add_info - доп инфо\n",
    "  - start_date\n",
    "  - working_teacher_id\n",
    "  - status_id - оплачена ли заявка (значения 6 и 13 говорят о факте оплаты заявки)\n",
    "  - comments   \n",
    "  - amount_to_pay\n",
    "  - planned_lesson_number - клиент планирует N занятий\n",
    "  - first_lesson_date - дата 1 занятия\n",
    "  - coef - коэффициент\n",
    "  - creator_id - кто создал заявку (id сотрудника или клиента)\n",
    "  - pupil_category_new_id - возраст ученика\n",
    "  - lessons_per_week - занятий а неделю\n",
    "  - minimal_price\n",
    "  - teacher_sex - пол репетитора\n",
    "  - teacher_experience_from - опыт репетитора от\n",
    "  - teacher_experience_to- опыт репетитора до\n",
    "  - lesson_place_new - онлайн, у ученика, у учителя\n",
    "  - pupil_knowledgelvl -уровень знаний ученика\n",
    "  - teacher_age_from - желаемый возраст репеитора от\n",
    "  - teacher_age_to - желаемый возраст репеитора от\n",
    "  - chosen_teachers_only - не предлагать репетиторов кроме выбранных самостоятельно\n",
    "  - no_teachers_available - на заявку нет подходящих репов\n",
    "  - source_id - где создана заявка (какая часть сайта, не регион)\n",
    "  - original_order_id - дублем какой заявки является эта заявка\n",
    "  - client_id - айди клиента\n",
    "  - additional_status_id\n",
    "  - max_metro_distance - максимально готов ехать от метро\n",
    "  - estimated_fee \n",
    "  - payment_date\n",
    "  - test_group - аб тесты\n",
    "  - is_display_to_teachers - хочет ли клиент получать отклики репетиторов\n",
    "\n",
    "- Репетиторы (teacher_info.csv)\n",
    "  - date_update\n",
    "  - reg_date\n",
    "  - birth_date\n",
    "  - teaching_start_date\n",
    "  - user_id - айди\n",
    "  - is_email_confirmed\n",
    "  - is_home_lessons\n",
    "  - is_external_lessons\n",
    "  - external_comments\n",
    "  - lesson_duration - продолжит урока\n",
    "  - lesson_cost - стоимость урока\n",
    "  - status_id\n",
    "  - status_relevant_date\n",
    "  - status_school_id\n",
    "  - status_college_id\n",
    "  - status_display\n",
    "  - russian_level_id\n",
    "  - home_country_id\n",
    "  - education\n",
    "  - information\n",
    "  - is_confirmed\n",
    "  - is_display - показывается в каталоге\n",
    "  - rating_id \n",
    "  - rating - рейтинг\n",
    "  - comments\n",
    "  - rules_confirmed_date\n",
    "  - last_visited - послеждний визит\n",
    "  - is_pupils_needed - открыт для заявок\n",
    "  - is_cell_phone_confirmed\n",
    "  - effective_rating - какой-то еще рейтинг\n",
    "  - area_id\n",
    "  - registrar_id\n",
    "  - pupil_needed_date\n",
    "  - sex\n",
    "  - amount_to_pay - долг\n",
    "  - is_remote_lessons\n",
    "  - remote_comments\n",
    "  - show_on_map\n",
    "  - send_mailing\n",
    "  - send_suitable_orders\n",
    "  - rating_for_users - рейтинг 2\n",
    "  - rating_for_admin - рейтинг 3\n",
    "  - passport_id\n",
    "  - is_edited\n",
    "  - orders_allowed - разрешено назначать на заявки\n",
    "  - display_days\n",
    "  - verification_status_id\n",
    "  - is_individual\n",
    "  - partner_id\n",
    "  - star_rating - рейтинг 4\n",
    "  - rating_for_users_yesterday - рейтинг вчера\n",
    "  - review_num - отзывы\n",
    "  - relevance_date\n",
    "  - is_display_at_partners\n",
    "  - video_presentation_id - есть видеопрезентация\n",
    "  - status_institution_id\n",
    "  - Free_time_relevance_date\n",
    "\n",
    "\n",
    "- Подходящие по фильтру репетиторы (suitable_teachers.csv)\n",
    "  - tteacher_id - id репетитора\n",
    "  - order_id - id заявки\n",
    "  - contact_result    \n",
    "  - enable_auto_assign - доступен ли репетитор к работе или заблокирован\n",
    "    <br>(может ли репетитора назначить консультант и может ли он сам назначиться)\n",
    "    <br>(значение известно на момент подачи заявки)\n",
    "  - enable_assign - доступен ли репетитор к работе или заблокирован\n",
    "    <br>(может ли репетитора назначить консультант и может ли он сам назначиться)\n",
    "    <br>(значение известно на момент подачи заявки)\n",
    "\n",
    "\n",
    "- Желаемые репетиторы (prefered_teachers_order_id.csv)\n",
    "  <br>Репетиторы, которых выбрал клиент.\n",
    "  - tteacher_id - id репетитора\n",
    "  - order_id - id заявки"
   ]
  },
  {
   "cell_type": "markdown",
   "id": "d190daae-10d5-4ff4-91ee-491fe808ce6f",
   "metadata": {},
   "source": [
    "## Импорт библиотек"
   ]
  },
  {
   "cell_type": "code",
   "execution_count": 1,
   "id": "bcf86d0b-8897-4f36-8e19-d87476be2fc5",
   "metadata": {},
   "outputs": [],
   "source": [
    "# import shap\n",
    "# import phik\n",
    "# import torch\n",
    "import random\n",
    "import warnings\n",
    "# import numpy as np\n",
    "import pandas as pd\n",
    "# import lightgbm as lgb\n",
    "import matplotlib.pyplot as plt\n",
    "\n",
    "# from catboost import CatBoostClassifier, Pool\n",
    "# from phik.report import plot_correlation_matrix\n",
    "# from sklearn.linear_model import LogisticRegression\n",
    "# from sklearn.model_selection import train_test_split\n",
    "# from sklearn.preprocessing import OrdinalEncoder, StandardScaler\n",
    "# from sklearn.metrics import roc_curve, roc_auc_score, precision_score \n",
    "\n",
    "warnings.filterwarnings(\"ignore\", category=UserWarning)"
   ]
  },
  {
   "cell_type": "markdown",
   "id": "462e4196-c967-47ec-8765-42cb78595cc2",
   "metadata": {},
   "source": [
    "Подключение к GPU"
   ]
  },
  {
   "cell_type": "code",
   "execution_count": 3,
   "id": "4c9385bd-8c3d-4328-9760-68ae2f8466a3",
   "metadata": {},
   "outputs": [],
   "source": [
    "# device = torch.device(\"cuda\" if torch.cuda.is_available() else \"cpu\")"
   ]
  },
  {
   "cell_type": "markdown",
   "id": "abac2610-e8d8-4ad0-9dd3-57e796575ef0",
   "metadata": {},
   "source": [
    "Установка констант"
   ]
  },
  {
   "cell_type": "code",
   "execution_count": 4,
   "id": "e0347b25-266c-4f9a-8c18-bf087221661f",
   "metadata": {},
   "outputs": [],
   "source": [
    "RANDOM_STATE = 42"
   ]
  },
  {
   "cell_type": "markdown",
   "id": "1b807ba0-fe1c-41a8-bb40-4b08ccce8d51",
   "metadata": {},
   "source": [
    "Установка `random_state`"
   ]
  },
  {
   "cell_type": "code",
   "execution_count": 5,
   "id": "3f25f699-33f3-4629-b01c-17491e229016",
   "metadata": {},
   "outputs": [],
   "source": [
    "random.seed(RANDOM_STATE)\n",
    "np.random.seed(RANDOM_STATE)"
   ]
  },
  {
   "cell_type": "markdown",
   "id": "bf35ad81-4b4e-491b-9fe5-7d811bb61a90",
   "metadata": {},
   "source": [
    "## Загрузка данных"
   ]
  },
  {
   "cell_type": "code",
   "execution_count": 2,
   "id": "791d7727-9507-4050-b7fc-9ddc1aef879b",
   "metadata": {},
   "outputs": [],
   "source": [
    "orders = pd.read_feather('data/orders.feather')\n",
    "teachers_info = pd.read_feather('data/teachers_info.feather')\n",
    "suitable_teachers = pd.read_feather('data/suitable_teachers.feather')\n",
    "prefered_teachers_order_id = pd.read_feather('data/prefered_teachers_order_id.feather')"
   ]
  },
  {
   "cell_type": "markdown",
   "id": "e207b8ff-7851-488e-9a77-0188c2ad903f",
   "metadata": {},
   "source": [
    "### Заявки"
   ]
  },
  {
   "cell_type": "code",
   "execution_count": 3,
   "id": "d94c2ed5-f070-477e-8840-963f539a1a95",
   "metadata": {},
   "outputs": [
    {
     "name": "stdout",
     "output_type": "stream",
     "text": [
      "<class 'pandas.core.frame.DataFrame'>\n",
      "Index: 1191861 entries, 0 to 437216\n",
      "Data columns (total 38 columns):\n",
      " #   Column                   Non-Null Count    Dtype  \n",
      "---  ------                   --------------    -----  \n",
      " 0   id                       1191861 non-null  int32  \n",
      " 1   order_date               1191861 non-null  object \n",
      " 2   subject_id               1181529 non-null  float32\n",
      " 3   purpose                  1025351 non-null  object \n",
      " 4   lesson_price             1191861 non-null  int32  \n",
      " 5   lesson_duration          1191861 non-null  int32  \n",
      " 6   lesson_place             31 non-null       object \n",
      " 7   home_metro_id            642447 non-null   float32\n",
      " 8   add_info                 1044688 non-null  object \n",
      " 9   start_date               705578 non-null   object \n",
      " 10  working_teacher_id       705988 non-null   float32\n",
      " 11  status_id                1191861 non-null  int32  \n",
      " 12  comments                 341468 non-null   object \n",
      " 13  prefered_teacher_id      4 non-null        float32\n",
      " 14  amount_to_pay            1191861 non-null  object \n",
      " 15  planned_lesson_number    1191861 non-null  int32  \n",
      " 16  first_lesson_date        166571 non-null   object \n",
      " 17  creator_id               579698 non-null   float32\n",
      " 18  pupil_category_new_id    1032470 non-null  float32\n",
      " 19  lessons_per_week         1191861 non-null  int32  \n",
      " 20  minimal_price            1191861 non-null  int32  \n",
      " 21  teacher_sex              1191861 non-null  int32  \n",
      " 22  teacher_experience_from  1191861 non-null  int32  \n",
      " 23  teacher_experience_to    1191861 non-null  int32  \n",
      " 24  lesson_place_new         1191861 non-null  int32  \n",
      " 25  pupil_knowledgelvl       1191861 non-null  int32  \n",
      " 26  teacher_age_from         1191861 non-null  int32  \n",
      " 27  teacher_age_to           1191861 non-null  int32  \n",
      " 28  chosen_teachers_only     1191861 non-null  int8   \n",
      " 29  no_teachers_available    1191861 non-null  int8   \n",
      " 30  source_id                1191861 non-null  int32  \n",
      " 31  original_order_id        582588 non-null   float32\n",
      " 32  client_id                1191861 non-null  int32  \n",
      " 33  additional_status_id     1042385 non-null  float32\n",
      " 34  max_metro_distance       13518 non-null    float32\n",
      " 35  estimated_fee            747152 non-null   object \n",
      " 36  payment_date             129665 non-null   object \n",
      " 37  is_display_to_teachers   1191861 non-null  int8   \n",
      "dtypes: float32(9), int32(16), int8(3), object(10)\n",
      "memory usage: 217.1+ MB\n"
     ]
    },
    {
     "data": {
      "text/html": [
       "<div>\n",
       "<style scoped>\n",
       "    .dataframe tbody tr th:only-of-type {\n",
       "        vertical-align: middle;\n",
       "    }\n",
       "\n",
       "    .dataframe tbody tr th {\n",
       "        vertical-align: top;\n",
       "    }\n",
       "\n",
       "    .dataframe thead th {\n",
       "        text-align: right;\n",
       "    }\n",
       "</style>\n",
       "<table border=\"1\" class=\"dataframe\">\n",
       "  <thead>\n",
       "    <tr style=\"text-align: right;\">\n",
       "      <th></th>\n",
       "      <th>id</th>\n",
       "      <th>order_date</th>\n",
       "      <th>subject_id</th>\n",
       "      <th>purpose</th>\n",
       "      <th>lesson_price</th>\n",
       "      <th>lesson_duration</th>\n",
       "      <th>lesson_place</th>\n",
       "      <th>home_metro_id</th>\n",
       "      <th>add_info</th>\n",
       "      <th>start_date</th>\n",
       "      <th>...</th>\n",
       "      <th>chosen_teachers_only</th>\n",
       "      <th>no_teachers_available</th>\n",
       "      <th>source_id</th>\n",
       "      <th>original_order_id</th>\n",
       "      <th>client_id</th>\n",
       "      <th>additional_status_id</th>\n",
       "      <th>max_metro_distance</th>\n",
       "      <th>estimated_fee</th>\n",
       "      <th>payment_date</th>\n",
       "      <th>is_display_to_teachers</th>\n",
       "    </tr>\n",
       "  </thead>\n",
       "  <tbody>\n",
       "    <tr>\n",
       "      <th>380084</th>\n",
       "      <td>2223358</td>\n",
       "      <td>2022-09-28 10:58:38.000</td>\n",
       "      <td>21.0</td>\n",
       "      <td>Разделы: инженерная графика.\\nКатегория ученик...</td>\n",
       "      <td>1000</td>\n",
       "      <td>60</td>\n",
       "      <td>None</td>\n",
       "      <td>205.0</td>\n",
       "      <td>Район: г. Долгопрудный.\\nМесто проведения заня...</td>\n",
       "      <td>None</td>\n",
       "      <td>...</td>\n",
       "      <td>0</td>\n",
       "      <td>1</td>\n",
       "      <td>16</td>\n",
       "      <td>NaN</td>\n",
       "      <td>886298</td>\n",
       "      <td>8.0</td>\n",
       "      <td>NaN</td>\n",
       "      <td>None</td>\n",
       "      <td>None</td>\n",
       "      <td>1</td>\n",
       "    </tr>\n",
       "  </tbody>\n",
       "</table>\n",
       "<p>1 rows × 38 columns</p>\n",
       "</div>"
      ],
      "text/plain": [
       "             id               order_date  subject_id  \\\n",
       "380084  2223358  2022-09-28 10:58:38.000        21.0   \n",
       "\n",
       "                                                  purpose  lesson_price  \\\n",
       "380084  Разделы: инженерная графика.\\nКатегория ученик...          1000   \n",
       "\n",
       "        lesson_duration lesson_place  home_metro_id  \\\n",
       "380084               60         None          205.0   \n",
       "\n",
       "                                                 add_info start_date  ...  \\\n",
       "380084  Район: г. Долгопрудный.\\nМесто проведения заня...       None  ...   \n",
       "\n",
       "        chosen_teachers_only  no_teachers_available source_id  \\\n",
       "380084                     0                      1        16   \n",
       "\n",
       "        original_order_id client_id  additional_status_id max_metro_distance  \\\n",
       "380084                NaN    886298                   8.0                NaN   \n",
       "\n",
       "        estimated_fee  payment_date  is_display_to_teachers  \n",
       "380084           None          None                       1  \n",
       "\n",
       "[1 rows x 38 columns]"
      ]
     },
     "execution_count": 3,
     "metadata": {},
     "output_type": "execute_result"
    }
   ],
   "source": [
    "orders.info()\n",
    "orders.sample()"
   ]
  },
  {
   "cell_type": "code",
   "execution_count": 8,
   "id": "8b482983-9957-4ffc-b5b0-6f63451acc5c",
   "metadata": {},
   "outputs": [
    {
     "name": "stdout",
     "output_type": "stream",
     "text": [
      "количество полных дубликатов строк: 0\n",
      "количество полных дубликатов в общем количестве строк: 0.000%\n"
     ]
    }
   ],
   "source": [
    "print(f\"количество полных дубликатов строк: {orders.duplicated().sum()}\")\n",
    "print(f\"количество полных дубликатов в общем количестве строк: {orders.duplicated().sum() / orders.shape[0] * 100:.3f}%\")"
   ]
  },
  {
   "cell_type": "markdown",
   "id": "12304ff6-23c1-4440-95f5-edd915fe85a3",
   "metadata": {},
   "source": [
    "Удаление обнаруженных повторов строк"
   ]
  },
  {
   "cell_type": "code",
   "execution_count": 7,
   "id": "006ef292-8bbd-4f77-82cb-652e95cd9506",
   "metadata": {},
   "outputs": [],
   "source": [
    "orders = orders.drop_duplicates().reset_index(drop=True)"
   ]
  },
  {
   "cell_type": "code",
   "execution_count": null,
   "id": "341d8bb6-e8f8-41f0-8a0f-2c263e2edc96",
   "metadata": {},
   "outputs": [],
   "source": []
  },
  {
   "cell_type": "code",
   "execution_count": null,
   "id": "4cfe5625-521b-499b-a6ae-4a41780b01d9",
   "metadata": {},
   "outputs": [],
   "source": []
  },
  {
   "cell_type": "markdown",
   "id": "8a0d896d-261c-48a0-8ef8-7507a9f73b1a",
   "metadata": {},
   "source": [
    "#### Выводы и наблюдения\n",
    "- в таблице обнаружены дубликаты строк (0.076% от общего количества данных)\n",
    "- принято решение об удалении найденных повторов ввиду их малочисленности"
   ]
  },
  {
   "cell_type": "markdown",
   "id": "70eead6f-3c53-46f1-bb19-4c6ea83af6cf",
   "metadata": {},
   "source": [
    "### Репетиторы"
   ]
  },
  {
   "cell_type": "code",
   "execution_count": 29,
   "id": "a64289a8-6b70-4ced-afc9-6f8b699aff17",
   "metadata": {},
   "outputs": [
    {
     "name": "stdout",
     "output_type": "stream",
     "text": [
      "<class 'pandas.core.frame.DataFrame'>\n",
      "RangeIndex: 307972 entries, 0 to 307971\n",
      "Data columns (total 80 columns):\n",
      " #   Column                      Non-Null Count   Dtype   \n",
      "---  ------                      --------------   -----   \n",
      " 0   id                          307972 non-null  int32   \n",
      " 1   date_update                 307972 non-null  category\n",
      " 2   reg_date                    307972 non-null  category\n",
      " 3   birth_date                  307972 non-null  category\n",
      " 4   teaching_start_date         307972 non-null  category\n",
      " 5   user_id                     307972 non-null  int32   \n",
      " 6   is_email_confirmed          307972 non-null  int8    \n",
      " 7   is_home_lessons             307972 non-null  int8    \n",
      " 8   is_external_lessons         307972 non-null  int8    \n",
      " 9   external_comments           90978 non-null   category\n",
      " 10  lesson_duration             307972 non-null  int16   \n",
      " 11  lesson_cost                 307972 non-null  int32   \n",
      " 12  status_id                   307972 non-null  int8    \n",
      " 13  status_relevant_date        46379 non-null   category\n",
      " 14  status_school_id            14873 non-null   float16 \n",
      " 15  status_college_id           6543 non-null    float16 \n",
      " 16  status_display              307972 non-null  int8    \n",
      " 17  russian_level_id            307972 non-null  int8    \n",
      " 18  home_country_id             307972 non-null  int16   \n",
      " 19  information                 132972 non-null  category\n",
      " 20  is_confirmed                307972 non-null  int8    \n",
      " 21  external_comments.1         90978 non-null   category\n",
      " 22  lesson_duration.1           307972 non-null  int16   \n",
      " 23  lesson_cost.1               307972 non-null  int32   \n",
      " 24  status_id.1                 307972 non-null  int8    \n",
      " 25  status_relevant_date.1      46379 non-null   category\n",
      " 26  status_school_id.1          14873 non-null   float16 \n",
      " 27  status_college_id.1         6543 non-null    float16 \n",
      " 28  status_display.1            307972 non-null  int8    \n",
      " 29  russian_level_id.1          307972 non-null  int8    \n",
      " 30  home_country_id.1           307972 non-null  int16   \n",
      " 31  information.1               132972 non-null  category\n",
      " 32  is_confirmed.1              307972 non-null  int8    \n",
      " 33  external_comments.2         90978 non-null   category\n",
      " 34  lesson_duration.2           307972 non-null  int16   \n",
      " 35  lesson_cost.2               307972 non-null  int32   \n",
      " 36  status_id.2                 307972 non-null  int8    \n",
      " 37  status_relevant_date.2      46379 non-null   category\n",
      " 38  status_school_id.2          14873 non-null   float16 \n",
      " 39  status_college_id.2         6543 non-null    float16 \n",
      " 40  status_display.2            307972 non-null  int8    \n",
      " 41  russian_level_id.2          307972 non-null  int8    \n",
      " 42  home_country_id.2           307972 non-null  int16   \n",
      " 43  photo_path                  185484 non-null  category\n",
      " 44  information.2               132972 non-null  category\n",
      " 45  is_confirmed.2              307972 non-null  int8    \n",
      " 46  is_display                  307972 non-null  int8    \n",
      " 47  rating_id                   307972 non-null  int8    \n",
      " 48  rating                      307972 non-null  int32   \n",
      " 49  comments                    44940 non-null   category\n",
      " 50  rules_confirmed_date        307972 non-null  category\n",
      " 51  last_visited                235837 non-null  category\n",
      " 52  is_pupils_needed            11208 non-null   float16 \n",
      " 53  is_cell_phone_confirmed     307972 non-null  int8    \n",
      " 54  effective_rating            307972 non-null  float16 \n",
      " 55  area_id                     307972 non-null  int8    \n",
      " 56  pupil_needed_date           29928 non-null   category\n",
      " 57  sex                         307972 non-null  int8    \n",
      " 58  amount_to_pay               307972 non-null  int16   \n",
      " 59  is_remote_lessons           307972 non-null  int8    \n",
      " 60  remote_comments             6043 non-null    category\n",
      " 61  show_on_map                 307972 non-null  int8    \n",
      " 62  send_mailing                307972 non-null  int8    \n",
      " 63  send_suitable_orders        307972 non-null  int8    \n",
      " 64  rating_for_users            307972 non-null  float16 \n",
      " 65  rating_for_admin            307972 non-null  float16 \n",
      " 66  passport_id                 1323 non-null    float16 \n",
      " 67  is_edited                   307972 non-null  int8    \n",
      " 68  orders_allowed              307972 non-null  int8    \n",
      " 69  display_days                307972 non-null  float16 \n",
      " 70  verification_status_id      307972 non-null  int8    \n",
      " 71  is_individual               78418 non-null   float16 \n",
      " 72  partner_id                  47734 non-null   category\n",
      " 73  star_rating                 307972 non-null  float16 \n",
      " 74  rating_for_users_yesterday  307972 non-null  float16 \n",
      " 75  review_num                  307972 non-null  int16   \n",
      " 76  relevance_date              307972 non-null  category\n",
      " 77  is_display_at_partners      307972 non-null  int8    \n",
      " 78  status_institution_id       24902 non-null   float16 \n",
      " 79  free_time_relevance_date    1705 non-null    category\n",
      "dtypes: category(22), float16(16), int16(8), int32(6), int8(28)\n",
      "memory usage: 124.9 MB\n"
     ]
    },
    {
     "data": {
      "text/html": [
       "<div>\n",
       "<style scoped>\n",
       "    .dataframe tbody tr th:only-of-type {\n",
       "        vertical-align: middle;\n",
       "    }\n",
       "\n",
       "    .dataframe tbody tr th {\n",
       "        vertical-align: top;\n",
       "    }\n",
       "\n",
       "    .dataframe thead th {\n",
       "        text-align: right;\n",
       "    }\n",
       "</style>\n",
       "<table border=\"1\" class=\"dataframe\">\n",
       "  <thead>\n",
       "    <tr style=\"text-align: right;\">\n",
       "      <th></th>\n",
       "      <th>id</th>\n",
       "      <th>date_update</th>\n",
       "      <th>reg_date</th>\n",
       "      <th>birth_date</th>\n",
       "      <th>teaching_start_date</th>\n",
       "      <th>user_id</th>\n",
       "      <th>is_email_confirmed</th>\n",
       "      <th>is_home_lessons</th>\n",
       "      <th>is_external_lessons</th>\n",
       "      <th>external_comments</th>\n",
       "      <th>...</th>\n",
       "      <th>verification_status_id</th>\n",
       "      <th>is_individual</th>\n",
       "      <th>partner_id</th>\n",
       "      <th>star_rating</th>\n",
       "      <th>rating_for_users_yesterday</th>\n",
       "      <th>review_num</th>\n",
       "      <th>relevance_date</th>\n",
       "      <th>is_display_at_partners</th>\n",
       "      <th>status_institution_id</th>\n",
       "      <th>free_time_relevance_date</th>\n",
       "    </tr>\n",
       "  </thead>\n",
       "  <tbody>\n",
       "    <tr>\n",
       "      <th>296348</th>\n",
       "      <td>300981</td>\n",
       "      <td>2023-08-09 13:27:38.977</td>\n",
       "      <td>2023-08-07 12:59:11.427</td>\n",
       "      <td>1990-07-11 00:00:00.000</td>\n",
       "      <td>2019-09-01 00:00:00.000</td>\n",
       "      <td>1237080</td>\n",
       "      <td>0</td>\n",
       "      <td>0</td>\n",
       "      <td>0</td>\n",
       "      <td>NaN</td>\n",
       "      <td>...</td>\n",
       "      <td>0</td>\n",
       "      <td>NaN</td>\n",
       "      <td>NaN</td>\n",
       "      <td>4.300781</td>\n",
       "      <td>0.0</td>\n",
       "      <td>0</td>\n",
       "      <td>2023-08-07 12:59:11.427</td>\n",
       "      <td>0</td>\n",
       "      <td>NaN</td>\n",
       "      <td>NaN</td>\n",
       "    </tr>\n",
       "    <tr>\n",
       "      <th>43368</th>\n",
       "      <td>44785</td>\n",
       "      <td>2023-01-19 17:14:45.783</td>\n",
       "      <td>2012-10-23 15:40:27.000</td>\n",
       "      <td>1992-04-23 00:00:00.000</td>\n",
       "      <td>2008-09-01 00:00:00.000</td>\n",
       "      <td>45965</td>\n",
       "      <td>0</td>\n",
       "      <td>0</td>\n",
       "      <td>1</td>\n",
       "      <td>Ближайший район: м. Войковская. Выезд в районы...</td>\n",
       "      <td>...</td>\n",
       "      <td>1</td>\n",
       "      <td>0.0</td>\n",
       "      <td>NaN</td>\n",
       "      <td>4.300781</td>\n",
       "      <td>25.0</td>\n",
       "      <td>0</td>\n",
       "      <td>2017-01-01 00:00:00.000</td>\n",
       "      <td>1</td>\n",
       "      <td>NaN</td>\n",
       "      <td>NaN</td>\n",
       "    </tr>\n",
       "    <tr>\n",
       "      <th>141766</th>\n",
       "      <td>145161</td>\n",
       "      <td>2023-01-19 19:28:14.800</td>\n",
       "      <td>2018-07-23 10:28:46.863</td>\n",
       "      <td>1998-08-27 00:00:00.000</td>\n",
       "      <td>2016-09-01 00:00:00.000</td>\n",
       "      <td>371432</td>\n",
       "      <td>0</td>\n",
       "      <td>0</td>\n",
       "      <td>1</td>\n",
       "      <td>Ближайший район: м. Каховская.</td>\n",
       "      <td>...</td>\n",
       "      <td>0</td>\n",
       "      <td>NaN</td>\n",
       "      <td>ga_mow_own_sn_hv</td>\n",
       "      <td>4.300781</td>\n",
       "      <td>0.0</td>\n",
       "      <td>0</td>\n",
       "      <td>2018-07-23 10:28:46.863</td>\n",
       "      <td>0</td>\n",
       "      <td>NaN</td>\n",
       "      <td>NaN</td>\n",
       "    </tr>\n",
       "  </tbody>\n",
       "</table>\n",
       "<p>3 rows × 80 columns</p>\n",
       "</div>"
      ],
      "text/plain": [
       "            id              date_update                 reg_date  \\\n",
       "296348  300981  2023-08-09 13:27:38.977  2023-08-07 12:59:11.427   \n",
       "43368    44785  2023-01-19 17:14:45.783  2012-10-23 15:40:27.000   \n",
       "141766  145161  2023-01-19 19:28:14.800  2018-07-23 10:28:46.863   \n",
       "\n",
       "                     birth_date      teaching_start_date  user_id  \\\n",
       "296348  1990-07-11 00:00:00.000  2019-09-01 00:00:00.000  1237080   \n",
       "43368   1992-04-23 00:00:00.000  2008-09-01 00:00:00.000    45965   \n",
       "141766  1998-08-27 00:00:00.000  2016-09-01 00:00:00.000   371432   \n",
       "\n",
       "        is_email_confirmed  is_home_lessons  is_external_lessons  \\\n",
       "296348                   0                0                    0   \n",
       "43368                    0                0                    1   \n",
       "141766                   0                0                    1   \n",
       "\n",
       "                                        external_comments  ...  \\\n",
       "296348                                                NaN  ...   \n",
       "43368   Ближайший район: м. Войковская. Выезд в районы...  ...   \n",
       "141766                    Ближайший район: м. Каховская.   ...   \n",
       "\n",
       "        verification_status_id  is_individual        partner_id star_rating  \\\n",
       "296348                       0            NaN               NaN    4.300781   \n",
       "43368                        1            0.0               NaN    4.300781   \n",
       "141766                       0            NaN  ga_mow_own_sn_hv    4.300781   \n",
       "\n",
       "        rating_for_users_yesterday  review_num           relevance_date  \\\n",
       "296348                         0.0           0  2023-08-07 12:59:11.427   \n",
       "43368                         25.0           0  2017-01-01 00:00:00.000   \n",
       "141766                         0.0           0  2018-07-23 10:28:46.863   \n",
       "\n",
       "        is_display_at_partners  status_institution_id free_time_relevance_date  \n",
       "296348                       0                    NaN                      NaN  \n",
       "43368                        1                    NaN                      NaN  \n",
       "141766                       0                    NaN                      NaN  \n",
       "\n",
       "[3 rows x 80 columns]"
      ]
     },
     "execution_count": 29,
     "metadata": {},
     "output_type": "execute_result"
    }
   ],
   "source": [
    "teachers_info.info()\n",
    "teachers_info.sample(3)"
   ]
  },
  {
   "cell_type": "code",
   "execution_count": 31,
   "id": "21c2f899-54af-453f-815d-edb672b984f1",
   "metadata": {},
   "outputs": [
    {
     "name": "stdout",
     "output_type": "stream",
     "text": [
      "количество полных дубликатов строк: 0\n"
     ]
    }
   ],
   "source": [
    "print(f\"количество полных дубликатов строк: {teachers_info.duplicated().sum()}\")"
   ]
  },
  {
   "cell_type": "code",
   "execution_count": null,
   "id": "b0da70c0-6a95-458a-8209-0bf9b35da057",
   "metadata": {},
   "outputs": [],
   "source": []
  },
  {
   "cell_type": "code",
   "execution_count": null,
   "id": "38494cf9-584e-4763-9374-083806697daa",
   "metadata": {},
   "outputs": [],
   "source": []
  },
  {
   "cell_type": "markdown",
   "id": "187d23cf-dfb7-42b6-bfd0-bc0c20cb7a6d",
   "metadata": {},
   "source": [
    "#### Выводы и наблюдения\n",
    "- в таблице полных дубликатов строк не обнаружено"
   ]
  },
  {
   "cell_type": "markdown",
   "id": "ca1cad0c-a78f-4813-a924-1be81113902c",
   "metadata": {},
   "source": [
    "### Подходящие по фильтру репетиторы"
   ]
  },
  {
   "cell_type": "code",
   "execution_count": 5,
   "id": "c3be1df3-dfc6-4e55-9950-6a532739ceb4",
   "metadata": {},
   "outputs": [
    {
     "name": "stdout",
     "output_type": "stream",
     "text": [
      "<class 'pandas.core.frame.DataFrame'>\n",
      "RangeIndex: 20271186 entries, 0 to 20271185\n",
      "Data columns (total 5 columns):\n",
      " #   Column              Dtype   \n",
      "---  ------              -----   \n",
      " 0   teacher_id          int32   \n",
      " 1   order_id            int32   \n",
      " 2   contact_result      category\n",
      " 3   enable_auto_assign  int8    \n",
      " 4   enable_assign       int8    \n",
      "dtypes: category(1), int32(2), int8(2)\n",
      "memory usage: 232.3 MB\n"
     ]
    },
    {
     "data": {
      "text/html": [
       "<div>\n",
       "<style scoped>\n",
       "    .dataframe tbody tr th:only-of-type {\n",
       "        vertical-align: middle;\n",
       "    }\n",
       "\n",
       "    .dataframe tbody tr th {\n",
       "        vertical-align: top;\n",
       "    }\n",
       "\n",
       "    .dataframe thead th {\n",
       "        text-align: right;\n",
       "    }\n",
       "</style>\n",
       "<table border=\"1\" class=\"dataframe\">\n",
       "  <thead>\n",
       "    <tr style=\"text-align: right;\">\n",
       "      <th></th>\n",
       "      <th>teacher_id</th>\n",
       "      <th>order_id</th>\n",
       "      <th>contact_result</th>\n",
       "      <th>enable_auto_assign</th>\n",
       "      <th>enable_assign</th>\n",
       "    </tr>\n",
       "  </thead>\n",
       "  <tbody>\n",
       "    <tr>\n",
       "      <th>8828660</th>\n",
       "      <td>147450</td>\n",
       "      <td>2525666</td>\n",
       "      <td>.</td>\n",
       "      <td>0</td>\n",
       "      <td>0</td>\n",
       "    </tr>\n",
       "    <tr>\n",
       "      <th>16177678</th>\n",
       "      <td>237441</td>\n",
       "      <td>2813560</td>\n",
       "      <td>NaN</td>\n",
       "      <td>0</td>\n",
       "      <td>0</td>\n",
       "    </tr>\n",
       "    <tr>\n",
       "      <th>9724241</th>\n",
       "      <td>19499</td>\n",
       "      <td>2557037</td>\n",
       "      <td>.</td>\n",
       "      <td>0</td>\n",
       "      <td>0</td>\n",
       "    </tr>\n",
       "  </tbody>\n",
       "</table>\n",
       "</div>"
      ],
      "text/plain": [
       "          teacher_id  order_id contact_result  enable_auto_assign  \\\n",
       "8828660       147450   2525666              .                   0   \n",
       "16177678      237441   2813560            NaN                   0   \n",
       "9724241        19499   2557037              .                   0   \n",
       "\n",
       "          enable_assign  \n",
       "8828660               0  \n",
       "16177678              0  \n",
       "9724241               0  "
      ]
     },
     "execution_count": 5,
     "metadata": {},
     "output_type": "execute_result"
    }
   ],
   "source": [
    "suitable_teachers.info()\n",
    "suitable_teachers.sample(3)"
   ]
  },
  {
   "cell_type": "code",
   "execution_count": 14,
   "id": "3d72cb22-e910-49de-9b91-d825b1db30c3",
   "metadata": {},
   "outputs": [
    {
     "name": "stdout",
     "output_type": "stream",
     "text": [
      "количество полных дубликатов строк: 0\n",
      "количество полных дубликатов в общем количестве строк: 0.0000%\n"
     ]
    }
   ],
   "source": [
    "print(f\"количество полных дубликатов строк: {suitable_teachers.duplicated().sum()}\")\n",
    "print(f\"\"\"количество полных дубликатов в общем количестве строк: {suitable_teachers.duplicated().sum() / \n",
    "suitable_teachers.shape[0] * 100:.4f}%\"\"\")"
   ]
  },
  {
   "cell_type": "markdown",
   "id": "041cf12c-702a-445b-be11-62c125f2c51a",
   "metadata": {},
   "source": [
    "Удаление обнаруженных повторов"
   ]
  },
  {
   "cell_type": "code",
   "execution_count": 13,
   "id": "e86bd528-e4ce-49f1-9c5d-612198386b91",
   "metadata": {},
   "outputs": [],
   "source": [
    "suitable_teachers = suitable_teachers.drop_duplicates().reset_index(drop=True)"
   ]
  },
  {
   "cell_type": "code",
   "execution_count": 25,
   "id": "7559aa0e-f8f3-48f6-8dab-fb90a795bafa",
   "metadata": {},
   "outputs": [
    {
     "name": "stdout",
     "output_type": "stream",
     "text": [
      "уникальные записи колонки contact_result: ['Репетитор согласился', 'Репетитор положил трубку, либо обрыв связи (O..., ',', NaN, 'Не дозвонились (Oktell)', ..., 'Богородский', '23 екат', 'Репетитор согласился с дополнительными услови..., 'Репетитор согласился с дополнительными услови..., 'к ученику?']\n",
      "Length: 10867\n",
      "Categories (10866, object): ['\\nРепетитор оставил запрос : ', '\\nРепетитор оставил запрос : \\nРепетитор оста..., '\\nРепетитор оставил запрос : Договорились о з..., '\\nРепетитор оставил запрос : О занятии догово..., ..., '№', '№1 анкета понравилась, кл пока не хочет конта..., '№2 анкета не понравилась', '№3 анкета отправлена,  кл еще не смотрела']\n",
      "количество уникальных записей колонки contact_result: 10866\n"
     ]
    }
   ],
   "source": [
    "print(f\"уникальные записи колонки contact_result: {suitable_teachers['contact_result'].unique()}\")\n",
    "print(f\"количество уникальных записей колонки contact_result: {suitable_teachers['contact_result'].nunique()}\")"
   ]
  },
  {
   "cell_type": "code",
   "execution_count": 23,
   "id": "4ca1953d-1648-4125-9e5e-806606fdd6d7",
   "metadata": {},
   "outputs": [
    {
     "name": "stdout",
     "output_type": "stream",
     "text": [
      "уникальные записи колонки enable_auto_assign: [1 0]\n",
      "уникальные записи колонки enable_assign: [1 0]\n"
     ]
    }
   ],
   "source": [
    "print(f\"уникальные записи колонки enable_auto_assign: {suitable_teachers['enable_auto_assign'].unique()}\")\n",
    "print(f\"уникальные записи колонки enable_assign: {suitable_teachers['enable_assign'].unique()}\")"
   ]
  },
  {
   "cell_type": "markdown",
   "id": "95ff489d-dda8-41b7-9df7-cecf60df99b7",
   "metadata": {},
   "source": [
    "#### Выводы и наблюдения\n",
    "- в таблице обнаружены дубликаты строк (0.0002% от общего количества данных)\n",
    "- принято решение об удалении найденных повторов ввиду их малочисленности\n",
    "- к категориальным признакам относятся: enable_auto_assign и enable_assign\n",
    "- в признаке contact_result внесена информация в произвольном формате,\n",
    "  <br>имеются совсем неинформативные записи ('23 екат', '...')"
   ]
  },
  {
   "cell_type": "markdown",
   "id": "b653f575-88f6-4b93-8ff5-09cd74e83f20",
   "metadata": {},
   "source": [
    "### Желаемые репетиторы (которых выбрал клиент)"
   ]
  },
  {
   "cell_type": "code",
   "execution_count": 9,
   "id": "abaf4430-67c7-4cfb-9f27-6ee887268e67",
   "metadata": {},
   "outputs": [
    {
     "name": "stdout",
     "output_type": "stream",
     "text": [
      "<class 'pandas.core.frame.DataFrame'>\n",
      "RangeIndex: 1135198 entries, 0 to 1135197\n",
      "Data columns (total 2 columns):\n",
      " #   Column      Non-Null Count    Dtype\n",
      "---  ------      --------------    -----\n",
      " 0   order_id    1135198 non-null  int32\n",
      " 1   teacher_id  1135198 non-null  int32\n",
      "dtypes: int32(2)\n",
      "memory usage: 8.7 MB\n"
     ]
    },
    {
     "data": {
      "text/html": [
       "<div>\n",
       "<style scoped>\n",
       "    .dataframe tbody tr th:only-of-type {\n",
       "        vertical-align: middle;\n",
       "    }\n",
       "\n",
       "    .dataframe tbody tr th {\n",
       "        vertical-align: top;\n",
       "    }\n",
       "\n",
       "    .dataframe thead th {\n",
       "        text-align: right;\n",
       "    }\n",
       "</style>\n",
       "<table border=\"1\" class=\"dataframe\">\n",
       "  <thead>\n",
       "    <tr style=\"text-align: right;\">\n",
       "      <th></th>\n",
       "      <th>order_id</th>\n",
       "      <th>teacher_id</th>\n",
       "    </tr>\n",
       "  </thead>\n",
       "  <tbody>\n",
       "    <tr>\n",
       "      <th>198577</th>\n",
       "      <td>1760293</td>\n",
       "      <td>38193</td>\n",
       "    </tr>\n",
       "    <tr>\n",
       "      <th>219191</th>\n",
       "      <td>2191747</td>\n",
       "      <td>81008</td>\n",
       "    </tr>\n",
       "    <tr>\n",
       "      <th>1089470</th>\n",
       "      <td>2388892</td>\n",
       "      <td>203361</td>\n",
       "    </tr>\n",
       "  </tbody>\n",
       "</table>\n",
       "</div>"
      ],
      "text/plain": [
       "         order_id  teacher_id\n",
       "198577    1760293       38193\n",
       "219191    2191747       81008\n",
       "1089470   2388892      203361"
      ]
     },
     "execution_count": 9,
     "metadata": {},
     "output_type": "execute_result"
    }
   ],
   "source": [
    "prefered_teachers_order_id.info()\n",
    "prefered_teachers_order_id.sample(3)"
   ]
  },
  {
   "cell_type": "code",
   "execution_count": 21,
   "id": "519d2697-9005-4e90-b8d5-5a7ca7c4c00b",
   "metadata": {},
   "outputs": [
    {
     "name": "stdout",
     "output_type": "stream",
     "text": [
      "количество полных дубликатов строк: 16\n",
      "количество полных дубликатов в общем количестве строк: 0.001%\n"
     ]
    }
   ],
   "source": [
    "print(f\"количество полных дубликатов строк: {prefered_teachers_order_id.duplicated().sum()}\")\n",
    "print(f\"количество полных дубликатов в общем количестве строк: {prefered_teachers_order_id.duplicated().sum() / prefered_teachers_order_id.shape[0] * 100:.3f}%\")"
   ]
  },
  {
   "cell_type": "markdown",
   "id": "9f700356-4aa5-4ebb-af4f-4cd216d85a4f",
   "metadata": {},
   "source": [
    "Удаление обнаруженных повторов"
   ]
  },
  {
   "cell_type": "code",
   "execution_count": 24,
   "id": "476b3475-4268-4e61-aaec-d069b8e50ba4",
   "metadata": {},
   "outputs": [],
   "source": [
    "prefered_teachers_order_id = prefered_teachers_order_id.drop_duplicates().reset_index(drop=True)"
   ]
  },
  {
   "cell_type": "markdown",
   "id": "3b397d7d-8e0c-46a6-97f6-e954ceac35f1",
   "metadata": {},
   "source": [
    "#### Выводы и наблюдения\n",
    "- в таблице обнаружены дубликаты строк (0.001% от общего количества данных)\n",
    "- принято решение об удалении найденных повторов ввиду их малочисленности"
   ]
  },
  {
   "cell_type": "code",
   "execution_count": null,
   "id": "0aa6cfa3-9043-4beb-9a28-d597ed468678",
   "metadata": {},
   "outputs": [],
   "source": []
  },
  {
   "cell_type": "code",
   "execution_count": null,
   "id": "d0b7ea17-4de9-459e-9029-558372137b8b",
   "metadata": {},
   "outputs": [],
   "source": []
  },
  {
   "cell_type": "code",
   "execution_count": null,
   "id": "0ea45973-9897-488c-a499-066354c61f99",
   "metadata": {},
   "outputs": [],
   "source": []
  },
  {
   "cell_type": "code",
   "execution_count": null,
   "id": "a985d4c1-b697-438e-ae9f-c07bf0e6b08e",
   "metadata": {},
   "outputs": [],
   "source": []
  },
  {
   "cell_type": "code",
   "execution_count": null,
   "id": "0cd1bcc9-83f8-4d61-afef-f9bdc02704f8",
   "metadata": {},
   "outputs": [],
   "source": []
  },
  {
   "cell_type": "code",
   "execution_count": null,
   "id": "85d0a128-dec1-4433-aded-2cef0743aa2f",
   "metadata": {},
   "outputs": [],
   "source": []
  },
  {
   "cell_type": "code",
   "execution_count": null,
   "id": "eb3de6d4-8902-4307-a02d-11690a9e7a87",
   "metadata": {},
   "outputs": [],
   "source": []
  },
  {
   "cell_type": "code",
   "execution_count": null,
   "id": "b8104030-6801-44df-bb90-0ba4c0cb4386",
   "metadata": {},
   "outputs": [],
   "source": []
  },
  {
   "cell_type": "code",
   "execution_count": null,
   "id": "281933d3-bc51-4a9f-93c7-fe36ad302dfe",
   "metadata": {},
   "outputs": [],
   "source": []
  },
  {
   "cell_type": "markdown",
   "id": "dae7ae06-66a2-43d5-b72e-5f16b926bae7",
   "metadata": {},
   "source": [
    "## Выбор лучшей модели"
   ]
  },
  {
   "cell_type": "code",
   "execution_count": null,
   "id": "3fd1828a-c62f-4a9e-ab70-e1ba5da7ebb3",
   "metadata": {},
   "outputs": [],
   "source": [
    "dict_sum = {'Baseline': [roc_auc_baseline, precision_baseline],\n",
    "         'Catboost': [roc_auc_cb, precision_cb],\n",
    "         'LightGBM': [roc_auc_lgb, precision_lgb]}\n",
    "summary_data = (pd.DataFrame.from_dict(dict_sum, orient='index',\n",
    "                                      columns=[\"roc-auc\", \"precision\"]).reset_index()\n",
    "                                      .rename(columns={'index': 'model'})\n",
    "                                      )\n",
    "summary_data"
   ]
  },
  {
   "cell_type": "markdown",
   "id": "6d86efff-e28d-44f0-a4a5-99d1c77f93de",
   "metadata": {},
   "source": [
    "## Создание файла зависимостей"
   ]
  },
  {
   "cell_type": "code",
   "execution_count": null,
   "id": "9dbc8d10-ef72-49ec-9b2c-7131e9cf6258",
   "metadata": {},
   "outputs": [],
   "source": [
    "# !pipreqsnb operator_performance_analytics.ipynb"
   ]
  },
  {
   "cell_type": "markdown",
   "id": "bd3ed611-5363-4738-9b86-4162f77e1ca4",
   "metadata": {},
   "source": [
    "## Заключение"
   ]
  },
  {
   "cell_type": "code",
   "execution_count": null,
   "id": "3de0c169-511d-4d4d-a7b0-dcf56211ca3c",
   "metadata": {},
   "outputs": [],
   "source": []
  }
 ],
 "metadata": {
  "kernelspec": {
   "display_name": "Python 3 (ipykernel)",
   "language": "python",
   "name": "python3"
  },
  "language_info": {
   "codemirror_mode": {
    "name": "ipython",
    "version": 3
   },
   "file_extension": ".py",
   "mimetype": "text/x-python",
   "name": "python",
   "nbconvert_exporter": "python",
   "pygments_lexer": "ipython3",
   "version": "3.10.12"
  }
 },
 "nbformat": 4,
 "nbformat_minor": 5
}
