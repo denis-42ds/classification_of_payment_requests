{
 "cells": [
  {
   "cell_type": "markdown",
   "id": "fafc79b1-7618-4579-a88e-f9ed24059363",
   "metadata": {},
   "source": [
    "# Построение ML-продукта для оптимизации классификации заявок на оплату для сервиса Repetit.ru\n",
    "\n",
    "**Описание проекта**\n",
    "<br>Сервис Repetit.ru работает с большим количеством заявок от клиентов с данными о предмете, \n",
    "<br>желаемой стоимости, возрасте ученика, целью занятий и тд. \n",
    "<br>К сожалению, 7 из 8 не доходят до оплаты, при этом обработка заявки консультантом увеличивает конверсию в оплату на 30%. \n",
    "<br>Проблема в том, что консультантов не хватает на все заявки и получается, что чем больше заявок — \n",
    "<br>тем меньше конверсия из заявки в оплату и консультанты тратят время на бесперспективные заявки.\n",
    "\n",
    "**Задачи:**\n",
    "<br>Разработать модель, которая по имеющейся информации о клиенте и заявке будет предсказывать вероятность оплаты заявки клиентом. \n",
    "<br>Заказчик хочет понять, какие заявки будут оплачены, а какие нет, чтобы одни обрабатывать вручную консультантами, а другие нет. \n",
    "<br>Оценка качества модели будет производиться с использованием `precision` и `ROC-AUC`.\n",
    "\n",
    "**Ход исследования:**\n",
    "- загрузка данных и ознакомление с ними,\n",
    "- отбор подходящих признаков,\n",
    "- EDA,\n",
    "- создание новых признаков (при необходимости),\n",
    "- отбор финального набора обучающих признаков,\n",
    "- выбор и обучение моделей (разных архитектур),\n",
    "- оценка качества предсказания лучшей модели на тестовой выборке,\n",
    "- анализ важности признаков лучшей модели,\n",
    "- создание сервиса в виде Docker Container,\n",
    "- отчёт по проведённому исследованию.\n",
    "\n",
    "**Описание данных**\n",
    "- Заявки (orders*.csv)\n",
    "  - order_date - дата создания \n",
    "  - subject_id - предмет\n",
    "  - purpose - цель занятий\n",
    "  - lesson_price - цена\n",
    "  - lesson_duration - желаемая проодолжительность урока\n",
    "  - home_metro_id - ближайшее метро\n",
    "  - add_info - доп инфо\n",
    "  - start_date\n",
    "  - working_teacher_id\n",
    "  - status_id - оплачена ли заявка (значения 6 и 13 говорят о факте оплаты заявки)\n",
    "  - comments   \n",
    "  - amount_to_pay\n",
    "  - planned_lesson_number - клиент планирует N занятий\n",
    "  - first_lesson_date - дата 1 занятия\n",
    "  - coef - коэффициент\n",
    "  - creator_id - кто создал заявку (id сотрудника или клиента)\n",
    "  - pupil_category_new_id - возраст ученика\n",
    "  - lessons_per_week - занятий а неделю\n",
    "  - minimal_price\n",
    "  - teacher_sex - пол репетитора\n",
    "  - teacher_experience_from - опыт репетитора от\n",
    "  - teacher_experience_to- опыт репетитора до\n",
    "  - lesson_place_new - онлайн, у ученика, у учителя\n",
    "  - pupil_knowledgelvl -уровень знаний ученика\n",
    "  - teacher_age_from - желаемый возраст репеитора от\n",
    "  - teacher_age_to - желаемый возраст репеитора от\n",
    "  - chosen_teachers_only - не предлагать репетиторов кроме выбранных самостоятельно\n",
    "  - no_teachers_available - на заявку нет подходящих репов\n",
    "  - source_id - где создана заявка (какая часть сайта, не регион)\n",
    "  - original_order_id - дублем какой заявки является эта заявка\n",
    "  - client_id - айди клиента\n",
    "  - additional_status_id\n",
    "  - max_metro_distance - максимально готов ехать от метро\n",
    "  - estimated_fee \n",
    "  - payment_date\n",
    "  - test_group - аб тесты\n",
    "  - is_display_to_teachers - хочет ли клиент получать отклики репетиторов\n",
    "\n",
    "- Репетиторы (teacher_info.csv)\n",
    "  - date_update\n",
    "  - reg_date\n",
    "  - birth_date\n",
    "  - teaching_start_date\n",
    "  - user_id - айди\n",
    "  - is_email_confirmed\n",
    "  - is_home_lessons\n",
    "  - is_external_lessons\n",
    "  - external_comments\n",
    "  - lesson_duration - продолжит урока\n",
    "  - lesson_cost - стоимость урока\n",
    "  - status_id\n",
    "  - status_relevant_date\n",
    "  - status_school_id\n",
    "  - status_college_id\n",
    "  - status_display\n",
    "  - russian_level_id\n",
    "  - home_country_id\n",
    "  - education\n",
    "  - information\n",
    "  - is_confirmed\n",
    "  - is_display - показывается в каталоге\n",
    "  - rating_id \n",
    "  - rating - рейтинг\n",
    "  - comments\n",
    "  - rules_confirmed_date\n",
    "  - last_visited - послеждний визит\n",
    "  - is_pupils_needed - открыт для заявок\n",
    "  - is_cell_phone_confirmed\n",
    "  - effective_rating - какой-то еще рейтинг\n",
    "  - area_id\n",
    "  - registrar_id\n",
    "  - pupil_needed_date\n",
    "  - sex\n",
    "  - amount_to_pay - долг\n",
    "  - is_remote_lessons\n",
    "  - remote_comments\n",
    "  - show_on_map\n",
    "  - send_mailing\n",
    "  - send_suitable_orders\n",
    "  - rating_for_users - рейтинг 2\n",
    "  - rating_for_admin - рейтинг 3\n",
    "  - passport_id\n",
    "  - is_edited\n",
    "  - orders_allowed - разрешено назначать на заявки\n",
    "  - display_days\n",
    "  - verification_status_id\n",
    "  - is_individual\n",
    "  - partner_id\n",
    "  - star_rating - рейтинг 4\n",
    "  - rating_for_users_yesterday - рейтинг вчера\n",
    "  - review_num - отзывы\n",
    "  - relevance_date\n",
    "  - is_display_at_partners\n",
    "  - video_presentation_id - есть видеопрезентация\n",
    "  - status_institution_id\n",
    "  - Free_time_relevance_date\n",
    "\n",
    "\n",
    "- Подходящие по фильтру репетиторы (suitable_teachers.csv)\n",
    "  - tteacher_id - id репетитора\n",
    "  - order_id - id заявки\n",
    "  - contact_result    \n",
    "  - enable_auto_assign - доступен ли репетитор к работе или заблокирован\n",
    "    <br>(может ли репетитора назначить консультант и может ли он сам назначиться)\n",
    "    <br>(значение известно на момент подачи заявки)\n",
    "  - enable_assign - доступен ли репетитор к работе или заблокирован\n",
    "    <br>(может ли репетитора назначить консультант и может ли он сам назначиться)\n",
    "    <br>(значение известно на момент подачи заявки)\n",
    "\n",
    "\n",
    "- Желаемые репетиторы (prefered_teachers_order_id.csv)\n",
    "  <br>Репетиторы, которых выбрал клиент.\n",
    "  - tteacher_id - id репетитора\n",
    "  - order_id - id заявки"
   ]
  },
  {
   "cell_type": "markdown",
   "id": "d190daae-10d5-4ff4-91ee-491fe808ce6f",
   "metadata": {},
   "source": [
    "## Импорт библиотек"
   ]
  },
  {
   "cell_type": "code",
   "execution_count": 9,
   "id": "bcf86d0b-8897-4f36-8e19-d87476be2fc5",
   "metadata": {},
   "outputs": [],
   "source": [
    "import shap\n",
    "import phik\n",
    "import torch\n",
    "import random\n",
    "import warnings\n",
    "import numpy as np\n",
    "import pandas as pd\n",
    "import lightgbm as lgb\n",
    "import matplotlib.pyplot as plt\n",
    "\n",
    "from catboost import CatBoostClassifier, Pool\n",
    "from phik.report import plot_correlation_matrix\n",
    "from sklearn.linear_model import LogisticRegression\n",
    "from sklearn.model_selection import train_test_split\n",
    "from sklearn.preprocessing import OrdinalEncoder, StandardScaler\n",
    "from sklearn.metrics import roc_curve, roc_auc_score, precision_score \n",
    "\n",
    "warnings.filterwarnings(\"ignore\", category=UserWarning)"
   ]
  },
  {
   "cell_type": "markdown",
   "id": "462e4196-c967-47ec-8765-42cb78595cc2",
   "metadata": {},
   "source": [
    "Подключение к GPU"
   ]
  },
  {
   "cell_type": "code",
   "execution_count": 6,
   "id": "4c9385bd-8c3d-4328-9760-68ae2f8466a3",
   "metadata": {},
   "outputs": [],
   "source": [
    "device = torch.device(\"cuda\" if torch.cuda.is_available() else \"cpu\")"
   ]
  },
  {
   "cell_type": "markdown",
   "id": "abac2610-e8d8-4ad0-9dd3-57e796575ef0",
   "metadata": {},
   "source": [
    "Установка констант"
   ]
  },
  {
   "cell_type": "code",
   "execution_count": 8,
   "id": "e0347b25-266c-4f9a-8c18-bf087221661f",
   "metadata": {},
   "outputs": [],
   "source": [
    "RANDOM_STATE = 42"
   ]
  },
  {
   "cell_type": "markdown",
   "id": "1b807ba0-fe1c-41a8-bb40-4b08ccce8d51",
   "metadata": {},
   "source": [
    "Установка `random_state`"
   ]
  },
  {
   "cell_type": "code",
   "execution_count": 10,
   "id": "3f25f699-33f3-4629-b01c-17491e229016",
   "metadata": {},
   "outputs": [],
   "source": [
    "random.seed(RANDOM_STATE)\n",
    "np.random.seed(RANDOM_STATE)"
   ]
  },
  {
   "cell_type": "markdown",
   "id": "bf35ad81-4b4e-491b-9fe5-7d811bb61a90",
   "metadata": {},
   "source": [
    "## Загрузка данных"
   ]
  },
  {
   "cell_type": "code",
   "execution_count": null,
   "id": "791d7727-9507-4050-b7fc-9ddc1aef879b",
   "metadata": {},
   "outputs": [],
   "source": [
    "orders = pd.read_csv('data/orders.csv')\n",
    "teacher_info = pd.read_csv('data/teacher_info.csv')\n",
    "suitable_teachers = pd.read_csv('data/suitable_teachers.csv')\n",
    "prefered_teachers_order_id = pd.read_csv('data/prefered_teachers_order_id.csv')"
   ]
  },
  {
   "cell_type": "code",
   "execution_count": null,
   "id": "d94c2ed5-f070-477e-8840-963f539a1a95",
   "metadata": {},
   "outputs": [],
   "source": []
  },
  {
   "cell_type": "code",
   "execution_count": null,
   "id": "a64289a8-6b70-4ced-afc9-6f8b699aff17",
   "metadata": {},
   "outputs": [],
   "source": []
  },
  {
   "cell_type": "code",
   "execution_count": null,
   "id": "c3be1df3-dfc6-4e55-9950-6a532739ceb4",
   "metadata": {},
   "outputs": [],
   "source": []
  },
  {
   "cell_type": "code",
   "execution_count": null,
   "id": "abaf4430-67c7-4cfb-9f27-6ee887268e67",
   "metadata": {},
   "outputs": [],
   "source": []
  },
  {
   "cell_type": "markdown",
   "id": "dae7ae06-66a2-43d5-b72e-5f16b926bae7",
   "metadata": {},
   "source": [
    "## Выбор лучшей модели"
   ]
  },
  {
   "cell_type": "code",
   "execution_count": null,
   "id": "3fd1828a-c62f-4a9e-ab70-e1ba5da7ebb3",
   "metadata": {},
   "outputs": [],
   "source": [
    "dict_sum = {'Baseline': [roc_auc_baseline, precision_baseline],\n",
    "         'Catboost': [roc_auc_cb, precision_cb],\n",
    "         'LightGBM': [roc_auc_lgb, precision_lgb]}\n",
    "summary_data = (pd.DataFrame.from_dict(dict_sum, orient='index',\n",
    "                                      columns=[\"roc-auc\", \"precision\"]).reset_index()\n",
    "                                      .rename(columns={'index': 'model'})\n",
    "                                      )\n",
    "summary_data"
   ]
  },
  {
   "cell_type": "markdown",
   "id": "6d86efff-e28d-44f0-a4a5-99d1c77f93de",
   "metadata": {},
   "source": [
    "## Создание файла зависимостей"
   ]
  },
  {
   "cell_type": "code",
   "execution_count": null,
   "id": "9dbc8d10-ef72-49ec-9b2c-7131e9cf6258",
   "metadata": {},
   "outputs": [],
   "source": [
    "# !pipreqsnb operator_performance_analytics.ipynb"
   ]
  },
  {
   "cell_type": "markdown",
   "id": "bd3ed611-5363-4738-9b86-4162f77e1ca4",
   "metadata": {},
   "source": [
    "## Заключение"
   ]
  },
  {
   "cell_type": "code",
   "execution_count": null,
   "id": "3de0c169-511d-4d4d-a7b0-dcf56211ca3c",
   "metadata": {},
   "outputs": [],
   "source": []
  }
 ],
 "metadata": {
  "kernelspec": {
   "display_name": "Python 3 (ipykernel)",
   "language": "python",
   "name": "python3"
  },
  "language_info": {
   "codemirror_mode": {
    "name": "ipython",
    "version": 3
   },
   "file_extension": ".py",
   "mimetype": "text/x-python",
   "name": "python",
   "nbconvert_exporter": "python",
   "pygments_lexer": "ipython3",
   "version": "3.10.12"
  }
 },
 "nbformat": 4,
 "nbformat_minor": 5
}
